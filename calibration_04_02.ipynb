{
 "cells": [
  {
   "cell_type": "markdown",
   "metadata": {
    "collapsed": true
   },
   "source": [
    "# Are you on PC or MAC? pc = 0, mac = 1"
   ]
  },
  {
   "cell_type": "code",
   "execution_count": 1,
   "metadata": {},
   "outputs": [],
   "source": [
    "computer = 1\n",
    "#! source activate tensorflow"
   ]
  },
  {
   "cell_type": "markdown",
   "metadata": {},
   "source": [
    "# 1) Libraries"
   ]
  },
  {
   "cell_type": "code",
   "execution_count": 2,
   "metadata": {},
   "outputs": [],
   "source": [
    "%matplotlib inline\n",
    "\n",
    "import matplotlib\n",
    "import matplotlib.pyplot as plt\n",
    "import matplotlib.dates as md\n",
    "import numpy as np\n",
    "import pandas_datareader.data as web\n",
    "import datetime\n",
    "import pandas as pd\n",
    "import os\n",
    "import csv\n",
    "import glob as glob\n",
    "import tensorflow as tf\n",
    "from sklearn.preprocessing import MinMaxScaler\n",
    "from time import time\n",
    "\n",
    "matplotlib.rcParams[ 'figure.figsize' ] = ( 20, 6 )"
   ]
  },
  {
   "cell_type": "markdown",
   "metadata": {},
   "source": [
    "# 2) Import"
   ]
  },
  {
   "cell_type": "code",
   "execution_count": 3,
   "metadata": {},
   "outputs": [],
   "source": [
    "# Comprehensive way to set the path to Data directory\n",
    "\n",
    "ROOTPATH = os.getcwd()\n",
    "\n",
    "path_data = os.path.join(ROOTPATH, 'data')\n",
    "path_train = os.path.join(path_data, 'train_set')\n",
    "path_test = os.path.join(path_data, 'test_set')\n",
    "path_validation = os.path.join(path_data, 'validation_set')"
   ]
  },
  {
   "cell_type": "markdown",
   "metadata": {},
   "source": [
    "## Import the list of tickers"
   ]
  },
  {
   "cell_type": "code",
   "execution_count": 4,
   "metadata": {},
   "outputs": [],
   "source": [
    "if computer == 0:\n",
    "    with open('IBB_holdings.csv', 'r') as csvfile:\n",
    "        file = csv.reader(csvfile,delimiter=' ')\n",
    "        c=0\n",
    "        list_tickers=[]\n",
    "        for row in file:\n",
    "            if c>=11:\n",
    "                list_tickers.append(row[0].split(',')[0])\n",
    "            c+=1\n",
    "\n",
    "if computer == 1:\n",
    "    with open('IBB_holdings.csv', 'r', encoding ='mac_roman') as csvfile:\n",
    "        file = csv.reader(csvfile,delimiter=' ')\n",
    "        c=0\n",
    "        list_tickers=[]\n",
    "        for row in file:\n",
    "            if c>=11:\n",
    "                list_tickers.append(row[0].split(',')[0])\n",
    "            c+=1            \n",
    "\n",
    "list_tickers.sort()\n",
    "list_tickers.pop()\n",
    "list_tickers.remove(\"BLKFDS\")\n",
    "list_tickers.remove(\"USD\")\n",
    "list_tickers.remove(\"SNDX\")"
   ]
  },
  {
   "cell_type": "markdown",
   "metadata": {},
   "source": [
    "## Importing functions"
   ]
  },
  {
   "cell_type": "code",
   "execution_count": 5,
   "metadata": {},
   "outputs": [],
   "source": [
    "def get_data(path):\n",
    "    list_dataframes=[]\n",
    "    allFiles = glob.glob(path + \"/csv\" + \"*.csv\")\n",
    "    i = 0\n",
    "    list_tickers = []\n",
    "    \n",
    "    if computer == 0:\n",
    "        for file_ in allFiles:\n",
    "            with open(file_, 'r') as csvfile:\n",
    "                list_dataframes.append(pd.read_csv(csvfile, index_col=None, header=0))\n",
    "                list_tickers.append(file_.split('_')[4])\n",
    "                i+=1\n",
    "\n",
    "    if computer == 1:\n",
    "        for file_ in allFiles:\n",
    "            with open(file_, 'r', encoding ='mac_roman') as csvfile:\n",
    "                list_dataframes.append(pd.read_csv(csvfile, index_col=None, header=0))\n",
    "                list_tickers.append(file_.split('_')[4])\n",
    "                i += 1\n",
    "    \n",
    "    num_files = i\n",
    "    \n",
    "    return num_files, list_dataframes, list_tickers\n"
   ]
  },
  {
   "cell_type": "code",
   "execution_count": 6,
   "metadata": {},
   "outputs": [],
   "source": [
    "def normalize_data(num_files, list_dataframes, list_tickers):\n",
    "    \n",
    "    maxi = 0\n",
    "    length = 0\n",
    "    compt = 0\n",
    "    j = 0\n",
    "    \n",
    "    for df in list_dataframes:\n",
    "        if len(df) > maxi:\n",
    "            maxi = len(df['Adj Close'])\n",
    "    \n",
    "    data = np.array([np.zeros(maxi)]*(num_files))\n",
    "    data_normalized = np.array([np.zeros(maxi)]*(num_files))\n",
    "    \n",
    "    i = 0\n",
    "    \n",
    "    for df in list_dataframes:\n",
    "        arr = np.array(df['Adj Close'])\n",
    "        if len(arr) == maxi and not df['Adj Close'].isnull().values.any(): \n",
    "            data[j] = arr\n",
    "            minimum = np.min(arr)\n",
    "            maximum = np.max(arr)\n",
    "            arr = (arr - minimum) / (maximum - minimum)\n",
    "            data_normalized[j] = arr\n",
    "            j += 1\n",
    "        else:\n",
    "            list_tickers.pop(i)\n",
    "            compt += 1\n",
    "            i-=1\n",
    "        i += 1\n",
    "    \n",
    "    return data_normalized[:-compt], data[:-compt], list_tickers"
   ]
  },
  {
   "cell_type": "markdown",
   "metadata": {},
   "source": [
    "## Create training, validation and testing set"
   ]
  },
  {
   "cell_type": "code",
   "execution_count": 7,
   "metadata": {},
   "outputs": [],
   "source": [
    "train_setDf = get_data(path_train)\n",
    "\n",
    "validation_setDf = get_data(path_validation)\n",
    "\n",
    "test_setDf = get_data(path_test)\n",
    "\n",
    "cross_setDf = (train_setDf[0] + test_setDf[0], train_setDf[1] + test_setDf[1], train_setDf[2] + test_setDf[2])"
   ]
  },
  {
   "cell_type": "code",
   "execution_count": 8,
   "metadata": {
    "scrolled": true
   },
   "outputs": [
    {
     "name": "stdout",
     "output_type": "stream",
     "text": [
      "train_setData is of length :  114\n",
      "test_setData is of length :  28\n",
      "validation_setData is of length :  27\n",
      "cross_setData is of length :  142\n"
     ]
    }
   ],
   "source": [
    "train_setData_n, train_setData, list_tickers_train = normalize_data(train_setDf[0], train_setDf[1], train_setDf[2])\n",
    "\n",
    "validation_setData_n, validation_setData, list_tickers_val = normalize_data(validation_setDf[0], validation_setDf[1], validation_setDf[2])\n",
    "\n",
    "test_setData_n, test_setData, list_tickers_test = normalize_data(test_setDf[0], test_setDf[1], test_setDf[2])\n",
    "\n",
    "cross_setData_n, cross_setData, list_tickers_cross = normalize_data(cross_setDf[0], cross_setDf[1], cross_setDf[2])\n",
    "\n",
    "print(\"train_setData is of length : \",len(train_setData))\n",
    "print(\"test_setData is of length : \",len(test_setData))\n",
    "print(\"validation_setData is of length : \",len(validation_setData))\n",
    "print(\"cross_setData is of length : \",len(cross_setData))"
   ]
  },
  {
   "cell_type": "markdown",
   "metadata": {},
   "source": [
    "# Encoding phase"
   ]
  },
  {
   "cell_type": "markdown",
   "metadata": {},
   "source": [
    "# 3) Functions"
   ]
  },
  {
   "cell_type": "markdown",
   "metadata": {},
   "source": [
    "## Initializing functions"
   ]
  },
  {
   "cell_type": "code",
   "execution_count": 9,
   "metadata": {},
   "outputs": [],
   "source": [
    "def weight_variable(num_input, num_output):\n",
    "    weight_init = tf.random_normal_initializer(stddev=1.0/np.sqrt(num_input))\n",
    "    weight_shape = [num_input, num_output]\n",
    "    W = tf.get_variable('W', weight_shape, initializer = weight_init)\n",
    "    return(W)\n",
    "\n",
    "def bias_variable(num_output):\n",
    "    bias_init = tf.constant_initializer(value = 0)\n",
    "    bias_shape = [num_output]\n",
    "    b = tf.get_variable('b', bias_shape, initializer = bias_init)\n",
    "    return(b)"
   ]
  },
  {
   "cell_type": "markdown",
   "metadata": {},
   "source": [
    "## Fetch data functions"
   ]
  },
  {
   "cell_type": "code",
   "execution_count": 10,
   "metadata": {},
   "outputs": [],
   "source": [
    "def find_ticker_batch(batch, data_norm, list_tickers):\n",
    "    true = batch\n",
    "    index = -1\n",
    "    i = 0\n",
    "    while index < 0:\n",
    "        if data_norm[i][100] - true[100] == 0:\n",
    "            index = i\n",
    "        i += 1\n",
    "    ticker = list_tickers[index]\n",
    "    return(ticker, index)"
   ]
  },
  {
   "cell_type": "markdown",
   "metadata": {},
   "source": [
    "## Tensorboard functions"
   ]
  },
  {
   "cell_type": "code",
   "execution_count": 11,
   "metadata": {},
   "outputs": [],
   "source": [
    "def variable_summary_light(var):\n",
    "    with tf.variable_scope('summaries'):\n",
    "        mean = tf.reduce_mean(var)\n",
    "        tf.summary.scalar('mean', mean)\n",
    "        with tf.name_scope('stddev'):\n",
    "            stddev = tf.sqrt(tf.reduce_mean(tf.square(var - mean)))\n",
    "        tf.summary.scalar('stddev', stddev)"
   ]
  },
  {
   "cell_type": "code",
   "execution_count": 12,
   "metadata": {},
   "outputs": [],
   "source": [
    "def variable_summary(var):\n",
    "    with tf.name_scope('summaries'):\n",
    "        mean = tf.reduce_mean(var)\n",
    "        tf.summary.scalar('mean', mean)\n",
    "        with tf.name_scope('stddev'):\n",
    "            stddev = tf.sqrt(tf.reduce_mean(tf.square(var - mean)))\n",
    "        tf.summary.scalar('stddev', stddev)\n",
    "        tf.summary.scalar('max', tf.reduce_max(var))\n",
    "        tf.summary.scalar('min', tf.reduce_min(var))\n",
    "        tf.summary.histogram('histogram', var)"
   ]
  },
  {
   "cell_type": "code",
   "execution_count": 13,
   "metadata": {},
   "outputs": [],
   "source": [
    "def create_summaries(loss, x, latent, output):\n",
    "    writer = tf.summary.FileWriter(\"./logs\")\n",
    "    tf.summary.scalar(\"Loss\", loss)\n",
    "    layer_grid_summary(\"Input\", x, [28, 28])\n",
    "    layer_grid_summary(\"Encoder\", latent, [2, 1])\n",
    "    layer_grid_summary(\"Output\", output, [28, 28])\n",
    "    return writer, tf.summary.merge_all()"
   ]
  },
  {
   "cell_type": "markdown",
   "metadata": {},
   "source": [
    "## Training functions"
   ]
  },
  {
   "cell_type": "code",
   "execution_count": 14,
   "metadata": {},
   "outputs": [],
   "source": [
    "def next_batch(batch_size, data, labels):\n",
    "    '''\n",
    "    Return a total of `num` random samples and labels. \n",
    "    '''\n",
    "    idx = np.arange(0 , len(data))\n",
    "    np.random.shuffle(idx)\n",
    "    idx = idx[:batch_size]\n",
    "    data_shuffle = [data[i] for i in idx]\n",
    "    labels_shuffle = [labels[i] for i in idx]\n",
    "\n",
    "    return np.array(data_shuffle), np.array(labels_shuffle)"
   ]
  },
  {
   "cell_type": "code",
   "execution_count": 15,
   "metadata": {},
   "outputs": [],
   "source": [
    "def next_fold(i, cross_len):\n",
    "    \n",
    "    n = len(cross_setData_n)\n",
    "    if cross_len > 1:\n",
    "        test_len = int(n / cross_len)\n",
    "        init = (i - 1) * test_len\n",
    "        end = i * test_len\n",
    "\n",
    "        test_setDn = cross_setData_n[init:end]\n",
    "        train_setDn = np.concatenate((cross_setData_n[0:init] ,cross_setData_n[end:n]),axis = 0)\n",
    "\n",
    "        list_tickers_cross_test = list_tickers_cross[init:end]\n",
    "        list_tickers_cross_train = np.concatenate((list_tickers_cross[0:init] ,list_tickers_cross[end:n]),axis = 0)\n",
    "\n",
    "        test_setD = cross_setData[init:end]\n",
    "        train_setD = np.concatenate((cross_setData[0:init] ,cross_setData[end:n]),axis = 0)\n",
    "    else:\n",
    "        train_setDn = train_setData_n\n",
    "        test_setDn = test_setData_n\n",
    "        list_tickers_cross_train = list_tickers_train\n",
    "        list_tickers_cross_test = list_tickers_test\n",
    "        train_setD = train_setData\n",
    "        test_setD = test_setData\n",
    "        \n",
    "    return train_setDn, test_setDn, list_tickers_cross_train, list_tickers_cross_test, train_setD, test_setD"
   ]
  },
  {
   "cell_type": "code",
   "execution_count": 16,
   "metadata": {},
   "outputs": [],
   "source": [
    "def layer_batch_normalization(x, n_out, phase_train):\n",
    "\n",
    "    beta_init = tf.constant_initializer(value=0.0, dtype=tf.float32)\n",
    "    beta = tf.get_variable(\"beta\", [n_out], initializer=beta_init)\n",
    "    \n",
    "    gamma_init = tf.constant_initializer(value=1.0, dtype=tf.float32)\n",
    "    gamma = tf.get_variable(\"gamma\", [n_out], initializer=gamma_init)\n",
    "\n",
    "    batch_mean, batch_var = tf.nn.moments(x, [0], name='moments')\n",
    "    \n",
    "    ema = tf.train.ExponentialMovingAverage(decay=0.9)\n",
    "    ema_apply_op = ema.apply([batch_mean, batch_var])\n",
    "    ema_mean, ema_var = ema.average(batch_mean), ema.average(batch_var)\n",
    "    \n",
    "    def mean_var_with_update():\n",
    "        with tf.control_dependencies([ema_apply_op]):\n",
    "            return tf.identity(batch_mean), tf.identity(batch_var)\n",
    "        \n",
    "    mean, var = tf.cond(phase_train, mean_var_with_update, lambda: (ema_mean, ema_var))\n",
    "\n",
    "    reshaped_x = tf.reshape(x, [-1, 1, 1, n_out])\n",
    "    normed = tf.nn.batch_norm_with_global_normalization(reshaped_x, mean, var, beta, gamma, 1e-3, True)\n",
    "    \n",
    "    return tf.reshape(normed, [-1, n_out])"
   ]
  },
  {
   "cell_type": "markdown",
   "metadata": {},
   "source": [
    "## Building functions"
   ]
  },
  {
   "cell_type": "code",
   "execution_count": 17,
   "metadata": {},
   "outputs": [],
   "source": [
    "def layer(input_tensor, num_input, num_output, phase_train, layer_name, bool_drop):\n",
    "    with tf.variable_scope(layer_name):\n",
    "        with tf.variable_scope('weights'):\n",
    "            W = weight_variable(num_input, num_output)\n",
    "            variable_summary_light(W)\n",
    "    \n",
    "        with tf.variable_scope('biases'):\n",
    "            b = bias_variable(num_output)\n",
    "            variable_summary_light(W)\n",
    "            \n",
    "        \n",
    "        if bool_drop:\n",
    "            dropped_or_not = dropout(input_tensor, keep_prob)\n",
    "        else:\n",
    "            dropped_or_not = input_tensor\n",
    "            \n",
    "        logits = tf.matmul(dropped_or_not, W) + b\n",
    "            \n",
    "    return tf.nn.relu(layer_batch_normalization(logits, num_output, phase_train)), W"
   ]
  },
  {
   "cell_type": "code",
   "execution_count": 18,
   "metadata": {},
   "outputs": [],
   "source": [
    "def encoder(input_tensor, n_code, phase_train):\n",
    "    with tf.variable_scope(\"encode\"):\n",
    "        \n",
    "        with tf.variable_scope('h_1'):\n",
    "            h_1, W_e_1 = layer(input_tensor, num_input, num_encode_1, phase_train, \"encoder\", False)\n",
    "            \n",
    "        with tf.variable_scope('output'):\n",
    "            output, W_e_2 = layer(h_1, num_encode_1, n_code, phase_train, \"encoder\",True)\n",
    "            \n",
    "    return output, W_e_2\n",
    "\n",
    "def decoder(input_tensor, n_code, phase_train):\n",
    "    with tf.variable_scope(\"decode\"):\n",
    "        \n",
    "        with tf.variable_scope('h_1'):\n",
    "            h_1, W_d_1 = layer(input_tensor, n_code, num_decode_1, phase_train, \"encoder\",True)\n",
    "        \n",
    "        with tf.variable_scope('output'):\n",
    "            output, W_d_2 = layer(h_1, num_decode_1, num_output, phase_train, \"decoder\",False)\n",
    "            \n",
    "    return output, W_d_2\n"
   ]
  },
  {
   "cell_type": "code",
   "execution_count": 19,
   "metadata": {},
   "outputs": [],
   "source": [
    "def dropout(encoder_op, keep_prob):\n",
    "    with tf.variable_scope(\"dropped\"):\n",
    "        dropped = tf.nn.dropout(encoder_op, keep_prob)\n",
    "    return dropped"
   ]
  },
  {
   "cell_type": "code",
   "execution_count": 20,
   "metadata": {},
   "outputs": [],
   "source": [
    "def mse(output, x):\n",
    "    with tf.variable_scope('mse'):\n",
    "        mse = tf.squared_difference(output, x)\n",
    "    return mse"
   ]
  },
  {
   "cell_type": "code",
   "execution_count": 21,
   "metadata": {},
   "outputs": [],
   "source": [
    "def regularizer(W_e, W_d):\n",
    "    with tf.variable_scope(\"regularizer\"):\n",
    "        regularizer = tf.nn.l2_loss(W_e) + tf.nn.l2_loss(W_d)\n",
    "    return regularizer"
   ]
  },
  {
   "cell_type": "code",
   "execution_count": 22,
   "metadata": {},
   "outputs": [],
   "source": [
    "def loss(mse, regularizer, lambd, num_input, batch_size):\n",
    "    with tf.variable_scope(\"loss\"):\n",
    "        loss = tf.reduce_sum(mse + lambd * regularizer)/(num_input * batch_size * 2)\n",
    "    return loss"
   ]
  },
  {
   "cell_type": "code",
   "execution_count": 23,
   "metadata": {},
   "outputs": [],
   "source": [
    "def training(loss, learning_rate):\n",
    "    optimizer = tf.train.AdamOptimizer(learning_rate)\n",
    "    train_op = optimizer.minimize(loss)\n",
    "    return train_op"
   ]
  },
  {
   "cell_type": "code",
   "execution_count": 24,
   "metadata": {},
   "outputs": [],
   "source": [
    "def evaluate(output, x):\n",
    "    with tf.variable_scope('validation'):\n",
    "        \n",
    "        l2_norm = tf.sqrt(tf.reduce_sum(tf.square(tf.subtract(output, x, name=\"val_diff\")), 1))\n",
    "        \n",
    "        val_loss = tf.reduce_mean(l2_norm)\n",
    "        \n",
    "        val_summary_op = tf.summary.scalar(\"val_cost\", val_loss)\n",
    "        \n",
    "        return val_loss, val_summary_op"
   ]
  },
  {
   "cell_type": "markdown",
   "metadata": {},
   "source": [
    "# 4) Training"
   ]
  },
  {
   "cell_type": "markdown",
   "metadata": {},
   "source": [
    "## Parameters"
   ]
  },
  {
   "cell_type": "code",
   "execution_count": 210,
   "metadata": {},
   "outputs": [],
   "source": [
    "# Training Parameters\n",
    "learning_rate = 0.0008\n",
    "num_steps = 1000\n",
    "batch_size = 10\n",
    "lambd = 0.12\n",
    "val_dropout = 0.89\n",
    "\n",
    "display_step = 100\n",
    "\n",
    "cross_len = 4\n",
    "\n",
    "# Network Parameters \n",
    "\n",
    "num_input = 503 # 503 days considered\n",
    "num_encode_1 = 250 # 1st layer of encode\n",
    "n_code = 5  # bottleneck layer\n",
    "num_decode_1 = 250 # 1st layer of decode\n",
    "num_output = num_input\n",
    "\n",
    "\n",
    "date = str(int(time()))\n",
    "\n",
    "logs_path = '/tmp/tensorflow_logs/autoencoder1/'+date+'/'"
   ]
  },
  {
   "cell_type": "markdown",
   "metadata": {},
   "source": [
    "## Run the training"
   ]
  },
  {
   "cell_type": "code",
   "execution_count": 211,
   "metadata": {},
   "outputs": [
    {
     "name": "stdout",
     "output_type": "stream",
     "text": [
      "Step 1 and Iteration 1: Minibatch Loss: 12.567201\n",
      "Estimated remaining time =  31796.87266945839 s\n",
      "\n",
      "Step 100 and Iteration 1: Minibatch Loss: 0.035685\n",
      "Estimated remaining time =  733.1196513175964 s\n",
      "\n",
      "Step 200 and Iteration 1: Minibatch Loss: 0.036560\n",
      "Estimated remaining time =  570.851921081543 s\n",
      "\n"
     ]
    },
    {
     "ename": "KeyboardInterrupt",
     "evalue": "",
     "output_type": "error",
     "traceback": [
      "\u001b[0;31m---------------------------------------------------------------------------\u001b[0m",
      "\u001b[0;31mKeyboardInterrupt\u001b[0m                         Traceback (most recent call last)",
      "\u001b[0;32m<ipython-input-211-75505555dd80>\u001b[0m in \u001b[0;36m<module>\u001b[0;34m()\u001b[0m\n\u001b[1;32m     71\u001b[0m \u001b[0;34m\u001b[0m\u001b[0m\n\u001b[1;32m     72\u001b[0m                     _, l, summary = sess_list[iteration-1].run([train_op, cost, summary_op], \n\u001b[0;32m---> 73\u001b[0;31m                                 feed_dict={x: mini_batch_x, phase_train: True, keep_prob: val_dropout})\n\u001b[0m\u001b[1;32m     74\u001b[0m                 \u001b[0mtotal_loss\u001b[0m\u001b[0;34m[\u001b[0m\u001b[0miteration\u001b[0m\u001b[0;34m-\u001b[0m\u001b[0;36m1\u001b[0m\u001b[0;34m]\u001b[0m\u001b[0;34m[\u001b[0m\u001b[0mi\u001b[0m\u001b[0;34m-\u001b[0m\u001b[0;36m1\u001b[0m\u001b[0;34m]\u001b[0m \u001b[0;34m=\u001b[0m \u001b[0ml\u001b[0m\u001b[0;34m\u001b[0m\u001b[0m\n\u001b[1;32m     75\u001b[0m                 \u001b[0msteps\u001b[0m\u001b[0;34m[\u001b[0m\u001b[0mi\u001b[0m\u001b[0;34m-\u001b[0m\u001b[0;36m1\u001b[0m\u001b[0;34m]\u001b[0m \u001b[0;34m=\u001b[0m \u001b[0mi\u001b[0m\u001b[0;34m\u001b[0m\u001b[0m\n",
      "\u001b[0;32m/Library/Frameworks/Python.framework/Versions/3.6/lib/python3.6/site-packages/tensorflow/python/client/session.py\u001b[0m in \u001b[0;36mrun\u001b[0;34m(self, fetches, feed_dict, options, run_metadata)\u001b[0m\n\u001b[1;32m    893\u001b[0m     \u001b[0;32mtry\u001b[0m\u001b[0;34m:\u001b[0m\u001b[0;34m\u001b[0m\u001b[0m\n\u001b[1;32m    894\u001b[0m       result = self._run(None, fetches, feed_dict, options_ptr,\n\u001b[0;32m--> 895\u001b[0;31m                          run_metadata_ptr)\n\u001b[0m\u001b[1;32m    896\u001b[0m       \u001b[0;32mif\u001b[0m \u001b[0mrun_metadata\u001b[0m\u001b[0;34m:\u001b[0m\u001b[0;34m\u001b[0m\u001b[0m\n\u001b[1;32m    897\u001b[0m         \u001b[0mproto_data\u001b[0m \u001b[0;34m=\u001b[0m \u001b[0mtf_session\u001b[0m\u001b[0;34m.\u001b[0m\u001b[0mTF_GetBuffer\u001b[0m\u001b[0;34m(\u001b[0m\u001b[0mrun_metadata_ptr\u001b[0m\u001b[0;34m)\u001b[0m\u001b[0;34m\u001b[0m\u001b[0m\n",
      "\u001b[0;32m/Library/Frameworks/Python.framework/Versions/3.6/lib/python3.6/site-packages/tensorflow/python/client/session.py\u001b[0m in \u001b[0;36m_run\u001b[0;34m(self, handle, fetches, feed_dict, options, run_metadata)\u001b[0m\n\u001b[1;32m   1126\u001b[0m     \u001b[0;32mif\u001b[0m \u001b[0mfinal_fetches\u001b[0m \u001b[0;32mor\u001b[0m \u001b[0mfinal_targets\u001b[0m \u001b[0;32mor\u001b[0m \u001b[0;34m(\u001b[0m\u001b[0mhandle\u001b[0m \u001b[0;32mand\u001b[0m \u001b[0mfeed_dict_tensor\u001b[0m\u001b[0;34m)\u001b[0m\u001b[0;34m:\u001b[0m\u001b[0;34m\u001b[0m\u001b[0m\n\u001b[1;32m   1127\u001b[0m       results = self._do_run(handle, final_targets, final_fetches,\n\u001b[0;32m-> 1128\u001b[0;31m                              feed_dict_tensor, options, run_metadata)\n\u001b[0m\u001b[1;32m   1129\u001b[0m     \u001b[0;32melse\u001b[0m\u001b[0;34m:\u001b[0m\u001b[0;34m\u001b[0m\u001b[0m\n\u001b[1;32m   1130\u001b[0m       \u001b[0mresults\u001b[0m \u001b[0;34m=\u001b[0m \u001b[0;34m[\u001b[0m\u001b[0;34m]\u001b[0m\u001b[0;34m\u001b[0m\u001b[0m\n",
      "\u001b[0;32m/Library/Frameworks/Python.framework/Versions/3.6/lib/python3.6/site-packages/tensorflow/python/client/session.py\u001b[0m in \u001b[0;36m_do_run\u001b[0;34m(self, handle, target_list, fetch_list, feed_dict, options, run_metadata)\u001b[0m\n\u001b[1;32m   1342\u001b[0m     \u001b[0;32mif\u001b[0m \u001b[0mhandle\u001b[0m \u001b[0;32mis\u001b[0m \u001b[0;32mNone\u001b[0m\u001b[0;34m:\u001b[0m\u001b[0;34m\u001b[0m\u001b[0m\n\u001b[1;32m   1343\u001b[0m       return self._do_call(_run_fn, self._session, feeds, fetches, targets,\n\u001b[0;32m-> 1344\u001b[0;31m                            options, run_metadata)\n\u001b[0m\u001b[1;32m   1345\u001b[0m     \u001b[0;32melse\u001b[0m\u001b[0;34m:\u001b[0m\u001b[0;34m\u001b[0m\u001b[0m\n\u001b[1;32m   1346\u001b[0m       \u001b[0;32mreturn\u001b[0m \u001b[0mself\u001b[0m\u001b[0;34m.\u001b[0m\u001b[0m_do_call\u001b[0m\u001b[0;34m(\u001b[0m\u001b[0m_prun_fn\u001b[0m\u001b[0;34m,\u001b[0m \u001b[0mself\u001b[0m\u001b[0;34m.\u001b[0m\u001b[0m_session\u001b[0m\u001b[0;34m,\u001b[0m \u001b[0mhandle\u001b[0m\u001b[0;34m,\u001b[0m \u001b[0mfeeds\u001b[0m\u001b[0;34m,\u001b[0m \u001b[0mfetches\u001b[0m\u001b[0;34m)\u001b[0m\u001b[0;34m\u001b[0m\u001b[0m\n",
      "\u001b[0;32m/Library/Frameworks/Python.framework/Versions/3.6/lib/python3.6/site-packages/tensorflow/python/client/session.py\u001b[0m in \u001b[0;36m_do_call\u001b[0;34m(self, fn, *args)\u001b[0m\n\u001b[1;32m   1348\u001b[0m   \u001b[0;32mdef\u001b[0m \u001b[0m_do_call\u001b[0m\u001b[0;34m(\u001b[0m\u001b[0mself\u001b[0m\u001b[0;34m,\u001b[0m \u001b[0mfn\u001b[0m\u001b[0;34m,\u001b[0m \u001b[0;34m*\u001b[0m\u001b[0margs\u001b[0m\u001b[0;34m)\u001b[0m\u001b[0;34m:\u001b[0m\u001b[0;34m\u001b[0m\u001b[0m\n\u001b[1;32m   1349\u001b[0m     \u001b[0;32mtry\u001b[0m\u001b[0;34m:\u001b[0m\u001b[0;34m\u001b[0m\u001b[0m\n\u001b[0;32m-> 1350\u001b[0;31m       \u001b[0;32mreturn\u001b[0m \u001b[0mfn\u001b[0m\u001b[0;34m(\u001b[0m\u001b[0;34m*\u001b[0m\u001b[0margs\u001b[0m\u001b[0;34m)\u001b[0m\u001b[0;34m\u001b[0m\u001b[0m\n\u001b[0m\u001b[1;32m   1351\u001b[0m     \u001b[0;32mexcept\u001b[0m \u001b[0merrors\u001b[0m\u001b[0;34m.\u001b[0m\u001b[0mOpError\u001b[0m \u001b[0;32mas\u001b[0m \u001b[0me\u001b[0m\u001b[0;34m:\u001b[0m\u001b[0;34m\u001b[0m\u001b[0m\n\u001b[1;32m   1352\u001b[0m       \u001b[0mmessage\u001b[0m \u001b[0;34m=\u001b[0m \u001b[0mcompat\u001b[0m\u001b[0;34m.\u001b[0m\u001b[0mas_text\u001b[0m\u001b[0;34m(\u001b[0m\u001b[0me\u001b[0m\u001b[0;34m.\u001b[0m\u001b[0mmessage\u001b[0m\u001b[0;34m)\u001b[0m\u001b[0;34m\u001b[0m\u001b[0m\n",
      "\u001b[0;32m/Library/Frameworks/Python.framework/Versions/3.6/lib/python3.6/site-packages/tensorflow/python/client/session.py\u001b[0m in \u001b[0;36m_run_fn\u001b[0;34m(session, feed_dict, fetch_list, target_list, options, run_metadata)\u001b[0m\n\u001b[1;32m   1327\u001b[0m           return tf_session.TF_Run(session, options,\n\u001b[1;32m   1328\u001b[0m                                    \u001b[0mfeed_dict\u001b[0m\u001b[0;34m,\u001b[0m \u001b[0mfetch_list\u001b[0m\u001b[0;34m,\u001b[0m \u001b[0mtarget_list\u001b[0m\u001b[0;34m,\u001b[0m\u001b[0;34m\u001b[0m\u001b[0m\n\u001b[0;32m-> 1329\u001b[0;31m                                    status, run_metadata)\n\u001b[0m\u001b[1;32m   1330\u001b[0m \u001b[0;34m\u001b[0m\u001b[0m\n\u001b[1;32m   1331\u001b[0m     \u001b[0;32mdef\u001b[0m \u001b[0m_prun_fn\u001b[0m\u001b[0;34m(\u001b[0m\u001b[0msession\u001b[0m\u001b[0;34m,\u001b[0m \u001b[0mhandle\u001b[0m\u001b[0;34m,\u001b[0m \u001b[0mfeed_dict\u001b[0m\u001b[0;34m,\u001b[0m \u001b[0mfetch_list\u001b[0m\u001b[0;34m)\u001b[0m\u001b[0;34m:\u001b[0m\u001b[0;34m\u001b[0m\u001b[0m\n",
      "\u001b[0;31mKeyboardInterrupt\u001b[0m: "
     ]
    }
   ],
   "source": [
    "#def train_function(train_setDn, test_setDn):\n",
    "with tf.Graph().as_default():\n",
    "    with tf.variable_scope(\"autoencoder_model\"):\n",
    "        \n",
    "        # Placeholders\n",
    "        x = tf.placeholder(\"float\", [None, num_input])\n",
    "        phase_train = tf.placeholder(tf.bool)\n",
    "        keep_prob = tf.placeholder(tf.float32) #gateway for dropout\n",
    "\n",
    "        # Extract the latent information (logits from the bottleneck layer)\n",
    "        code, W_e = encoder(x, n_code, phase_train)\n",
    "\n",
    "        # Extract the outputs of the autoencoder\n",
    "        output, W_d = decoder(code, n_code, phase_train)\n",
    "\n",
    "        cost = loss(mse(output,x), regularizer(W_e, W_d), lambd, num_input, batch_size)\n",
    "\n",
    "        train_op = training(cost, learning_rate)\n",
    "\n",
    "        eval_op, val_summary_op = evaluate(output, x)\n",
    "\n",
    "        # Merge all the summaries - variables, training - into a single operation\n",
    "        summary_op = tf.summary.merge_all()\n",
    "\n",
    "        # Save the trained model for later use (testing)\n",
    "        saver = tf.train.Saver()        \n",
    "\n",
    "        # Create the session list that will be runned for training\n",
    "        sess_list = [0] * cross_len\n",
    "        \n",
    "        total_loss = np.zeros((cross_len,num_steps))\n",
    "        total_loss_test = np.zeros(cross_len)\n",
    "        total_p = [0] * cross_len\n",
    "        total_batchx = [0] * cross_len\n",
    "        total_testSetDn = [0] * cross_len\n",
    "        total_testSetD = [0] * cross_len\n",
    "        total_tickers_test = [0] * cross_len\n",
    "        \n",
    "        start_time = time()\n",
    "        \n",
    "        for iteration in range(1,cross_len + 1):\n",
    "            \n",
    "            sess_list[iteration-1] = tf.Session()\n",
    "\n",
    "            # Initialize a summary for our variables during the training\n",
    "            summary_writer = tf.summary.FileWriter(logs_path, graph=tf.get_default_graph())\n",
    "\n",
    "            # Time to launch the session\n",
    "            init_op = tf.global_variables_initializer()\n",
    "            sess_list[iteration - 1].run(init_op)\n",
    "\n",
    "            steps = [0]*num_steps\n",
    "            \n",
    "            next_folder = next_fold(iteration, cross_len)\n",
    "            \n",
    "            train_setDn, test_setDn, list_tickers_cross_train, list_tickers_cross_test, train_setD, test_setD = next_folder\n",
    "                \n",
    "            total_testSetDn[iteration - 1] = test_setDn\n",
    "            total_testSetD[iteration - 1] = test_setD\n",
    "            \n",
    "            total_tickers_test[iteration - 1] = list_tickers_cross_test\n",
    "            \n",
    "            for i in range(1, num_steps + 1):\n",
    "\n",
    "                # Prepare Data\n",
    "                total_batch = int(len(train_setData_n) / batch_size)\n",
    "            \n",
    "\n",
    "                for j in range(total_batch):\n",
    "                    mini_batch_x, _ = next_batch(batch_size, train_setDn, train_setDn)\n",
    "\n",
    "                    _, l, summary = sess_list[iteration-1].run([train_op, cost, summary_op], \n",
    "                                feed_dict={x: mini_batch_x, phase_train: True, keep_prob: val_dropout})\n",
    "                total_loss[iteration-1][i-1] = l\n",
    "                steps[i-1] = i\n",
    "\n",
    "                # Write on the log file the datas for TensorBoard / First: summary, Second: overall step\n",
    "                summary_writer.add_summary(summary, i)\n",
    "\n",
    "                if i % display_step == 0 or i * iteration == 1:\n",
    "\n",
    "                    print('Step %i and Iteration %i: Minibatch Loss: %f' % (i, iteration, l))\n",
    "                    curr_time = time()\n",
    "                    elapsed_time = curr_time-start_time\n",
    "                    print('Estimated remaining time = ', (elapsed_time / (num_steps * (iteration - 1) + i) * (num_steps * cross_len - (num_steps * (iteration - 1) + i))),'s\\n')\n",
    "\n",
    "                    # Save the model during the training at save_path\n",
    "                    #save_path = saver.save(sess, logs_path)\n",
    "                    #print(\"Model saved in file: %s\" % save_path)\n",
    "\n",
    "    #                 print(\"Epoch:\", '%04d' % (epoch+1), \"cost =\", \"{:.9f}\".format(avg_cost))\n",
    "\n",
    "    #                 train_writer.add_summary(train_summary, sess.run(global_step))\n",
    "\n",
    "    #                 validation_loss, in_image, out_image, val_summary = sess.run([eval_op, val_summary_op], feed_dict={x: validation_setData, phase_train: False})\n",
    "\n",
    "    #                 val_writer.add_summary(in_image, sess.run(global_step))\n",
    "    #                 val_writer.add_summary(out_image, sess.run(global_step))\n",
    "    #                 val_writer.add_summary(val_summary, sess.run(global_step))\n",
    "\n",
    "    #                 print(\"Validation Loss:\", validation_loss)\n",
    "\n",
    "    #                 save_path = saver.save(sess, model_path)\n",
    "    #                 print(\"Model saved in file: %s\" % save_path)\n",
    "\n",
    "    #                 curr_time = time()\n",
    "    #                 elapsed_time = curr_time-start_time\n",
    "    #                 print('Estimated remaining time = ', elapsed_time / i * (num_steps-i),'s\\n')\n",
    "\n",
    "\n",
    "    ### Here we plot the latent space (n_code dimension)\n",
    "            ae_codes, test_loss = sess_list[iteration-1].run([code, cost], \n",
    "                                feed_dict={x: test_setData_n, phase_train: False, keep_prob:1})\n",
    "            fig, ax = plt.subplots()\n",
    "            ax.scatter(ae_codes[:,0], ae_codes[:,1])\n",
    "            for i, txt in enumerate(list_tickers_test):\n",
    "                ax.annotate(txt, (ae_codes[i,0], ae_codes[i,1]))\n",
    "            \n",
    "            len_test = len(test_setDn)\n",
    "            batch_x, _ = next_batch(len_test,test_setDn,test_setDn)\n",
    "            l , p = sess_list[iteration-1].run([cost, output] , feed_dict={x: batch_x, phase_train: False, keep_prob: 1})\n",
    "            l = l * batch_size / len_test\n",
    "            total_loss_test[iteration-1] = l\n",
    "            total_p[iteration-1] = p\n",
    "            total_batchx[iteration-1] = batch_x\n",
    "            print('Minibatch Loss: '+str(l)+'\\n\\n') \n",
    "\n"
   ]
  },
  {
   "cell_type": "code",
   "execution_count": null,
   "metadata": {},
   "outputs": [],
   "source": [
    "for i in range(cross_len):\n",
    "    print('Mean of error of fold %i: %f' % (i+1, total_loss_test[i]))\n",
    "MSE = np.mean(total_loss_test)\n",
    "print('\\nTotal mean: ',MSE)"
   ]
  },
  {
   "cell_type": "markdown",
   "metadata": {},
   "source": [
    "# 8) Exporting"
   ]
  },
  {
   "cell_type": "code",
   "execution_count": null,
   "metadata": {
    "scrolled": true
   },
   "outputs": [],
   "source": [
    "print(\"Run the command line:\\n\" \\\n",
    "          \"--> tensorboard --logdir=/tmp/tensorflow_logs/autoencoder1/\"+date+\"/\" \\\n",
    "          \"\\nThen open http://0.0.0.0:6006/ into your web browser\\n\\n\")\n",
    "print(\"Or Run the command line:\\n\" \\\n",
    "          \"--> python -m tensorboard.main --logdir=C:\\\\tmp\\\\tensorflow_logs\\\\autoencoder1\\\\\"+date+\"\\\\\" \\\n",
    "          \"\\nThen open http://desktop-p6qj80l:6006/ into your web browser, or anything the command tells you to type\\n\\n\")"
   ]
  },
  {
   "cell_type": "code",
   "execution_count": null,
   "metadata": {},
   "outputs": [],
   "source": [
    "#! tensorboard --logdir=/tmp/tensorflow_logs/autoencoder1/1519250108/"
   ]
  },
  {
   "cell_type": "markdown",
   "metadata": {},
   "source": [
    "# 9) Plotting"
   ]
  },
  {
   "cell_type": "code",
   "execution_count": null,
   "metadata": {},
   "outputs": [],
   "source": [
    "#V2\n",
    "def denormalize(p, batch, dataset_norm, dataset, list_tickers):\n",
    "    batch_size = len(batch)\n",
    "    unnormalized_p = {}\n",
    "    for j in range(batch_size):\n",
    "        (ticker, index) = find_ticker_batch(batch[j], dataset_norm, list_tickers)\n",
    "\n",
    "        minimum = np.min(dataset[index])\n",
    "        maximum = np.max(dataset[index])\n",
    "        pred = p[j] * (maximum - minimum) + minimum\n",
    "        unnormalized_p[index] = (ticker, pred)\n",
    "        \n",
    "    return unnormalized_p\n",
    "    \n",
    "unnormalized_p = denormalize(p, batch_x, test_setDn, test_setD, list_tickers_cross_test)"
   ]
  },
  {
   "cell_type": "code",
   "execution_count": null,
   "metadata": {},
   "outputs": [],
   "source": [
    "for j in unnormalized_p.keys():\n",
    "    plt.figure()\n",
    "    plt.plot(unnormalized_p[j][1] ,'r', label = \"Prediction\")\n",
    "    plt.hold\n",
    "    plt.plot(test_setD[j] ,'b',label = \"Real Value\")\n",
    "    plt.title(unnormalized_p[j][0])\n",
    "    plt.legend()\n",
    "    plt.show;"
   ]
  },
  {
   "cell_type": "code",
   "execution_count": null,
   "metadata": {},
   "outputs": [],
   "source": []
  },
  {
   "cell_type": "markdown",
   "metadata": {},
   "source": [
    "# 10) Re checking"
   ]
  },
  {
   "cell_type": "code",
   "execution_count": null,
   "metadata": {},
   "outputs": [],
   "source": [
    "diff = abs(p - batch_x)\n",
    "L2 = np.sqrt(np.multiply(diff,diff))"
   ]
  },
  {
   "cell_type": "code",
   "execution_count": null,
   "metadata": {},
   "outputs": [],
   "source": [
    "for i in L2:\n",
    "    print(i)"
   ]
  },
  {
   "cell_type": "code",
   "execution_count": null,
   "metadata": {},
   "outputs": [],
   "source": [
    "print('average error in our case = ',np.mean(L2))"
   ]
  },
  {
   "cell_type": "code",
   "execution_count": null,
   "metadata": {},
   "outputs": [],
   "source": [
    "random = np.random.uniform(0,1,(len_test,503))"
   ]
  },
  {
   "cell_type": "code",
   "execution_count": null,
   "metadata": {},
   "outputs": [],
   "source": [
    "diff_random = abs(batch_x - random)\n",
    "L2_random = np.sqrt(np.multiply(diff_random,diff_random))\n",
    "print('average error in a random case = ',np.mean(L2_random))"
   ]
  },
  {
   "cell_type": "code",
   "execution_count": null,
   "metadata": {},
   "outputs": [],
   "source": []
  },
  {
   "cell_type": "markdown",
   "metadata": {},
   "source": [
    "# 11) Finding the commonals"
   ]
  },
  {
   "cell_type": "markdown",
   "metadata": {},
   "source": [
    "## 11.1) Plot function"
   ]
  },
  {
   "cell_type": "code",
   "execution_count": null,
   "metadata": {},
   "outputs": [],
   "source": [
    "def plot_commonals(p, batch_x, test_setDn, list_tickers_cross_test,fold):\n",
    "    sorted_by_value = []\n",
    "    \n",
    "    diff = abs(p - batch_x)\n",
    "    L2 = np.sqrt(np.multiply(diff,diff))\n",
    "    \n",
    "    for i in range(len(p)):\n",
    "        sorted_by_value.append((np.mean(L2[i]),i))\n",
    "\n",
    "    objects =  []\n",
    "    performance = sorted(sorted_by_value)\n",
    "\n",
    "    for i in performance:\n",
    "        ticker, index = find_ticker_batch(batch_x[i[1]], test_setDn, list_tickers_cross_test)\n",
    "        objects.append(ticker)\n",
    "\n",
    "\n",
    "    y_pos = np.arange(len(objects))\n",
    "    plotable_performance = [i[0] for i in performance]\n",
    "\n",
    "    \n",
    "    plt.figure()\n",
    "    plt.bar(y_pos, plotable_performance, align='center', alpha=0.5)\n",
    "    plt.xticks(y_pos, objects)\n",
    "    plt.ylabel('Score')\n",
    "    plt.title('Communals of fold '+str(fold + 1))\n",
    "\n",
    "    plt.show();"
   ]
  },
  {
   "cell_type": "markdown",
   "metadata": {},
   "source": [
    "## 11.2) Plot for each fold"
   ]
  },
  {
   "cell_type": "code",
   "execution_count": null,
   "metadata": {},
   "outputs": [],
   "source": [
    "all_test_p = []\n",
    "all_test_batch = []\n",
    "all_test_test_setDn = []\n",
    "all_test_test_setD = []\n",
    "all_test_list_tickers = []\n",
    "\n",
    "for fold in range(cross_len):\n",
    "    p = total_p[fold]\n",
    "    batch_x = total_batchx[fold]\n",
    "    test_setDn = total_testSetDn[fold]\n",
    "    test_setD = total_testSetD[fold]\n",
    "    list_tickers_cross_test = total_tickers_test[fold]\n",
    "    plot_commonals(p, batch_x, test_setDn, list_tickers_cross_test,fold)\n",
    "    \n",
    "    all_test_p += list(p)\n",
    "    all_test_batch += list(batch_x)\n",
    "    all_test_test_setDn += list(test_setDn)\n",
    "    all_test_test_setD += list(test_setD)\n",
    "    all_test_list_tickers += list(list_tickers_cross_test)\n"
   ]
  },
  {
   "cell_type": "markdown",
   "metadata": {},
   "source": [
    "## 11.3) Plot for the whole test batch"
   ]
  },
  {
   "cell_type": "code",
   "execution_count": null,
   "metadata": {},
   "outputs": [],
   "source": [
    "p = np.array(all_test_p)\n",
    "batch_x = np.array(all_test_batch)\n",
    "test_setDn = all_test_test_setDn\n",
    "test_setD = all_test_test_setD\n",
    "list_tickers_cross_test = all_test_list_tickers\n",
    "\n",
    "plot_commonals(p, batch_x, test_setDn, list_tickers_cross_test,-1)"
   ]
  },
  {
   "cell_type": "markdown",
   "metadata": {},
   "source": [
    "\n",
    "# 12) Storing values for memory"
   ]
  },
  {
   "cell_type": "code",
   "execution_count": null,
   "metadata": {},
   "outputs": [],
   "source": [
    "fields = ['learning_rate', 'num_steps', 'batch_size', 'lambd', 'val_dropout', 'cross_len', 'num_encode_1', 'n_code', 'MSE']\n",
    "values = [learning_rate, num_steps, batch_size, lambd, val_dropout, cross_len, num_encode_1, n_code, MSE]"
   ]
  },
  {
   "cell_type": "code",
   "execution_count": null,
   "metadata": {},
   "outputs": [],
   "source": [
    "ROOTPATH = os.getcwd()\n",
    "\n",
    "if not os.path.isfile('results.csv'):\n",
    "    if computer == 0:\n",
    "        with open('results.csv', 'a') as csvfile:\n",
    "            spamwriter = csv.writer(csvfile, delimiter=',',\n",
    "                                quotechar='|', quoting=csv.QUOTE_MINIMAL)\n",
    "            spamwriter.writerow(fields)\n",
    "    else:\n",
    "        with open('results.csv', 'a', encoding ='mac_roman') as csvfile:\n",
    "            spamwriter = csv.writer(csvfile, delimiter=',',\n",
    "                                quotechar='|', quoting=csv.QUOTE_MINIMAL)\n",
    "            spamwriter.writerow(fields)\n",
    "\n",
    "\n",
    "if computer == 0:\n",
    "    with open('results.csv', 'a') as csvfile:\n",
    "        spamwriter = csv.writer(csvfile, delimiter=',',\n",
    "                            quotechar='|', quoting=csv.QUOTE_MINIMAL)\n",
    "        spamwriter.writerow(values)\n",
    "else:\n",
    "    with open('results.csv', 'a', encoding ='mac_roman') as csvfile:\n",
    "        spamwriter = csv.writer(csvfile, delimiter=',',\n",
    "                            quotechar='|', quoting=csv.QUOTE_MINIMAL)\n",
    "        spamwriter.writerow(values)\n",
    "        \n"
   ]
  },
  {
   "cell_type": "code",
   "execution_count": null,
   "metadata": {},
   "outputs": [],
   "source": []
  },
  {
   "cell_type": "markdown",
   "metadata": {
    "collapsed": true
   },
   "source": [
    "# Calibration phase"
   ]
  },
  {
   "cell_type": "markdown",
   "metadata": {},
   "source": [
    "# 1) Operating functions"
   ]
  },
  {
   "cell_type": "code",
   "execution_count": 78,
   "metadata": {},
   "outputs": [
    {
     "data": {
      "image/png": "[encoded data removed]",
      "text/plain": [
       "<matplotlib.figure.Figure at 0x12ab21908>"
      ]
     },
     "metadata": {},
     "output_type": "display_data"
    }
   ],
   "source": [
    "def rateOfReturnWeekly(df,shift):\n",
    "    \n",
    "    # Making sure dataframe is well sorted\n",
    "    df_sorted = df.sort_index( ascending = True )\n",
    "    \n",
    "\n",
    "    #Be careful with the shift!\n",
    "    df_shifted = df_sorted.shift(shift)\n",
    "    rate_of_returns = (df_sorted - df_shifted) / df_shifted\n",
    "    for i in range(shift):\n",
    "        rate_of_returns = rate_of_returns.drop(rate_of_returns.index[0])\n",
    "\n",
    "    return rate_of_returns"
   ]
  },
  {
   "cell_type": "code",
   "execution_count": null,
   "metadata": {},
   "outputs": [],
   "source": [
    "def logRateOfReturnWeekly(df,shift):\n",
    "    \n",
    "    # Making sure dataframe is well sorted\n",
    "    df_sorted = df.sort_index( ascending = True )\n",
    "    \n",
    "\n",
    "    #Be careful with the shift!\n",
    "    df_shifted = df_sorted.shift(shift)\n",
    "    log_rate_of_returns = np.log(df_sorted / df_shifted)\n",
    "    for i in range(shift):\n",
    "        log_rate_of_returns = log_rate_of_returns.drop(log_rate_of_returns.index[0])\n",
    "\n",
    "    return log_rate_of_returns"
   ]
  },
  {
   "cell_type": "code",
   "execution_count": null,
   "metadata": {},
   "outputs": [],
   "source": [
    "def modify_benchmark(df,column,threshold,shift):\n",
    "    rate = rateOfReturnWeekly(df,shift)\n",
    "    for i in range(len(rate[column])):\n",
    "        if rate[column][i] <= - threshold:\n",
    "            rate[column][i] = threshold\n",
    "    return rate"
   ]
  },
  {
   "cell_type": "code",
   "execution_count": null,
   "metadata": {},
   "outputs": [],
   "source": [
    "def reconstruct(rates):\n",
    "    prices = [1]\n",
    "    for i in range(len(rates)):\n",
    "        prices.append( (rates[i] + 1) * prices[i])\n",
    "    return prices"
   ]
  },
  {
   "cell_type": "markdown",
   "metadata": {},
   "source": [
    "# 2) Import data"
   ]
  },
  {
   "cell_type": "code",
   "execution_count": null,
   "metadata": {},
   "outputs": [],
   "source": [
    "ROOTPATH = os.getcwd()\n",
    "\n",
    "path_data = os.path.join(ROOTPATH, 'data')\n",
    "\n",
    "file = path_data+\"/csv_IBB_from_2016-01-01_to_2018-01-01.csv\"\n",
    "\n",
    "if computer == 0:\n",
    "    with open(file, 'r') as csvfile:\n",
    "        benchmark = pd.read_csv(csvfile, index_col=None, header=0)\n",
    "        benchmark = benchmark.set_index(pd.DatetimeIndex(benchmark[\"Date\"]))\n",
    "        del benchmark[\"Date\"]\n",
    "        \n",
    "if computer == 1:\n",
    "    with open(file, 'r', encoding ='mac_roman') as csvfile:\n",
    "        benchmark = pd.read_csv(csvfile, index_col=None, header=0)\n",
    "        benchmark = benchmark.set_index(pd.DatetimeIndex(benchmark[\"Date\"]))\n",
    "        del benchmark[\"Date\"]"
   ]
  },
  {
   "cell_type": "code",
   "execution_count": null,
   "metadata": {},
   "outputs": [],
   "source": [
    "shift_calib = 1\n",
    "threshold = 0.04\n",
    "\n",
    "rate = rateOfReturnWeekly(benchmark,shift_calib)\n",
    "plt.plot(rate['Adj Close'])\n",
    "plt.show;\n",
    "\n",
    "rate2 = modify_benchmark(benchmark,'Adj Close',threshold,shift_calib)\n",
    "plt.plot(rate2['Adj Close'])\n",
    "plt.show;"
   ]
  },
  {
   "cell_type": "code",
   "execution_count": 218,
   "metadata": {},
   "outputs": [
    {
     "name": "stdout",
     "output_type": "stream",
     "text": [
      "376\n"
     ]
    }
   ],
   "source": [
    "print(int(np.floor(rate['Adj Close'].shape[0]*0.75)))"
   ]
  },
  {
   "cell_type": "markdown",
   "metadata": {},
   "source": [
    "# 3) Calibration network functions"
   ]
  },
  {
   "cell_type": "code",
   "execution_count": 42,
   "metadata": {},
   "outputs": [],
   "source": [
    "def layer1_calib(input_tensor, S, n_code, phase_train):\n",
    "    with tf.variable_scope(\"calib\"):\n",
    "            \n",
    "        with tf.variable_scope('output'):\n",
    "            output, W_e = layer(input_tensor, S, n_code, phase_train, \"encoder\",True)\n",
    "            \n",
    "    return output, W_e\n",
    "\n",
    "def layer2_calib(input_tensor, S, n_code, phase_train):\n",
    "    with tf.variable_scope(\"decode\"):\n",
    "        \n",
    "        with tf.variable_scope('output'):\n",
    "            output, W_d = layer(input_tensor, n_code, S, phase_train, \"decoder\",False)\n",
    "            \n",
    "    return tf.nn.softmax(output), W_d"
   ]
  },
  {
   "cell_type": "markdown",
   "metadata": {},
   "source": [
    "# 4) Import least/most commonals"
   ]
  },
  {
   "cell_type": "code",
   "execution_count": 43,
   "metadata": {
    "scrolled": true
   },
   "outputs": [],
   "source": [
    "# batch_x is the array of initial rate of returns\n",
    "# p is the array of predictions\n",
    "# S is the number of \"most commonals\"\n",
    "# Take the 10 most commonals, plus the S - 10 least commonals\n",
    "\n",
    "def return_commonals(S,p,batch_x): \n",
    "    sorted_by_value = []\n",
    "    \n",
    "    diff = abs(p - batch_x)\n",
    "    L2 = np.sqrt(np.multiply(diff,diff))\n",
    "    \n",
    "    for i in range(len(p)):\n",
    "        sorted_by_value.append((np.mean(L2[i]),i))\n",
    "    \n",
    "    performance = sorted(sorted_by_value)\n",
    "\n",
    "    objects= []\n",
    "    for i in performance:\n",
    "        ticker, index = find_ticker_batch(batch_x[i[1]], test_setDn, list_tickers_cross_test)\n",
    "        objects.append(ticker)\n",
    "    \n",
    "    list_commonals =  []\n",
    "    \n",
    "    for i in range(10):\n",
    "        list_commonals.append([objects[i],batch_x[performance[i][1]]])\n",
    "    \n",
    "    for i in range(S-10):\n",
    "        list_commonals.append([objects[-i],batch_x[performance[-i][1]]])\n",
    "    \n",
    "    return(list_commonals)"
   ]
  },
  {
   "cell_type": "code",
   "execution_count": 44,
   "metadata": {},
   "outputs": [],
   "source": [
    "# Training Parameters\n",
    "S = 65\n",
    "\n",
    "stock_list = [return_commonals(S, p, batch_x)[i][1] for i in range(S)]\n",
    "ticker_list_calib = [return_commonals(S, p, batch_x)[i][0] for i in range(S)]\n",
    "\n",
    "\n",
    "\n",
    "len_list = len(stock_list)\n",
    "stock_list_unnorm = []\n",
    "for j in range(len_list):\n",
    "    _, index = find_ticker_batch(stock_list[j], test_setDn, list_tickers_cross_test)\n",
    "\n",
    "    minimum = np.min(test_setD[index])\n",
    "    maximum = np.max(test_setD[index])\n",
    "    stock_list_unnorm.append(stock_list[j] * (maximum - minimum) + minimum)\n",
    "\n",
    "    \n",
    "stock_arr = np.array(stock_list_unnorm).transpose()\n"
   ]
  },
  {
   "cell_type": "markdown",
   "metadata": {},
   "source": [
    "# 5) Set network parameters"
   ]
  },
  {
   "cell_type": "code",
   "execution_count": null,
   "metadata": {},
   "outputs": [],
   "source": [
    "#train_setData_n, train_setData, list_tickers_train\n",
    "\n",
    "learning_rate_calib = 0.0001\n",
    "num_steps_calib = 10000\n",
    "batch_size_calib = 10\n",
    "lambd_calib = 0.2\n",
    "val_dropout_calib = 0.85\n",
    "\n",
    "display_step_calib = 1000\n",
    "\n",
    "cross_len_calib = 1\n",
    "\n",
    "\n",
    "# Network Parameters \n",
    "\n",
    "num_input_calib = S\n",
    "n_hidden_calib = 5  # bottleneck layer\n",
    "num_output_calib = S"
   ]
  },
  {
   "cell_type": "markdown",
   "metadata": {},
   "source": [
    "# 6) Get the output and the input"
   ]
  },
  {
   "cell_type": "code",
   "execution_count": 45,
   "metadata": {},
   "outputs": [],
   "source": [
    "# Output : benchmark of the IBB\n",
    "y = rate2['Adj Close']\n",
    "y = y.tolist()"
   ]
  },
  {
   "cell_type": "code",
   "execution_count": 46,
   "metadata": {},
   "outputs": [],
   "source": [
    "stock2 = rateOfReturnWeekly(pd.DataFrame(stock_arr),shift_calib)"
   ]
  },
  {
   "cell_type": "code",
   "execution_count": 47,
   "metadata": {},
   "outputs": [],
   "source": [
    "stock_list_2 = []\n",
    "for i in stock2.columns:\n",
    "    stock_list_2.append(list(stock2[i]))\n",
    "stock_list_2 = np.array(stock_list_2).transpose()"
   ]
  },
  {
   "cell_type": "markdown",
   "metadata": {},
   "source": [
    "# 7) Training functions"
   ]
  },
  {
   "cell_type": "code",
   "execution_count": 48,
   "metadata": {},
   "outputs": [],
   "source": [
    "def next_batch_calib(batch_size, data, labels):\n",
    "    '''\n",
    "    Return a total of `num` random samples and labels. \n",
    "    '''\n",
    "    idx = np.arange(0 , len(data))\n",
    "    np.random.shuffle(idx)\n",
    "    idx = idx[0]\n",
    "    data_shuffle = data[idx]\n",
    "    labels_shuffle = labels[idx]\n",
    "\n",
    "    return np.array(data_shuffle), np.array(labels_shuffle)"
   ]
  },
  {
   "cell_type": "code",
   "execution_count": null,
   "metadata": {},
   "outputs": [],
   "source": [
    "def next_batch(batch_size, data, labels):\n",
    "    '''\n",
    "    Return a total of `num` random samples and labels. \n",
    "    '''\n",
    "    idx = np.arange(0 , len(data))\n",
    "    np.random.shuffle(idx)\n",
    "    idx = idx[:batch_size]\n",
    "    data_shuffle = [list(data[i]) for i in idx]\n",
    "    labels_shuffle = [labels[i] for i in idx]\n",
    "\n",
    "    return np.array(data_shuffle), np.array(labels_shuffle)"
   ]
  },
  {
   "cell_type": "code",
   "execution_count": 241,
   "metadata": {},
   "outputs": [],
   "source": [
    "def time_split_calib(df):\n",
    "    # Will produce the 75% / 25% train and test data for the calibration phase\n",
    "    index_rows = np.arange(df.shape[0])\n",
    "    bound_train = int(np.floor(df.shape[0]*0.75))\n",
    "    index_train = np.arange(bound_train)\n",
    "    \n",
    "    index_test = [x for x in index_rows if (x not in(index_train))]\n",
    "    \n",
    "    train_df = df.iloc[index_train]\n",
    "    test_df = df.iloc[index_test]\n",
    "                              \n",
    "    return train_df, test_df"
   ]
  },
  {
   "cell_type": "code",
   "execution_count": 239,
   "metadata": {},
   "outputs": [],
   "source": [
    "df_train, df_test = time_split_calib(rate)"
   ]
  },
  {
   "cell_type": "code",
   "execution_count": 240,
   "metadata": {},
   "outputs": [
    {
     "data": {
      "text/plain": [
       "(126, 6)"
      ]
     },
     "execution_count": 240,
     "metadata": {},
     "output_type": "execute_result"
    }
   ],
   "source": [
    "df_test.shape"
   ]
  },
  {
   "cell_type": "code",
   "execution_count": null,
   "metadata": {},
   "outputs": [],
   "source": [
    "def next_fold(i, cross_len):\n",
    "    \n",
    "    n = len(cross_setData_n)\n",
    "    if cross_len > 1:\n",
    "        test_len = int(n / cross_len)\n",
    "        init = (i - 1) * test_len\n",
    "        end = i * test_len\n",
    "\n",
    "        test_setDn = cross_setData_n[init:end]\n",
    "        train_setDn = np.concatenate((cross_setData_n[0:init] ,cross_setData_n[end:n]),axis = 0)\n",
    "\n",
    "        list_tickers_cross_test = list_tickers_cross[init:end]\n",
    "        list_tickers_cross_train = np.concatenate((list_tickers_cross[0:init] ,list_tickers_cross[end:n]),axis = 0)\n",
    "\n",
    "        test_setD = cross_setData[init:end]\n",
    "        train_setD = np.concatenate((cross_setData[0:init] ,cross_setData[end:n]),axis = 0)\n",
    "    else:\n",
    "        train_setDn = train_setData_n\n",
    "        test_setDn = test_setData_n\n",
    "        list_tickers_cross_train = list_tickers_train\n",
    "        list_tickers_cross_test = list_tickers_test\n",
    "        train_setD = train_setData\n",
    "        test_setD = test_setData\n",
    "        \n",
    "    return train_setDn, test_setDn, list_tickers_cross_train, list_tickers_cross_test, train_setD, test_setD"
   ]
  },
  {
   "cell_type": "markdown",
   "metadata": {},
   "source": [
    "# 8) Training"
   ]
  },
  {
   "cell_type": "code",
   "execution_count": 49,
   "metadata": {},
   "outputs": [
    {
     "name": "stdout",
     "output_type": "stream",
     "text": [
      "Step 100 : Minibatch Loss: 3.246140\n",
      "Estimated remaining time =  599.634801864624 s\n",
      "\n",
      "Step 200 : Minibatch Loss: 3.114215\n",
      "Estimated remaining time =  409.09012246131897 s\n",
      "\n",
      "Step 300 : Minibatch Loss: 2.989925\n",
      "Estimated remaining time =  333.5225133895874 s\n",
      "\n",
      "Step 400 : Minibatch Loss: 2.872127\n",
      "Estimated remaining time =  298.17610359191895 s\n",
      "\n",
      "Step 500 : Minibatch Loss: 2.760535\n",
      "Estimated remaining time =  270.74761271476746 s\n",
      "\n",
      "Step 600 : Minibatch Loss: 2.654585\n",
      "Estimated remaining time =  250.2918144861857 s\n",
      "\n",
      "Step 700 : Minibatch Loss: 2.553662\n",
      "Estimated remaining time =  236.86603638104032 s\n",
      "\n",
      "Step 800 : Minibatch Loss: 2.457554\n",
      "Estimated remaining time =  229.44807291030884 s\n",
      "\n",
      "Step 900 : Minibatch Loss: 2.365856\n",
      "Estimated remaining time =  225.359429942237 s\n",
      "\n",
      "Step 1000 : Minibatch Loss: 2.278178\n",
      "Estimated remaining time =  221.3134217262268 s\n",
      "\n",
      "Step 1100 : Minibatch Loss: 2.194416\n",
      "Estimated remaining time =  214.37899429147893 s\n",
      "\n",
      "Step 1200 : Minibatch Loss: 2.114125\n",
      "Estimated remaining time =  212.5101531346639 s\n",
      "\n",
      "Step 1300 : Minibatch Loss: 2.037160\n",
      "Estimated remaining time =  207.1858845123878 s\n",
      "\n",
      "Step 1400 : Minibatch Loss: 1.963260\n",
      "Estimated remaining time =  202.82683069365365 s\n",
      "\n",
      "Step 1500 : Minibatch Loss: 1.892322\n",
      "Estimated remaining time =  198.3781702518463 s\n",
      "\n",
      "Step 1600 : Minibatch Loss: 1.824307\n",
      "Estimated remaining time =  193.04388177394867 s\n",
      "\n",
      "Step 1700 : Minibatch Loss: 1.758809\n",
      "Estimated remaining time =  188.71340057429146 s\n",
      "\n",
      "Step 1800 : Minibatch Loss: 1.695787\n",
      "Estimated remaining time =  183.30664608213638 s\n",
      "\n",
      "Step 1900 : Minibatch Loss: 1.635188\n",
      "Estimated remaining time =  179.4434313523142 s\n",
      "\n",
      "Step 2000 : Minibatch Loss: 1.576747\n",
      "Estimated remaining time =  176.0757656097412 s\n",
      "\n",
      "Step 2100 : Minibatch Loss: 1.520684\n",
      "Estimated remaining time =  172.41990095093135 s\n",
      "\n",
      "Step 2200 : Minibatch Loss: 1.466225\n",
      "Estimated remaining time =  170.13052693280306 s\n",
      "\n",
      "Step 2300 : Minibatch Loss: 1.413926\n",
      "Estimated remaining time =  168.74525578125665 s\n",
      "\n",
      "Step 2400 : Minibatch Loss: 1.363534\n",
      "Estimated remaining time =  167.4212555885315 s\n",
      "\n",
      "Step 2500 : Minibatch Loss: 1.314804\n",
      "Estimated remaining time =  164.36214637756348 s\n",
      "\n",
      "Step 2600 : Minibatch Loss: 1.267719\n",
      "Estimated remaining time =  163.01087168546823 s\n",
      "\n",
      "Step 2700 : Minibatch Loss: 1.222338\n",
      "Estimated remaining time =  159.94473869712263 s\n",
      "\n",
      "Step 2800 : Minibatch Loss: 1.178816\n",
      "Estimated remaining time =  156.57925435474942 s\n",
      "\n",
      "Step 2900 : Minibatch Loss: 1.136162\n",
      "Estimated remaining time =  153.83492200950096 s\n",
      "\n",
      "Step 3000 : Minibatch Loss: 1.095174\n",
      "Estimated remaining time =  151.29673608144125 s\n",
      "\n",
      "Step 3100 : Minibatch Loss: 1.055533\n",
      "Estimated remaining time =  148.96759497734809 s\n",
      "\n",
      "Step 3200 : Minibatch Loss: 1.017371\n",
      "Estimated remaining time =  146.3144826889038 s\n",
      "\n",
      "Step 3300 : Minibatch Loss: 0.980309\n",
      "Estimated remaining time =  144.15915364930123 s\n",
      "\n",
      "Step 3400 : Minibatch Loss: 0.944607\n",
      "Estimated remaining time =  142.37247911621543 s\n",
      "\n",
      "Step 3500 : Minibatch Loss: 0.910001\n",
      "Estimated remaining time =  139.95726319721769 s\n",
      "\n",
      "Step 3600 : Minibatch Loss: 0.876586\n",
      "Estimated remaining time =  137.76117197672525 s\n",
      "\n",
      "Step 3700 : Minibatch Loss: 0.844348\n",
      "Estimated remaining time =  136.02942491866446 s\n",
      "\n",
      "Step 3800 : Minibatch Loss: 0.813202\n",
      "Estimated remaining time =  134.6732772525988 s\n",
      "\n",
      "Step 3900 : Minibatch Loss: 0.783043\n",
      "Estimated remaining time =  133.32751098657266 s\n",
      "\n",
      "Step 4000 : Minibatch Loss: 0.753768\n",
      "Estimated remaining time =  131.30157494544983 s\n",
      "\n",
      "Step 4100 : Minibatch Loss: 0.725644\n",
      "Estimated remaining time =  128.4716829788394 s\n",
      "\n",
      "Step 4200 : Minibatch Loss: 0.698478\n",
      "Estimated remaining time =  125.96095216841924 s\n",
      "\n",
      "Step 4300 : Minibatch Loss: 0.672050\n",
      "Estimated remaining time =  123.77453516804896 s\n",
      "\n",
      "Step 4400 : Minibatch Loss: 0.646659\n",
      "Estimated remaining time =  121.8586183461276 s\n",
      "\n",
      "Step 4500 : Minibatch Loss: 0.622137\n",
      "Estimated remaining time =  120.03040655454001 s\n",
      "\n",
      "Step 4600 : Minibatch Loss: 0.598501\n",
      "Estimated remaining time =  118.94570977791496 s\n",
      "\n",
      "Step 4700 : Minibatch Loss: 0.575433\n",
      "Estimated remaining time =  116.70109146706601 s\n",
      "\n",
      "Step 4800 : Minibatch Loss: 0.553343\n",
      "Estimated remaining time =  115.0170411070188 s\n",
      "\n",
      "Step 4900 : Minibatch Loss: 0.532203\n",
      "Estimated remaining time =  113.0946150117991 s\n",
      "\n",
      "Step 5000 : Minibatch Loss: 0.511497\n",
      "Estimated remaining time =  111.07425832748413 s\n",
      "\n",
      "Step 5100 : Minibatch Loss: 0.491608\n",
      "Estimated remaining time =  108.99489774423488 s\n",
      "\n",
      "Step 5200 : Minibatch Loss: 0.472448\n",
      "Estimated remaining time =  107.03666694347676 s\n",
      "\n",
      "Step 5300 : Minibatch Loss: 0.453953\n",
      "Estimated remaining time =  105.00474957700045 s\n",
      "\n",
      "Step 5400 : Minibatch Loss: 0.436057\n",
      "Estimated remaining time =  102.88814478450351 s\n",
      "\n",
      "Step 5500 : Minibatch Loss: 0.418733\n",
      "Estimated remaining time =  100.80465303767811 s\n",
      "\n",
      "Step 5600 : Minibatch Loss: 0.402138\n",
      "Estimated remaining time =  98.46728966917311 s\n",
      "\n",
      "Step 5700 : Minibatch Loss: 0.386124\n",
      "Estimated remaining time =  96.21770992195397 s\n",
      "\n",
      "Step 5800 : Minibatch Loss: 0.370707\n",
      "Estimated remaining time =  94.14128765566595 s\n",
      "\n",
      "Step 5900 : Minibatch Loss: 0.355971\n",
      "Estimated remaining time =  92.24880080303903 s\n",
      "\n",
      "Step 6000 : Minibatch Loss: 0.341593\n",
      "Estimated remaining time =  90.2072434425354 s\n",
      "\n",
      "Step 6100 : Minibatch Loss: 0.327733\n",
      "Estimated remaining time =  88.1216323883807 s\n",
      "\n",
      "Step 6200 : Minibatch Loss: 0.314515\n",
      "Estimated remaining time =  85.9059080462302 s\n",
      "\n",
      "Step 6300 : Minibatch Loss: 0.301850\n",
      "Estimated remaining time =  83.6479633422125 s\n",
      "\n",
      "Step 6400 : Minibatch Loss: 0.289418\n",
      "Estimated remaining time =  81.37477473914623 s\n",
      "\n",
      "Step 6500 : Minibatch Loss: 0.277559\n",
      "Estimated remaining time =  79.12011540853061 s\n",
      "\n",
      "Step 6600 : Minibatch Loss: 0.266111\n",
      "Estimated remaining time =  76.90399014588559 s\n",
      "\n",
      "Step 6700 : Minibatch Loss: 0.255180\n",
      "Estimated remaining time =  74.74447761008989 s\n",
      "\n",
      "Step 6800 : Minibatch Loss: 0.244585\n",
      "Estimated remaining time =  72.49470654655906 s\n",
      "\n",
      "Step 6900 : Minibatch Loss: 0.234412\n",
      "Estimated remaining time =  70.26231010409369 s\n",
      "\n",
      "Step 7000 : Minibatch Loss: 0.224642\n",
      "Estimated remaining time =  67.9412808077676 s\n",
      "\n",
      "Step 7100 : Minibatch Loss: 0.215265\n",
      "Estimated remaining time =  65.59137946787014 s\n",
      "\n",
      "Step 7200 : Minibatch Loss: 0.206230\n",
      "Estimated remaining time =  63.16431970066494 s\n",
      "\n",
      "Step 7300 : Minibatch Loss: 0.197474\n",
      "Estimated remaining time =  60.88575016962339 s\n",
      "\n",
      "Step 7400 : Minibatch Loss: 0.189106\n",
      "Estimated remaining time =  58.61195224684638 s\n",
      "\n",
      "Step 7500 : Minibatch Loss: 0.181093\n",
      "Estimated remaining time =  56.284290075302124 s\n",
      "\n",
      "Step 7600 : Minibatch Loss: 0.173522\n",
      "Estimated remaining time =  53.99210628710295 s\n",
      "\n",
      "Step 7700 : Minibatch Loss: 0.165915\n",
      "Estimated remaining time =  51.82510340368593 s\n",
      "\n",
      "Step 7800 : Minibatch Loss: 0.158740\n",
      "Estimated remaining time =  49.555485499210846 s\n",
      "\n",
      "Step 7900 : Minibatch Loss: 0.151946\n",
      "Estimated remaining time =  47.20909395398973 s\n",
      "\n",
      "Step 8000 : Minibatch Loss: 0.145328\n",
      "Estimated remaining time =  44.82390081882477 s\n",
      "\n",
      "Step 8100 : Minibatch Loss: 0.138884\n",
      "Estimated remaining time =  42.48684720051141 s\n",
      "\n",
      "Step 8200 : Minibatch Loss: 0.132819\n",
      "Estimated remaining time =  40.16722306391088 s\n",
      "\n",
      "Step 8300 : Minibatch Loss: 0.127023\n",
      "Estimated remaining time =  37.92112866654453 s\n",
      "\n",
      "Step 8400 : Minibatch Loss: 0.121356\n",
      "Estimated remaining time =  35.75264594668434 s\n",
      "\n",
      "Step 8500 : Minibatch Loss: 0.116020\n",
      "Estimated remaining time =  33.491567120832556 s\n",
      "\n",
      "Step 8600 : Minibatch Loss: 0.110799\n",
      "Estimated remaining time =  31.14306534722794 s\n",
      "\n",
      "Step 8700 : Minibatch Loss: 0.105743\n",
      "Estimated remaining time =  28.85448251099422 s\n",
      "\n",
      "Step 8800 : Minibatch Loss: 0.100954\n",
      "Estimated remaining time =  26.623762249946594 s\n",
      "\n",
      "Step 8900 : Minibatch Loss: 0.096421\n",
      "Estimated remaining time =  24.400094217128967 s\n",
      "\n",
      "Step 9000 : Minibatch Loss: 0.092121\n",
      "Estimated remaining time =  22.157349904378258 s\n",
      "\n",
      "Step 9100 : Minibatch Loss: 0.087759\n",
      "Estimated remaining time =  19.935059261846018 s\n",
      "\n",
      "Step 9200 : Minibatch Loss: 0.083755\n",
      "Estimated remaining time =  17.734815493873928 s\n",
      "\n",
      "Step 9300 : Minibatch Loss: 0.079785\n",
      "Estimated remaining time =  15.516572747179257 s\n",
      "\n",
      "Step 9400 : Minibatch Loss: 0.076112\n",
      "Estimated remaining time =  13.27172305736136 s\n",
      "\n",
      "Step 9500 : Minibatch Loss: 0.072526\n",
      "Estimated remaining time =  11.056790226384214 s\n",
      "\n"
     ]
    },
    {
     "name": "stdout",
     "output_type": "stream",
     "text": [
      "Step 9600 : Minibatch Loss: 0.069165\n",
      "Estimated remaining time =  8.83921355009079 s\n",
      "\n",
      "Step 9700 : Minibatch Loss: 0.065766\n",
      "Estimated remaining time =  6.625717118843315 s\n",
      "\n",
      "Step 9800 : Minibatch Loss: 0.062733\n",
      "Estimated remaining time =  4.414869736651985 s\n",
      "\n",
      "Step 9900 : Minibatch Loss: 0.059635\n",
      "Estimated remaining time =  2.207949426439073 s\n",
      "\n",
      "Step 10000 : Minibatch Loss: 0.056773\n",
      "Estimated remaining time =  0.0 s\n",
      "\n"
     ]
    }
   ],
   "source": [
    "#def train_function(train_setDn, test_setDn):\n",
    "with tf.Graph().as_default():\n",
    "    with tf.variable_scope(\"calibration_phase\"):\n",
    "        \n",
    "        # Placeholders\n",
    "        x = tf.placeholder(\"float\", [None, S])\n",
    "        label = tf.placeholder(\"float\", [None,1])\n",
    "        \n",
    "        phase_train = tf.placeholder(tf.bool)\n",
    "        keep_prob = tf.placeholder(tf.float32) #gateway for dropout\n",
    "\n",
    "        # Extract the latent information (logits from the bottleneck layer)\n",
    "        hidden, W_e = layer1_calib(x, S, n_hidden_calib, phase_train)\n",
    "\n",
    "        # Extract the outputs of the autoencoder\n",
    "        output, W_d = layer2_calib(hidden, S, n_hidden_calib, phase_train)\n",
    "        \n",
    "        \n",
    "        rr_tot = np.dot(output, x)\n",
    "    \n",
    "#         error = (rr_tot - bench_day)**2\n",
    "        \n",
    "        cost = loss(mse(rr_tot, label), regularizer(W_e, W_d), lambd_calib, num_input_calib, batch_size_calib)\n",
    "\n",
    "        train_op = training(cost, learning_rate_calib)\n",
    "\n",
    "        eval_op, val_summary_op = evaluate(rr_tot, label)\n",
    "\n",
    "        # Merge all the summaries - variables, training - into a single operation\n",
    "        summary_op = tf.summary.merge_all()\n",
    "\n",
    "        # Save the trained model for later use (testing)\n",
    "        saver = tf.train.Saver()        \n",
    "\n",
    "        # Create the session list that will be runned for training\n",
    "        \n",
    "        total_loss = np.zeros(num_steps_calib)\n",
    "        \n",
    "        \n",
    "        start_time = time()\n",
    "        \n",
    "        session = tf.Session()\n",
    "        \n",
    "        init_op = tf.global_variables_initializer()\n",
    "        session.run(init_op)\n",
    "        \n",
    "        summary_writer = tf.summary.FileWriter(logs_path, graph=tf.get_default_graph())\n",
    "        \n",
    "        for i in range(1, num_steps_calib + 1):\n",
    "            \n",
    "            \n",
    "            total_batch = int(len(stock_list_2) / batch_size_calib)\n",
    "\n",
    "            for j in range(total_batch):\n",
    "                mini_batch_x, mini_batch_y = next_batch(batch_size_calib, stock_list_2, y)\n",
    "\n",
    "\n",
    "            _, l, summary = session.run([train_op, cost, summary_op], \n",
    "                            feed_dict={x: mini_batch_x , label: mini_batch_y.reshape((batch_size_calib,1)), phase_train: True, keep_prob: val_dropout_calib})\n",
    "            \n",
    "            \n",
    "            total_loss[i-1] = l\n",
    "            \n",
    "            summary_writer.add_summary(summary, i)\n",
    "            \n",
    "            if i % display_step == 0 or i * iteration == 1:\n",
    "\n",
    "                    print('Step %i : Minibatch Loss: %f' % (i, l))\n",
    "                    curr_time = time()\n",
    "                    elapsed_time = curr_time-start_time\n",
    "                    print('Estimated remaining time = ', elapsed_time / i * (num_steps_calib-i),'s\\n')\n",
    "                    \n",
    "        batch_size_verif = len(y)\n",
    "        #mini_batch_x, mini_batch_y = next_batch(batch_size, stock_list_2, y)\n",
    "        \n",
    "        lll=[]\n",
    "        for i in y:\n",
    "            lll.append([i])\n",
    "        mini_batch_x, mini_batch_y = stock_list_2, lll\n",
    "        \n",
    "        #p_calib = session.run([output] , feed_dict={x: mini_batch_x , label: mini_batch_y.reshape((batch_size,1)), phase_train: True, keep_prob: 1})\n",
    "        p_calib = session.run(output , feed_dict={x: mini_batch_x , label: mini_batch_y, phase_train: True, keep_prob: 1})\n",
    "        \n"
   ]
  },
  {
   "cell_type": "code",
   "execution_count": 50,
   "metadata": {},
   "outputs": [],
   "source": [
    "calibration = []\n",
    "for i in range(len(p_calib)):\n",
    "    mini_batch_x_keep = mini_batch_x[i]\n",
    "    p_keep = p_calib[i]\n",
    "    product = np.sum(np.dot(p_keep,mini_batch_x_keep))\n",
    "    calibration.append(product)"
   ]
  },
  {
   "cell_type": "code",
   "execution_count": 51,
   "metadata": {},
   "outputs": [
    {
     "data": {
      "image/png": "[encoded data removed]",
      "text/plain": [
       "<matplotlib.figure.Figure at 0x12ab0d240>"
      ]
     },
     "metadata": {},
     "output_type": "display_data"
    }
   ],
   "source": [
    "plt.plot(calibration)\n",
    "plt.plot(mini_batch_y)\n",
    "plt.show();"
   ]
  },
  {
   "cell_type": "code",
   "execution_count": 52,
   "metadata": {},
   "outputs": [
    {
     "data": {
      "image/png": "[encoded data removed]",
      "text/plain": [
       "<matplotlib.figure.Figure at 0x122edc7f0>"
      ]
     },
     "metadata": {},
     "output_type": "display_data"
    }
   ],
   "source": [
    "mne = [0]*batch_size_verif\n",
    "\n",
    "plt.plot(np.array(calibration)-np.array(y))\n",
    "plt.plot(mne)\n",
    "plt.show();"
   ]
  },
  {
   "cell_type": "markdown",
   "metadata": {},
   "source": [
    "# 9) Plot the outcomes of the training"
   ]
  },
  {
   "cell_type": "code",
   "execution_count": 53,
   "metadata": {},
   "outputs": [],
   "source": [
    "avg_rateOfReturn_calib = np.array(calibration).mean()"
   ]
  },
  {
   "cell_type": "code",
   "execution_count": 54,
   "metadata": {},
   "outputs": [
    {
     "data": {
      "text/plain": [
       "0.0006134829147771628"
      ]
     },
     "execution_count": 54,
     "metadata": {},
     "output_type": "execute_result"
    }
   ],
   "source": [
    "np.array(mini_batch_y).mean()"
   ]
  },
  {
   "cell_type": "code",
   "execution_count": 55,
   "metadata": {},
   "outputs": [
    {
     "name": "stdout",
     "output_type": "stream",
     "text": [
      "8.441781062859554e-05\n",
      "0.0006134829147771628\n"
     ]
    }
   ],
   "source": [
    "print(rate['Adj Close'].mean())\n",
    "print(rate2['Adj Close'].mean())"
   ]
  },
  {
   "cell_type": "code",
   "execution_count": 56,
   "metadata": {},
   "outputs": [
    {
     "data": {
      "image/png": "[encoded data removed]",
      "text/plain": [
       "<matplotlib.figure.Figure at 0x12ab0deb8>"
      ]
     },
     "metadata": {},
     "output_type": "display_data"
    }
   ],
   "source": [
    "result_prices = reconstruct(calibration)\n",
    "expected_prices = reconstruct(rate2['Adj Close'])\n",
    "reconstruct_real_prices = reconstruct(rate['Adj Close'])\n",
    "plt.plot(result_prices,'b', label = \"Prediction\")\n",
    "plt.plot(expected_prices,'r', label = \"Objective\")\n",
    "plt.plot(reconstruct_real_prices,'y', label = \"Benchmark\")\n",
    "plt.legend()\n",
    "plt.show();"
   ]
  },
  {
   "cell_type": "code",
   "execution_count": 57,
   "metadata": {},
   "outputs": [
    {
     "data": {
      "text/plain": [
       "502"
      ]
     },
     "execution_count": 57,
     "metadata": {},
     "output_type": "execute_result"
    }
   ],
   "source": [
    "len(p_calib)"
   ]
  },
  {
   "cell_type": "markdown",
   "metadata": {},
   "source": [
    "# 10) Storing and writing values for memory"
   ]
  },
  {
   "cell_type": "code",
   "execution_count": 58,
   "metadata": {},
   "outputs": [],
   "source": [
    "fields = ['learning_rate_calib', 'num_steps_calib', 'batch_size_calib', 'lambd_calib', 'val_dropout_calib', 'cross_len_calib', 'S', 'Threshold', 'n_hidden_calib', 'avg_rateOfReturn_calib']\n",
    "values = [learning_rate_calib, num_steps_calib, batch_size_calib, lambd_calib, val_dropout_calib, cross_len_calib, S, -threshold , n_hidden_calib, avg_rateOfReturn_calib]"
   ]
  },
  {
   "cell_type": "code",
   "execution_count": 59,
   "metadata": {},
   "outputs": [],
   "source": [
    "ROOTPATH = os.getcwd()\n",
    "\n",
    "if not os.path.isfile('results_calib.csv'):\n",
    "    if computer == 0:\n",
    "        with open('results_calib.csv', 'a') as csvfile:\n",
    "            spamwriter = csv.writer(csvfile, delimiter=',',\n",
    "                                quotechar='|', quoting=csv.QUOTE_MINIMAL)\n",
    "            spamwriter.writerow(fields)\n",
    "    else:\n",
    "        with open('results_calib.csv', 'a', encoding ='mac_roman') as csvfile:\n",
    "            spamwriter = csv.writer(csvfile, delimiter=',',\n",
    "                                quotechar='|', quoting=csv.QUOTE_MINIMAL)\n",
    "            spamwriter.writerow(fields)\n",
    "\n",
    "\n",
    "if computer == 0:\n",
    "    with open('results_calib.csv', 'a') as csvfile:\n",
    "        spamwriter = csv.writer(csvfile, delimiter=',',\n",
    "                            quotechar='|', quoting=csv.QUOTE_MINIMAL)\n",
    "        spamwriter.writerow(values)\n",
    "else:\n",
    "    with open('results_calib.csv', 'a', encoding ='mac_roman') as csvfile:\n",
    "        spamwriter = csv.writer(csvfile, delimiter=',',\n",
    "                            quotechar='|', quoting=csv.QUOTE_MINIMAL)\n",
    "        spamwriter.writerow(values)"
   ]
  },
  {
   "cell_type": "code",
   "execution_count": null,
   "metadata": {
    "collapsed": true
   },
   "outputs": [],
   "source": []
  }
 ],
 "metadata": {
  "kernelspec": {
   "display_name": "Python 3",
   "language": "python",
   "name": "python3"
  },
  "language_info": {
   "codemirror_mode": {
    "name": "ipython",
    "version": 3
   },
   "file_extension": ".py",
   "mimetype": "text/x-python",
   "name": "python",
   "nbconvert_exporter": "python",
   "pygments_lexer": "ipython3",
   "version": "3.6.2"
  }
 },
 "nbformat": 4,
 "nbformat_minor": 2
}
