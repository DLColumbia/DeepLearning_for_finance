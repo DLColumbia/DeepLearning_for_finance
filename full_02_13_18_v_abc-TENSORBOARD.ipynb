{
 "cells": [
  {
   "cell_type": "markdown",
   "metadata": {},
   "source": [
    "# Are you on PC or MAC? pc = 0, mac = 1"
   ]
  },
  {
   "cell_type": "code",
   "execution_count": 1,
   "metadata": {
    "collapsed": true
   },
   "outputs": [],
   "source": [
    "computer = 0\n",
    "#! source activate tensorflow"
   ]
  },
  {
   "cell_type": "code",
   "execution_count": null,
   "metadata": {
    "collapsed": true
   },
   "outputs": [],
   "source": []
  },
  {
   "cell_type": "code",
   "execution_count": null,
   "metadata": {
    "collapsed": true
   },
   "outputs": [],
   "source": []
  },
  {
   "cell_type": "markdown",
   "metadata": {},
   "source": [
    "# IF YOU RUN THIS PAGE FOR THE FIRST TIME : "
   ]
  },
  {
   "cell_type": "markdown",
   "metadata": {},
   "source": [
    "# START HERE"
   ]
  },
  {
   "cell_type": "markdown",
   "metadata": {},
   "source": [
    "# OTHERWISE, YOU CAN START BELOW TO AVOID FETCHING ALL THE DATA AGAIN"
   ]
  },
  {
   "cell_type": "code",
   "execution_count": 2,
   "metadata": {
    "collapsed": true
   },
   "outputs": [],
   "source": [
    "%matplotlib inline\n",
    "\n",
    "import matplotlib\n",
    "import matplotlib.pyplot as plt\n",
    "import matplotlib.dates as md\n",
    "import numpy as np\n",
    "import pandas_datareader.data as web\n",
    "import datetime\n",
    "import pandas as pd\n",
    "import os\n",
    "import csv\n",
    "import glob as glob\n",
    "import tensorflow as tf\n",
    "from time import time\n",
    "from sklearn.preprocessing import MinMaxScaler\n",
    "\n",
    "matplotlib.rcParams[ 'figure.figsize' ] = ( 14, 6 )"
   ]
  },
  {
   "cell_type": "code",
   "execution_count": 3,
   "metadata": {
    "collapsed": true
   },
   "outputs": [],
   "source": [
    "ROOTPATH = os.getcwd()\n",
    "path = os.path.join(ROOTPATH, 'Data')\n",
    "\n",
    "if not os.path.exists(path):\n",
    "    os.makedirs(path)\n"
   ]
  },
  {
   "cell_type": "code",
   "execution_count": null,
   "metadata": {
    "collapsed": true
   },
   "outputs": [],
   "source": []
  },
  {
   "cell_type": "markdown",
   "metadata": {},
   "source": [
    "# 1) This first part is only accessing in a list all the tickers in our fund, via a csv"
   ]
  },
  {
   "cell_type": "code",
   "execution_count": 4,
   "metadata": {
    "collapsed": true
   },
   "outputs": [],
   "source": [
    "# In the file IBB_holdings.csv, the tickers are sorted by descending weigths as of 5-Feb-18\n",
    "# The file contains a lot of information about the fund IBB as of 5-Feb-18, which can be imported via row[i], i being the column you want\n",
    "# For now we only import the first column, tickers.\n",
    "\n",
    "if computer == 0:\n",
    "    with open('IBB_holdings.csv', 'r') as csvfile:\n",
    "        file = csv.reader(csvfile, delimiter=' ')\n",
    "        c=0\n",
    "        list_tickers=[]\n",
    "        for row in file:\n",
    "            if c >= 11:\n",
    "                list_tickers.append(row[0].split(',')[0])\n",
    "            c+=1\n",
    "else:\n",
    "    with open('IBB_holdings.csv', 'r', encoding ='mac_roman') as csvfile:\n",
    "        file = csv.reader(csvfile, delimiter=' ')\n",
    "        c=0\n",
    "        list_tickers=[]\n",
    "        for row in file:\n",
    "            if c >= 11:\n",
    "                list_tickers.append(row[0].split(',')[0])\n",
    "            c+=1\n",
    "            \n",
    "list_tickers.sort()\n",
    "list_tickers.pop()\n",
    "list_tickers.remove(\"BLKFDS\")\n",
    "list_tickers.remove(\"USD\")"
   ]
  },
  {
   "cell_type": "markdown",
   "metadata": {},
   "source": [
    "# 2) We now want to download the data of all tickers as dataframes"
   ]
  },
  {
   "cell_type": "code",
   "execution_count": 5,
   "metadata": {
    "collapsed": true
   },
   "outputs": [],
   "source": [
    "# Setting up the variables\n",
    "\n",
    "start_date = '2016-01-01'\n",
    "end_date = '2018-01-01'\n",
    "\n",
    "\n",
    "nb_tickers = len(list_tickers)\n",
    "list_dataframes=[None]*(nb_tickers)"
   ]
  },
  {
   "cell_type": "code",
   "execution_count": 6,
   "metadata": {},
   "outputs": [
    {
     "name": "stdout",
     "output_type": "stream",
     "text": [
      "harvest number  1\n",
      "Oops!  That was no valid ticker.  Try again... AIMT\n",
      "Oops!  That was no valid ticker.  Try again... AKAO\n",
      "Oops!  That was no valid ticker.  Try again... ARRY\n",
      "Oops!  That was no valid ticker.  Try again... ASND\n",
      "Oops!  That was no valid ticker.  Try again... ATNX\n",
      "Oops!  That was no valid ticker.  Try again... BCRX\n",
      "Oops!  That was no valid ticker.  Try again... BIIB\n",
      "Oops!  That was no valid ticker.  Try again... BOLD\n",
      "Oops!  That was no valid ticker.  Try again... CLXT\n",
      "Oops!  That was no valid ticker.  Try again... COLL\n",
      "Oops!  That was no valid ticker.  Try again... FOLD\n",
      "Oops!  That was no valid ticker.  Try again... FPRX\n",
      "Oops!  That was no valid ticker.  Try again... GLYC\n",
      "Oops!  That was no valid ticker.  Try again... GTHX\n",
      "Oops!  That was no valid ticker.  Try again... ICPT\n",
      "Oops!  That was no valid ticker.  Try again... ILMN\n",
      "Oops!  That was no valid ticker.  Try again... INVA\n",
      "Oops!  That was no valid ticker.  Try again... IRWD\n",
      "Oops!  That was no valid ticker.  Try again... JUNO\n",
      "Oops!  That was no valid ticker.  Try again... LGND\n",
      "Oops!  That was no valid ticker.  Try again... MGNX\n",
      "Oops!  That was no valid ticker.  Try again... NLNK\n",
      "Oops!  That was no valid ticker.  Try again... NVAX\n",
      "Oops!  That was no valid ticker.  Try again... OPK\n",
      "Oops!  That was no valid ticker.  Try again... RETA\n",
      "Oops!  That was no valid ticker.  Try again... SGYP\n",
      "Oops!  That was no valid ticker.  Try again... VYGR\n",
      "harvest number  2\n",
      "Oops!  That was no valid ticker.  Try again... NLNK\n",
      "harvest number  3\n"
     ]
    }
   ],
   "source": [
    "#On Yahoo\n",
    "still_missing = nb_tickers\n",
    "passages = 0\n",
    "\n",
    "while still_missing > 0 and passages < 100:\n",
    "    passages += 1\n",
    "    print(\"harvest number \" , passages)\n",
    "    for i in range (nb_tickers ):\n",
    "        if type(list_dataframes[i]) == type(None):   \n",
    "            symbol = list_tickers[i]\n",
    "            try:\n",
    "                df = web.DataReader(symbol, 'yahoo' , start_date ,end_date)\n",
    "                list_dataframes[i] = df\n",
    "                still_missing -= 1\n",
    "            except:\n",
    "                print(\"Oops!  That was no valid ticker.  Try again... \"+list_tickers[i])"
   ]
  },
  {
   "cell_type": "markdown",
   "metadata": {},
   "source": [
    "# 3) Finally, we can download in a new folder all this information for future use, to avoid downloading them from the web again"
   ]
  },
  {
   "cell_type": "code",
   "execution_count": 7,
   "metadata": {
    "collapsed": true
   },
   "outputs": [],
   "source": [
    "#Download of the dataframes as as many csv's (for now)\n",
    "\n",
    "for i in range (nb_tickers ):  \n",
    "    file_name = 'csv_' + list_tickers[i] + '_from_' + start_date + '_to_' + end_date + \".csv\"\n",
    "    string = path + '\\\\' + file_name\n",
    "    list_dataframes[i].to_csv(string , sep=',')"
   ]
  },
  {
   "cell_type": "markdown",
   "metadata": {},
   "source": [
    "# 4) This program is not (yet) collecting the two tickers that are not equities : BLKFDS and USD"
   ]
  },
  {
   "cell_type": "code",
   "execution_count": null,
   "metadata": {
    "collapsed": true
   },
   "outputs": [],
   "source": []
  },
  {
   "cell_type": "markdown",
   "metadata": {},
   "source": [
    "# 5) We also need a benchmark"
   ]
  },
  {
   "cell_type": "code",
   "execution_count": 8,
   "metadata": {
    "collapsed": true
   },
   "outputs": [],
   "source": [
    "# Here the benchmark is NASDAQ Biotechnology index \n",
    "symbol='^NBI'\n",
    "benchmark1 = web.DataReader(symbol, 'yahoo' , start_date ,end_date)"
   ]
  },
  {
   "cell_type": "code",
   "execution_count": 9,
   "metadata": {
    "collapsed": true
   },
   "outputs": [],
   "source": [
    "# Here the benchmark is iShares Nasdaq Biotechnology ETF \n",
    "symbol='IBB'\n",
    "benchmark2 = web.DataReader(symbol, 'yahoo' , start_date ,end_date)"
   ]
  },
  {
   "cell_type": "markdown",
   "metadata": {},
   "source": [
    "# 6) Now we need rate of returns"
   ]
  },
  {
   "cell_type": "code",
   "execution_count": 10,
   "metadata": {
    "collapsed": true
   },
   "outputs": [],
   "source": [
    "df_ror_1 = benchmark1['High'].pct_change()\n",
    "df_ror_2 = benchmark2['High'].pct_change()"
   ]
  },
  {
   "cell_type": "code",
   "execution_count": 11,
   "metadata": {},
   "outputs": [
    {
     "data": {
      "image/png": "[encoded data removed]",
      "text/plain": [
       "<matplotlib.figure.Figure at 0x2acb28202e8>"
      ]
     },
     "metadata": {},
     "output_type": "display_data"
    }
   ],
   "source": [
    "# Both benchmarks should have similar rate of returns, though they have different prices\n",
    "plt.plot(df_ror_1)\n",
    "plt.hold\n",
    "plt.plot(df_ror_2)\n",
    "plt.show;"
   ]
  },
  {
   "cell_type": "code",
   "execution_count": 12,
   "metadata": {
    "collapsed": true
   },
   "outputs": [],
   "source": [
    "def rateOfReturnWeekly(df,column):\n",
    "    # Column has to be a column of the dataframe (ie 'Open','AdjClose')\n",
    "    \n",
    "    # Making sure dataframe is well sorted\n",
    "    df_sorted = df.sort_index( ascending = True )\n",
    "    \n",
    "\n",
    "    # So far gives daily as shift = 1!\n",
    "    shift = 1\n",
    "    df_shifted = df_sorted.shift(shift)\n",
    "    rate_of_returns = (df_sorted - df_shifted) / df_shifted\n",
    "    rate_of_returns = rate_of_returns.drop(rate_of_returns.index[0])\n",
    "\n",
    "    return rate_of_returns"
   ]
  },
  {
   "cell_type": "markdown",
   "metadata": {},
   "source": [
    "# 7) Function to add noise to a dataframe (a new dataframe will be created)"
   ]
  },
  {
   "cell_type": "code",
   "execution_count": 13,
   "metadata": {
    "collapsed": true
   },
   "outputs": [],
   "source": [
    "def add_noise_2(df_origin, tick, mean = 0, std = 0.005):\n",
    "    noise = []\n",
    "    \n",
    "    # Creating the noise\n",
    "    for i in range(len(df_origin)):\n",
    "        x = np.exp(np.random.normal(mean,std))\n",
    "        noise.append(x)\n",
    "        \n",
    "    df_modified = df_origin.copy()\n",
    "    df_modified['Adj Close'] = df_modified['Adj Close'].multiply(noise)\n",
    "    \n",
    "    file_name = 'csv_' + tick + '_B_' + str(mean) + '_' + str(std) + '_from_' + start_date + '_to_' + end_date + '.csv'\n",
    "    string = path + file_name\n",
    "    df_modified.to_csv(os.path.join(path,file_name), sep=',') "
   ]
  },
  {
   "cell_type": "markdown",
   "metadata": {},
   "source": [
    "# 8) Create all the new csv"
   ]
  },
  {
   "cell_type": "code",
   "execution_count": 14,
   "metadata": {},
   "outputs": [
    {
     "data": {
      "text/plain": [
       "'\\nallFiles = glob.glob(path + \"/csv\" + \"*.csv\")\\n\\n\\ni=0\\nif computer == 0:\\n    for file_ in allFiles:\\n        with open(file_, \\'r\\') as csvfile:\\n            if list_tickers[i] != \\'SNDX\\':\\n                df = pd.read_csv(csvfile, index_col=None, header=0)\\n                add_noise_2(df,list_tickers[i],0,0.01)\\n                #add_noise_2(df,list_tickers[i],0,0.008)\\n                #add_noise_2(df,list_tickers[i],0,0.0003)\\n                #add_noise_2(df,list_tickers[i],0,0.002)\\n                #add_noise_2(df,list_tickers[i],0,0.0006)\\n            i=i+1\\n    \\nif computer == 1:    \\n    for file_ in allFiles:\\n        with open(file_, \\'r\\', encoding =\\'mac_roman\\') as csvfile:\\n            if list_tickers[i] != \\'SNDX\\':\\n                df = pd.read_csv(csvfile, index_col=None, header=0)\\n                add_noise_2(df,list_tickers[i],0,0.01)\\n                #add_noise_2(df,list_tickers[i],0,0.008)\\n                #add_noise_2(df,list_tickers[i],0,0.0003)\\n                #add_noise_2(df,list_tickers[i],0,0.002)\\n                #add_noise_2(df,list_tickers[i],0,0.0006)\\n            i=i+1\\n'"
      ]
     },
     "execution_count": 14,
     "metadata": {},
     "output_type": "execute_result"
    }
   ],
   "source": [
    "\"\"\"\n",
    "allFiles = glob.glob(path + \"/csv\" + \"*.csv\")\n",
    "\n",
    "\n",
    "i=0\n",
    "if computer == 0:\n",
    "    for file_ in allFiles:\n",
    "        with open(file_, 'r') as csvfile:\n",
    "            if list_tickers[i] != 'SNDX':\n",
    "                df = pd.read_csv(csvfile, index_col=None, header=0)\n",
    "                add_noise_2(df,list_tickers[i],0,0.01)\n",
    "                #add_noise_2(df,list_tickers[i],0,0.008)\n",
    "                #add_noise_2(df,list_tickers[i],0,0.0003)\n",
    "                #add_noise_2(df,list_tickers[i],0,0.002)\n",
    "                #add_noise_2(df,list_tickers[i],0,0.0006)\n",
    "            i=i+1\n",
    "    \n",
    "if computer == 1:    \n",
    "    for file_ in allFiles:\n",
    "        with open(file_, 'r', encoding ='mac_roman') as csvfile:\n",
    "            if list_tickers[i] != 'SNDX':\n",
    "                df = pd.read_csv(csvfile, index_col=None, header=0)\n",
    "                add_noise_2(df,list_tickers[i],0,0.01)\n",
    "                #add_noise_2(df,list_tickers[i],0,0.008)\n",
    "                #add_noise_2(df,list_tickers[i],0,0.0003)\n",
    "                #add_noise_2(df,list_tickers[i],0,0.002)\n",
    "                #add_noise_2(df,list_tickers[i],0,0.0006)\n",
    "            i=i+1\n",
    "\"\"\""
   ]
  },
  {
   "cell_type": "markdown",
   "metadata": {},
   "source": [
    "# IF YOU RUN THIS PAGE FOR THE SECOND TIME : "
   ]
  },
  {
   "cell_type": "markdown",
   "metadata": {},
   "source": [
    "# START HERE"
   ]
  },
  {
   "cell_type": "code",
   "execution_count": null,
   "metadata": {
    "collapsed": true
   },
   "outputs": [],
   "source": []
  },
  {
   "cell_type": "code",
   "execution_count": null,
   "metadata": {
    "collapsed": true
   },
   "outputs": [],
   "source": []
  },
  {
   "cell_type": "markdown",
   "metadata": {
    "collapsed": true
   },
   "source": [
    "# Are you on PC or MAC? pc = 0, mac = 1"
   ]
  },
  {
   "cell_type": "code",
   "execution_count": 1,
   "metadata": {},
   "outputs": [],
   "source": [
    "computer = 1\n",
    "#! source activate tensorflow"
   ]
  },
  {
   "cell_type": "markdown",
   "metadata": {},
   "source": [
    "# Librairies"
   ]
  },
  {
   "cell_type": "code",
   "execution_count": 2,
   "metadata": {},
   "outputs": [
    {
     "name": "stderr",
     "output_type": "stream",
     "text": [
      "/anaconda3/lib/python3.6/site-packages/h5py/__init__.py:36: FutureWarning: Conversion of the second argument of issubdtype from `float` to `np.floating` is deprecated. In future, it will be treated as `np.float64 == np.dtype(float).type`.\n",
      "  from ._conv import register_converters as _register_converters\n"
     ]
    }
   ],
   "source": [
    "%matplotlib inline\n",
    "\n",
    "import matplotlib\n",
    "import matplotlib.pyplot as plt\n",
    "import matplotlib.dates as md\n",
    "import numpy as np\n",
    "import pandas_datareader.data as web\n",
    "import datetime\n",
    "import pandas as pd\n",
    "import os\n",
    "import csv\n",
    "import glob as glob\n",
    "import tensorflow as tf\n",
    "from sklearn.preprocessing import MinMaxScaler\n",
    "from time import time\n",
    "\n",
    "matplotlib.rcParams[ 'figure.figsize' ] = ( 14, 6 )"
   ]
  },
  {
   "cell_type": "code",
   "execution_count": 3,
   "metadata": {},
   "outputs": [],
   "source": [
    "# Comprehensive way to set the path to Data directory\n",
    "\n",
    "ROOTPATH = os.getcwd()\n",
    "\n",
    "if not(ROOTPATH[-4:] == 'Data'):\n",
    "    path = os.path.join(ROOTPATH, 'Data')\n",
    "else:\n",
    "    path = ROOTPATH"
   ]
  },
  {
   "cell_type": "markdown",
   "metadata": {},
   "source": [
    "# Importing the data"
   ]
  },
  {
   "cell_type": "code",
   "execution_count": 4,
   "metadata": {},
   "outputs": [],
   "source": [
    "if computer == 0:\n",
    "    with open('IBB_holdings.csv', 'r') as csvfile:\n",
    "        file = csv.reader(csvfile,delimiter=' ')\n",
    "        c=0\n",
    "        list_tickers=[]\n",
    "        for row in file:\n",
    "            if c>=11:\n",
    "                list_tickers.append(row[0].split(',')[0])\n",
    "            c+=1\n",
    "\n",
    "if computer == 1:\n",
    "    with open('IBB_holdings.csv', 'r', encoding ='mac_roman') as csvfile:\n",
    "        file = csv.reader(csvfile,delimiter=' ')\n",
    "        c=0\n",
    "        list_tickers=[]\n",
    "        for row in file:\n",
    "            if c>=11:\n",
    "                list_tickers.append(row[0].split(',')[0])\n",
    "            c+=1            \n",
    "\n",
    "list_tickers.sort()\n",
    "list_tickers.pop()\n",
    "list_tickers.remove(\"BLKFDS\")\n",
    "list_tickers.remove(\"USD\")\n",
    "list_tickers.remove(\"SNDX\")"
   ]
  },
  {
   "cell_type": "code",
   "execution_count": 5,
   "metadata": {},
   "outputs": [],
   "source": [
    "nb_tickers = len(list_tickers)\n",
    "list_dataframes=[]\n",
    "\n",
    "\n",
    "allFiles = glob.glob(path + \"/csv\" + \"*.csv\")\n",
    "i = 0\n",
    "\n",
    "if computer == 0:\n",
    "    for file_ in allFiles:\n",
    "        with open(file_, 'r') as csvfile:\n",
    "            list_dataframes.append(pd.read_csv(csvfile, index_col=None, header=0))\n",
    "            i+=1\n",
    "\n",
    "if computer == 1:\n",
    "    for file_ in allFiles:\n",
    "        with open(file_, 'r', encoding ='mac_roman') as csvfile:\n",
    "            list_dataframes.append(pd.read_csv(csvfile, index_col=None, header=0))\n",
    "            i += 1\n",
    "            \n",
    "num_files = i\n",
    "            \n",
    "            \n",
    "maxi = 0\n",
    "length = 0\n",
    "compt = 0\n",
    "j = 0\n",
    "\n",
    "for df in list_dataframes:\n",
    "    if len(df)>maxi:\n",
    "        maxi = len(df['Adj Close'])\n",
    "\n",
    "data = np.array([np.zeros(maxi)]*(num_files))\n",
    "data_normalized = np.array([np.zeros(maxi)]*(num_files))\n",
    "\n",
    "\n",
    "for df in list_dataframes:\n",
    "    arr = np.array(df['Adj Close'])\n",
    "    if len(arr) == maxi and not df['Adj Close'].isnull().values.any(): \n",
    "        data[j] = arr\n",
    "        minimum = np.min(arr)\n",
    "        maximum = np.max(arr)\n",
    "        arr = (arr - minimum) / (maximum - minimum)\n",
    "        data_normalized[j] = arr\n",
    "        j += 1\n",
    "    else :\n",
    "        compt += 1            \n",
    "    \n",
    "\n",
    "    \n",
    "data = data[:-compt]  \n",
    "data_normalized = data_normalized[:-compt]  \n",
    "\n",
    "\n",
    "idx = np.arange(0 , len(data))\n",
    "np.random.shuffle(idx)\n",
    "data_shuffle = [data_normalized[ i] for i in idx]\n",
    "\n",
    "\n",
    "\n",
    "train_set = data_shuffle[:-50]\n",
    "test_set = data_shuffle[-50:-25]\n",
    "validation_set = data_shuffle[-25:]\n"
   ]
  },
  {
   "cell_type": "markdown",
   "metadata": {},
   "source": [
    "# 9) Set up Tensorboard"
   ]
  },
  {
   "cell_type": "code",
   "execution_count": 6,
   "metadata": {},
   "outputs": [],
   "source": [
    "def variable_summary(var):\n",
    "    with tf.name_scope('summaries'):\n",
    "        mean = tf.reduce_mean(var)\n",
    "        tf.summary.scalar('mean', mean)\n",
    "        with tf.name_scope('stddev'):\n",
    "            stddev = tf.sqrt(tf.reduce_mean(tf.square(var - mean)))\n",
    "        tf.summary.scalar('stddev', stddev)\n",
    "        tf.summary.scalar('max', tf.reduce_max(var))\n",
    "        tf.summary.scalar('min', tf.reduce_min(var))\n",
    "        tf.summary.histogram('histogram', var)"
   ]
  },
  {
   "cell_type": "code",
   "execution_count": null,
   "metadata": {},
   "outputs": [],
   "source": []
  },
  {
   "cell_type": "markdown",
   "metadata": {},
   "source": [
    "# 10) Set up the autoencoder"
   ]
  },
  {
   "cell_type": "code",
   "execution_count": 7,
   "metadata": {},
   "outputs": [],
   "source": [
    "def next_batch(batch_size, data, labels):\n",
    "    '''\n",
    "    Return a total of `num` random samples and labels. \n",
    "    '''\n",
    "    idx = np.arange(0 , len(data))\n",
    "    np.random.shuffle(idx)\n",
    "    idx = idx[:batch_size]\n",
    "    data_shuffle = [data[ i] for i in idx]\n",
    "    labels_shuffle = [labels[ i] for i in idx]\n",
    "\n",
    "    return np.array(data_shuffle), np.array(labels_shuffle)"
   ]
  },
  {
   "cell_type": "markdown",
   "metadata": {},
   "source": [
    "# Parameters"
   ]
  },
  {
   "cell_type": "code",
   "execution_count": 8,
   "metadata": {
    "scrolled": true
   },
   "outputs": [],
   "source": [
    "# Training Parameters\n",
    "learning_rate = 0.001\n",
    "num_steps = 300\n",
    "batch_size = 10\n",
    "lambd = 0.1\n",
    "\n",
    "display_step = 100\n",
    "\n",
    "# Network Parameters \n",
    "\n",
    "num_hidden_1 = 250 # 1st layer num features\n",
    "num_input = 503 # 503 days considered\n",
    "\n",
    "date = str(int(time()))\n",
    "\n",
    "logs_path = '/tmp/tensorflow_logs/autoencoder1/'+date+'/'\n"
   ]
  },
  {
   "cell_type": "markdown",
   "metadata": {},
   "source": [
    "# Placeholders"
   ]
  },
  {
   "cell_type": "code",
   "execution_count": 9,
   "metadata": {},
   "outputs": [],
   "source": [
    "X = tf.placeholder(\"float\", [None, num_input])\n",
    "learning = tf.placeholder(\"float\")\n",
    "keep_prob = tf.placeholder(tf.float32) #gateway for dropout"
   ]
  },
  {
   "cell_type": "markdown",
   "metadata": {},
   "source": [
    "# Weights and biases"
   ]
  },
  {
   "cell_type": "code",
   "execution_count": 10,
   "metadata": {},
   "outputs": [],
   "source": [
    "weights = {\n",
    "    'encoder_h1': tf.Variable(tf.random_normal([num_input, num_hidden_1],mean=0.0,\n",
    "    stddev=1.0/np.sqrt(num_input))),\n",
    "    'decoder_h1': tf.Variable(tf.random_normal([num_hidden_1, num_input],mean=0.0,\n",
    "    stddev=1.0/np.sqrt(num_hidden_1)))\n",
    "}\n",
    "biases = {\n",
    "    'encoder_b1': tf.Variable(tf.zeros([num_hidden_1])),\n",
    "    'decoder_b1': tf.Variable(tf.zeros([num_input])),\n",
    "}"
   ]
  },
  {
   "cell_type": "markdown",
   "metadata": {},
   "source": [
    "# Building layers"
   ]
  },
  {
   "cell_type": "code",
   "execution_count": 11,
   "metadata": {},
   "outputs": [],
   "source": [
    "# Building the encoder\n",
    "def encoder(x, layer_name='encoder'):\n",
    "    # Just 1 layer\n",
    "    with tf.name_scope(layer_name):\n",
    "        with tf.name_scope('weights'):\n",
    "            weights_e = weights['encoder_h1']\n",
    "            variable_summary(weights_e)\n",
    "        with tf.name_scope('biases'):\n",
    "            biases_e = biases['encoder_b1']\n",
    "            variable_summary(biases_e)\n",
    "        with tf.name_scope('Wx_plus_b'):\n",
    "            preactivate = tf.add(tf.matmul(x, weights_e), biases_e)\n",
    "            tf.summary.histogram('pre_activations', preactivate)\n",
    "        with tf.name_scope('batch_norm'):\n",
    "            bn = tf.layers.batch_normalization(preactivate, training = True)\n",
    "            tf.summary.histogram('batch_nomralization', bn)\n",
    "        activations = tf.nn.relu(bn)\n",
    "        tf.summary.histogram('activations', activations)\n",
    "        return activations\n",
    "\n",
    "\n",
    "# Building the decoder\n",
    "def decoder(x,  layer_name='decoder'):\n",
    "    with tf.name_scope(layer_name):\n",
    "        with tf.name_scope('weights'):\n",
    "            weights_d = weights['decoder_h1']\n",
    "            variable_summary(weights_d)\n",
    "        with tf.name_scope('biases'):\n",
    "            biases_d = biases['decoder_b1']\n",
    "            variable_summary(biases_d)\n",
    "        with tf.name_scope('Wx_plus_b'):\n",
    "            preactivate = tf.add(tf.matmul(x, weights_d), biases_d)\n",
    "            tf.summary.histogram('pre_activations', preactivate)\n",
    "        with tf.name_scope('batch_norm'):\n",
    "            bn = tf.layers.batch_normalization(preactivate, training = True)\n",
    "            tf.summary.histogram('batch_normalization', bn)\n",
    "        activations = tf.nn.relu(bn)\n",
    "        activations = tf.nn.relu(preactivate)\n",
    "        tf.summary.histogram('activations', activations)\n",
    "        return activations"
   ]
  },
  {
   "cell_type": "code",
   "execution_count": 12,
   "metadata": {},
   "outputs": [],
   "source": [
    "# Construct model\n",
    "encoder_op = encoder(X)\n",
    "\n",
    "with tf.name_scope('dropout'):\n",
    "    tf.summary.scalar('dropout_keep_probability', keep_prob)\n",
    "    dropped = tf.nn.dropout(encoder_op, keep_prob)\n",
    "\n",
    "decoder_op = decoder(dropped)"
   ]
  },
  {
   "cell_type": "markdown",
   "metadata": {},
   "source": [
    "# Prediction step"
   ]
  },
  {
   "cell_type": "code",
   "execution_count": 13,
   "metadata": {},
   "outputs": [],
   "source": [
    "# Prediction\n",
    "y_pred = decoder_op\n",
    "# Targets (Labels) are the input data.\n",
    "y_true = X\n",
    "\n",
    "# Define loss and optimizer, minimize the squared error\n",
    "#mse = tf.pow(y_true - y_pred, 2)\n",
    "#loss = tf.reduce_sum(mse)\n",
    "\n",
    "mse = tf.squared_difference(y_pred, y_true)"
   ]
  },
  {
   "cell_type": "markdown",
   "metadata": {},
   "source": [
    "# Loss"
   ]
  },
  {
   "cell_type": "code",
   "execution_count": 14,
   "metadata": {},
   "outputs": [],
   "source": [
    "regularizer = tf.nn.l2_loss(weights['encoder_h1'])\n",
    "regularizer += tf.nn.l2_loss(weights['decoder_h1'])\n",
    "#loss = tf.reduce_mean(mse + lambd * regularizer)\n",
    "loss = tf.reduce_sum(mse + lambd * regularizer)/(num_input * batch_size * 2)\n",
    "\n",
    "#Replace learning_rate by learning to get an adaptative learning rate\n",
    "with tf.name_scope('train'):\n",
    "    optimizer = tf.train.AdamOptimizer(learning).minimize(loss)\n",
    "\n",
    "# Initialize the variables (i.e. assign their default value)\n",
    "init = tf.global_variables_initializer()"
   ]
  },
  {
   "cell_type": "markdown",
   "metadata": {},
   "source": [
    "# Summary events for TensorBoard"
   ]
  },
  {
   "cell_type": "code",
   "execution_count": 15,
   "metadata": {},
   "outputs": [],
   "source": [
    "# Add the 'loss' event\n",
    "tf.summary.scalar(\"loss\", loss)\n",
    "\n",
    "# Add the 'accuracy' event\n",
    "# tf.summary.scalar(\"accuracy\", acc)\n",
    "\n",
    "# Merge all summaries into a single op\n",
    "merged_summary_op = tf.summary.merge_all()"
   ]
  },
  {
   "cell_type": "markdown",
   "metadata": {},
   "source": [
    "# 10) Train the autoencoder"
   ]
  },
  {
   "cell_type": "code",
   "execution_count": 16,
   "metadata": {},
   "outputs": [
    {
     "name": "stdout",
     "output_type": "stream",
     "text": [
      "Step 1: Minibatch Loss: 14.172335\n",
      "Estimated remaining time =  47.48893642425537 s\n",
      "\n",
      "Step 100: Minibatch Loss: 0.021670\n",
      "Estimated remaining time =  17.425387859344482 s\n",
      "\n",
      "Step 200: Minibatch Loss: 0.020966\n",
      "Estimated remaining time =  8.671467065811157 s\n",
      "\n",
      "Step 300: Minibatch Loss: 0.019408\n",
      "Estimated remaining time =  0.0 s\n",
      "\n"
     ]
    }
   ],
   "source": [
    "# Start Training\n",
    "# Start a new TF session\n",
    "sess = tf.Session()\n",
    "\n",
    "# Run the initializer\n",
    "sess.run(init)\n",
    "\n",
    "costs = []\n",
    "\n",
    "init_learn =  0.001\n",
    "inter_learn = 0.0001\n",
    "final_learn = 0.00001\n",
    "\n",
    "learn = init_learn\n",
    "\n",
    "# Prepare the summary file for TensorBoard\n",
    "summary_writer = tf.summary.FileWriter(logs_path, graph=tf.get_default_graph())\n",
    "\n",
    "dropout = .9\n",
    "\n",
    "start_time = time()\n",
    "\n",
    "# Training\n",
    "for i in range(1, num_steps+1):\n",
    "    # Prepare Data\n",
    "    # Get the next batch of MNIST data (only images are needed, not labels)\n",
    "    total_batch = int(len(train_set)/batch_size)\n",
    "    \n",
    "    for j in range(total_batch):\n",
    "        mini_batch_x, _ = next_batch(batch_size,train_set,train_set)\n",
    "\n",
    "        # Run optimization op (backprop) and cost op (to get loss value)\n",
    "        if i==2000:\n",
    "            learn = inter_learn\n",
    "        elif i==4000:\n",
    "            learn = final_learn\n",
    "\n",
    "        _, l, summary = sess.run([optimizer, loss, merged_summary_op], \n",
    "                    feed_dict={X: mini_batch_x, learning : learn,  keep_prob : dropout})\n",
    "        costs.append(l)\n",
    "        \n",
    "    # Write on the log file the datas for TensorBoard / First: summary, Second: overall step\n",
    "    summary_writer.add_summary(summary, i)\n",
    "    \n",
    "    # Display logs per step\n",
    "    if i % display_step == 0 or i == 1:\n",
    "        print('Step %i: Minibatch Loss: %f' % (i, l))\n",
    "        curr_time = time()\n",
    "        elapsed_time = curr_time-start_time\n",
    "        print('Estimated remaining time = ', elapsed_time / i * (num_steps-i),'s\\n')"
   ]
  },
  {
   "cell_type": "code",
   "execution_count": 17,
   "metadata": {},
   "outputs": [
    {
     "name": "stdout",
     "output_type": "stream",
     "text": [
      "Minibatch Loss:  0.021719137\n",
      "Minibatch Loss:  0.023055758\n",
      "Minibatch Loss:  0.02242878\n",
      "Minibatch Loss:  0.01969211\n",
      "Minibatch Loss:  0.021513851\n",
      "Minibatch Loss:  0.02281901\n",
      "Minibatch Loss:  0.02119731\n",
      "Minibatch Loss:  0.021254845\n",
      "Minibatch Loss:  0.023651412\n",
      "Minibatch Loss:  0.02469464\n"
     ]
    }
   ],
   "source": [
    "# Testing\n",
    "# Encode and decode images from test set and visualize their reconstruction.\n",
    "n = 10\n",
    "\n",
    "for i in range(n):\n",
    "    # MNIST test set\n",
    "    batch_x, _ = next_batch(batch_size,test_set,test_set)\n",
    "    # Encode and decode the digit image)\n",
    "    l , p = sess.run([loss,y_pred] , feed_dict={X: batch_x,  keep_prob : 1})\n",
    "    print('Minibatch Loss: ', l)    "
   ]
  },
  {
   "cell_type": "markdown",
   "metadata": {},
   "source": [
    "# 11) Exporting"
   ]
  },
  {
   "cell_type": "code",
   "execution_count": 20,
   "metadata": {},
   "outputs": [
    {
     "name": "stdout",
     "output_type": "stream",
     "text": [
      "Run the command line:\n",
      "--> tensorboard --logdir=/tmp/tensorflow_logs/autoencoder1/1519083374/\n",
      "Then open http://0.0.0.0:6006/ into your web browser\n",
      "\n",
      "\n",
      "Or Run the command line:\n",
      "--> python -m tensorboard.main --logdir=C:\\tmp\\tensorflow_logs\\autoencoder1\\1519083374\\\n",
      "Then open http://desktop-p6qj80l:6006/ into your web browser, or anything the command tells you to type\n",
      "\n",
      "\n"
     ]
    }
   ],
   "source": [
    "print(\"Run the command line:\\n\" \\\n",
    "          \"--> tensorboard --logdir=/tmp/tensorflow_logs/autoencoder1/\"+date+\"/\" \\\n",
    "          \"\\nThen open http://0.0.0.0:6006/ into your web browser\\n\\n\")\n",
    "print(\"Or Run the command line:\\n\" \\\n",
    "          \"--> python -m tensorboard.main --logdir=C:\\\\tmp\\\\tensorflow_logs\\\\autoencoder1\\\\\"+date+\"\\\\\" \\\n",
    "          \"\\nThen open http://desktop-p6qj80l:6006/ into your web browser, or anything the command tells you to type\\n\\n\")"
   ]
  },
  {
   "cell_type": "code",
   "execution_count": null,
   "metadata": {},
   "outputs": [
    {
     "name": "stdout",
     "output_type": "stream",
     "text": [
      "/anaconda3/lib/python3.6/site-packages/h5py/__init__.py:36: FutureWarning: Conversion of the second argument of issubdtype from `float` to `np.floating` is deprecated. In future, it will be treated as `np.float64 == np.dtype(float).type`.\n",
      "  from ._conv import register_converters as _register_converters\n",
      "TensorBoard 1.5.1 at http://dyn-160-39-152-177.dyn.columbia.edu:6006 (Press CTRL+C to quit)\n",
      "\u001b[33mW0219 18:40:55.308487 Reloader tf_logging.py:114] Found more than one graph event per run, or there was a metagraph containing a graph_def, as well as one or more graph events.  Overwriting the graph with the newest event.\n",
      "\u001b[0m\u001b[33mW0219 18:40:55.308730 Reloader tf_logging.py:114] Found more than one metagraph event per run. Overwriting the metagraph with the newest event.\n",
      "\u001b[0m\u001b[33mW0219 18:41:02.424282 Reloader tf_logging.py:114] Found more than one graph event per run, or there was a metagraph containing a graph_def, as well as one or more graph events.  Overwriting the graph with the newest event.\n",
      "\u001b[0m\u001b[33mW0219 18:41:02.424875 Reloader tf_logging.py:114] Found more than one metagraph event per run. Overwriting the metagraph with the newest event.\n",
      "\u001b[0m"
     ]
    }
   ],
   "source": [
    "! tensorboard --logdir=/tmp/tensorflow_logs/autoencoder1/ "
   ]
  },
  {
   "cell_type": "code",
   "execution_count": null,
   "metadata": {
    "collapsed": true
   },
   "outputs": [],
   "source": []
  },
  {
   "cell_type": "code",
   "execution_count": null,
   "metadata": {
    "collapsed": true
   },
   "outputs": [],
   "source": []
  },
  {
   "cell_type": "markdown",
   "metadata": {},
   "source": [
    "# 12) Checking prediction"
   ]
  },
  {
   "cell_type": "code",
   "execution_count": 18,
   "metadata": {},
   "outputs": [
    {
     "data": {
      "image/png": "[encoded data removed]",
      "text/plain": [
       "<matplotlib.figure.Figure at 0x1a1e64b2e8>"
      ]
     },
     "metadata": {},
     "output_type": "display_data"
    }
   ],
   "source": [
    "plt.plot(costs)\n",
    "plt.show()"
   ]
  },
  {
   "cell_type": "markdown",
   "metadata": {},
   "source": [
    "# Plotting"
   ]
  },
  {
   "cell_type": "code",
   "execution_count": 19,
   "metadata": {},
   "outputs": [],
   "source": [
    "def denormalize(p,batch):\n",
    "    batch_size = len(batch)\n",
    "    unnormalized_p = {}\n",
    "    for j in range(batch_size):\n",
    "        true = batch[j]\n",
    "        index = -1\n",
    "        i = 0\n",
    "        while index < 0:\n",
    "            if data_normalized[i][0] - true[0] == 0:\n",
    "                index = i\n",
    "            i += 1\n",
    "\n",
    "        minimum = np.min(data[index])\n",
    "        maximum = np.max(data[index])\n",
    "\n",
    "        pred = p[j] * (maximum - minimum) + minimum\n",
    "        unnormalized_p[index] = pred\n",
    "    return unnormalized_p\n",
    "    \n",
    "unnormalized_p = denormalize(p, batch_x)"
   ]
  },
  {
   "cell_type": "code",
   "execution_count": 20,
   "metadata": {},
   "outputs": [
    {
     "data": {
      "image/png": "[encoded data removed]",
      "text/plain": [
       "<matplotlib.figure.Figure at 0x1a1ec6e7b8>"
      ]
     },
     "metadata": {},
     "output_type": "display_data"
    },
    {
     "data": {
      "image/png": "[encoded data removed]",
      "text/plain": [
       "<matplotlib.figure.Figure at 0x1a1e45be80>"
      ]
     },
     "metadata": {},
     "output_type": "display_data"
    },
    {
     "data": {
      "image/png": "[encoded data removed]",
      "text/plain": [
       "<matplotlib.figure.Figure at 0x1a1f0f1f60>"
      ]
     },
     "metadata": {},
     "output_type": "display_data"
    },
    {
     "data": {
      "image/png": "[encoded data removed]",
      "text/plain": [
       "<matplotlib.figure.Figure at 0x1a1f1b7f60>"
      ]
     },
     "metadata": {},
     "output_type": "display_data"
    },
    {
     "data": {
      "image/png": "[encoded data removed]",
      "text/plain": [
       "<matplotlib.figure.Figure at 0x1a1f169eb8>"
      ]
     },
     "metadata": {},
     "output_type": "display_data"
    },
    {
     "data": {
      "image/png": "[encoded data removed]",
      "text/plain": [
       "<matplotlib.figure.Figure at 0x1a1e4e2cc0>"
      ]
     },
     "metadata": {},
     "output_type": "display_data"
    },
    {
     "data": {
      "image/png": "[encoded data removed]",
      "text/plain": [
       "<matplotlib.figure.Figure at 0x1a1e562da0>"
      ]
     },
     "metadata": {},
     "output_type": "display_data"
    },
    {
     "data": {
      "image/png": "[encoded data removed]",
      "text/plain": [
       "<matplotlib.figure.Figure at 0x1a1e5e8e80>"
      ]
     },
     "metadata": {},
     "output_type": "display_data"
    },
    {
     "data": {
      "image/png": "[encoded data removed]",
      "text/plain": [
       "<matplotlib.figure.Figure at 0x1a1e61bc50>"
      ]
     },
     "metadata": {},
     "output_type": "display_data"
    },
    {
     "data": {
      "image/png": "[encoded data removed]",
      "text/plain": [
       "<matplotlib.figure.Figure at 0x1a1ebf7b00>"
      ]
     },
     "metadata": {},
     "output_type": "display_data"
    }
   ],
   "source": [
    "for j in unnormalized_p.keys():\n",
    "    plt.figure()\n",
    "    plt.plot(unnormalized_p[j] ,'r')\n",
    "    plt.hold\n",
    "    plt.plot(data[j] ,'b')\n",
    "    plt.show;"
   ]
  },
  {
   "cell_type": "code",
   "execution_count": null,
   "metadata": {
    "collapsed": true
   },
   "outputs": [],
   "source": []
  },
  {
   "cell_type": "markdown",
   "metadata": {},
   "source": [
    "# Re checking"
   ]
  },
  {
   "cell_type": "code",
   "execution_count": 21,
   "metadata": {},
   "outputs": [],
   "source": [
    "diff = abs(p - batch_x)"
   ]
  },
  {
   "cell_type": "code",
   "execution_count": 22,
   "metadata": {},
   "outputs": [
    {
     "name": "stdout",
     "output_type": "stream",
     "text": [
      "[1.55698578e-01 1.51464472e-01 1.43057510e-01 2.88540192e-01\n",
      " 2.50339382e-01 2.68914291e-01 3.61228599e-01 3.40183350e-01\n",
      " 3.01900026e-01 2.93919133e-01 2.94975413e-01 2.77830032e-01\n",
      " 1.72085926e-01 1.79901503e-01 1.60963125e-01 1.16757756e-01\n",
      " 9.11995531e-02 2.49919253e-01 2.05647598e-01 1.87161282e-01\n",
      " 1.33252284e-01 6.37534882e-02 1.73026393e-02 3.67376652e-03\n",
      " 1.61547637e-02 5.23480993e-02 1.55204940e-02 3.25816820e-03\n",
      " 4.54867984e-02 2.32873364e-02 3.21253427e-02 5.89773040e-02\n",
      " 9.59225101e-02 2.98255121e-02 5.08846158e-02 5.99792572e-02\n",
      " 1.47279506e-01 1.51518200e-01 1.13693648e-01 1.71278180e-01\n",
      " 1.85100060e-01 1.43174086e-01 1.29685997e-01 1.35513367e-01\n",
      " 1.20350931e-01 1.11007591e-01 1.20073652e-01 9.95361373e-02\n",
      " 9.34709729e-02 8.60678161e-02 1.02374636e-01 6.40475722e-02\n",
      " 1.26417060e-01 1.78391400e-01 1.64145624e-01 1.58634535e-01\n",
      " 2.14412928e-01 1.96878537e-01 2.06246361e-01 2.09948916e-01\n",
      " 2.04833217e-01 2.33395353e-01 2.53858126e-01 2.36307056e-01\n",
      " 2.95241565e-01 2.81398439e-01 2.79092224e-01 3.09083059e-01\n",
      " 3.41005683e-01 3.19437918e-01 3.32958886e-01 3.14076186e-01\n",
      " 3.27571280e-01 3.21017317e-01 3.26337280e-01 2.98764554e-01\n",
      " 2.93995477e-01 2.78313989e-01 2.74475426e-01 2.54400587e-01\n",
      " 2.51075230e-01 2.41953464e-01 2.37917094e-01 1.94223045e-01\n",
      " 2.12282010e-01 2.54788356e-01 2.70205316e-01 2.28429423e-01\n",
      " 1.66391776e-01 2.09021844e-01 1.61006072e-01 1.42213774e-01\n",
      " 1.24623814e-01 1.38628371e-01 9.85815190e-02 9.27798082e-02\n",
      " 1.06528273e-01 8.94351193e-02 1.09025924e-01 1.13744731e-01\n",
      " 1.76755981e-01 1.70380247e-01 1.72455221e-01 1.91247630e-01\n",
      " 1.94844826e-01 2.23152323e-01 2.65000893e-01 2.54449796e-01\n",
      " 2.61445333e-01 2.57710664e-01 3.44905051e-02 5.81790192e-02\n",
      " 1.11617956e-01 1.36869469e-01 1.48290965e-01 1.46085219e-01\n",
      " 2.37413084e-01 2.47847176e-01 2.53192705e-01 2.43500903e-01\n",
      " 2.49840799e-01 2.25561166e-01 2.34295916e-01 2.29217219e-01\n",
      " 2.27505760e-01 2.47811399e-01 2.18915936e-01 2.15219366e-01\n",
      " 2.12810499e-01 2.36099173e-01 2.24045368e-01 1.96747568e-01\n",
      " 1.70645911e-01 1.40070094e-01 1.60460021e-01 1.48829717e-01\n",
      " 1.74142660e-01 1.85716628e-01 1.89826033e-01 1.80076514e-01\n",
      " 1.88042338e-01 2.06148463e-01 2.19919022e-01 2.61077267e-01\n",
      " 4.08587945e-01 3.71515673e-01 3.36435976e-01 3.16816080e-01\n",
      " 3.02160027e-01 3.45696202e-01 3.52593229e-01 2.78506696e-01\n",
      " 1.94764092e-01 1.48307123e-01 1.30103500e-01 1.52580957e-01\n",
      " 1.30354510e-01 1.22661189e-01 1.48965663e-01 1.11608834e-01\n",
      " 1.34643205e-01 9.23349450e-02 1.12561842e-01 9.56221887e-02\n",
      " 8.31197581e-02 8.34723438e-02 7.60860900e-02 8.34009422e-02\n",
      " 1.16863803e-01 8.19328827e-02 7.04818534e-02 9.43700696e-02\n",
      " 1.10216012e-01 1.06990223e-01 1.24030211e-01 1.03016374e-01\n",
      " 1.30186568e-01 1.56253062e-01 1.86282256e-01 1.66840108e-01\n",
      " 1.22562845e-01 1.17727192e-01 1.14527133e-01 1.19198250e-01\n",
      " 1.08334874e-01 8.59405161e-02 6.74053138e-02 4.46279318e-02\n",
      " 6.55717552e-02 1.00774220e-01 1.10651474e-01 1.48808729e-01\n",
      " 2.05629546e-01 1.90895017e-01 1.85716104e-01 1.90314261e-01\n",
      " 1.38331997e-01 1.32940035e-01 8.19716109e-02 8.96167294e-02\n",
      " 8.26932576e-02 7.41895832e-02 1.02477026e-01 1.05127185e-01\n",
      " 1.14906271e-01 1.10173629e-01 8.49828925e-02 5.99871467e-02\n",
      " 8.50936880e-02 1.64597897e-01 1.59667193e-01 4.45321697e-02\n",
      " 1.10033639e-01 1.51953792e-01 1.36383043e-01 1.23122753e-01\n",
      " 1.82099194e-01 2.05941502e-01 5.95811112e-02 9.49080548e-02\n",
      " 8.76927766e-02 2.61616740e-02 4.99340390e-03 9.02305684e-03\n",
      " 1.36763414e-02 2.90325872e-02 2.26894744e-02 1.38028107e-02\n",
      " 2.14894990e-02 4.28293308e-03 4.31874384e-02 3.24822404e-02\n",
      " 2.01833026e-04 9.52215488e-03 9.42539552e-03 4.03347969e-02\n",
      " 5.58271871e-02 4.60622633e-02 9.35191084e-02 1.04215771e-01\n",
      " 7.63086723e-02 7.56266614e-02 7.21595404e-02 5.04897301e-02\n",
      " 2.34413119e-02 1.15589889e-02 1.49068626e-03 3.84063856e-02\n",
      " 4.03988358e-02 3.93940930e-02 4.86275885e-02 6.99153906e-02\n",
      " 5.98114254e-02 1.03216927e-01 9.37943449e-02 4.20246212e-02\n",
      " 1.46479319e-01 1.95911241e-01 2.19588759e-01 1.69440989e-01\n",
      " 1.55036095e-01 8.06060850e-02 9.52024853e-02 1.40028758e-01\n",
      " 1.30216648e-01 1.03370699e-01 1.09462619e-01 1.34707851e-01\n",
      " 1.15090314e-01 1.20227304e-01 8.64596294e-02 9.18219590e-02\n",
      " 8.98012531e-02 7.49856323e-02 6.45468171e-02 4.06436208e-02\n",
      " 3.89169277e-02 1.99397698e-02 1.98017512e-02 9.36378517e-03\n",
      " 5.15697301e-02 4.72667206e-02 8.78468591e-02 5.58066099e-02\n",
      " 5.01036906e-02 3.81680026e-02 4.61684494e-02 5.50730392e-03\n",
      " 6.41830209e-03 1.73183450e-02 9.45904087e-03 7.10201090e-02\n",
      " 1.10698457e-01 6.43700160e-02 4.94045687e-02 7.18242186e-02\n",
      " 1.18151517e-01 8.01679870e-02 6.92310479e-02 7.88371937e-02\n",
      " 4.87984174e-02 4.41863241e-02 5.55569862e-02 6.60754902e-02\n",
      " 6.94424424e-02 5.43964424e-02 5.14913203e-02 6.49364578e-03\n",
      " 1.81295396e-02 2.27391410e-02 2.14237596e-02 2.32306315e-02\n",
      " 2.29130260e-02 4.42196942e-02 8.75024286e-02 1.18809057e-01\n",
      " 1.14831960e-01 1.48444586e-01 1.39617880e-01 1.11878386e-01\n",
      " 1.00842853e-01 1.29204159e-01 1.42452344e-01 1.17676914e-01\n",
      " 1.06137868e-01 1.10072074e-01 1.79668534e-01 1.81911174e-01\n",
      " 1.74066880e-01 1.40566878e-01 1.44433689e-01 1.71463236e-01\n",
      " 1.93900068e-01 1.17999330e-01 1.58879003e-01 1.69200316e-01\n",
      " 1.67271269e-01 2.16789784e-01 1.54372203e-01 1.97589185e-01\n",
      " 3.66420329e-01 3.15879480e-01 4.13104032e-01 2.05143788e-01\n",
      " 2.28000983e-01 1.88072393e-01 2.09619923e-01 2.00647625e-01\n",
      " 1.78021479e-01 1.44749302e-01 1.32674200e-01 9.06294677e-02\n",
      " 1.02927889e-01 9.75700533e-02 7.48538649e-02 4.35705552e-02\n",
      " 3.75253340e-02 6.08941687e-02 6.51054221e-02 1.01123797e-01\n",
      " 1.10482566e-01 9.06605567e-02 7.52953292e-02 1.05522708e-01\n",
      " 1.08894359e-01 1.13186157e-01 1.24795496e-01 1.24673650e-01\n",
      " 1.42065447e-01 1.81046717e-01 1.64628510e-01 1.53430860e-01\n",
      " 1.70017519e-01 1.72381601e-01 1.64568624e-01 1.55275419e-01\n",
      " 1.68740221e-01 1.65611875e-01 2.22721013e-01 2.21550702e-01\n",
      " 2.22591922e-01 1.78613251e-01 1.80384734e-01 1.47448838e-01\n",
      " 1.31649034e-01 1.41045864e-01 1.56359397e-01 1.33119070e-01\n",
      " 1.06607698e-01 9.27194513e-02 1.24164868e-01 8.97706730e-02\n",
      " 7.05305570e-02 1.92080551e-01 1.76391146e-01 2.09849653e-01\n",
      " 2.21560563e-01 2.03112707e-01 1.73100983e-01 1.90245090e-01\n",
      " 1.81535007e-01 1.71679314e-01 1.33938228e-01 8.03391289e-02\n",
      " 4.94545760e-02 2.65624080e-02 2.34588744e-02 1.31914002e-02\n",
      " 3.82618189e-02 7.03531474e-02 2.54957640e-02 2.15166774e-02\n",
      " 8.69965698e-03 6.08580566e-03 1.30902429e-03 3.19070195e-02\n",
      " 2.01725765e-02 1.77830985e-02 1.53640205e-02 3.49297556e-02\n",
      " 3.18461536e-03 1.54343396e-02 3.59507647e-02 8.50384980e-03\n",
      " 4.48649183e-02 6.96958208e-02 8.14072436e-02 7.68624330e-02\n",
      " 5.46593559e-02 7.68143093e-02 1.22739706e-02 2.01601090e-02\n",
      " 3.60233207e-02 4.92733599e-02 4.73375105e-02 5.60112912e-02\n",
      " 5.22140544e-02 3.35758274e-02 4.12116879e-02 1.06642374e-01\n",
      " 9.11970484e-02 9.76347002e-02 7.76056067e-02 6.47923183e-02\n",
      " 5.17501522e-02 3.86562498e-02 5.11150184e-02 1.28389825e-02\n",
      " 4.79551008e-02 4.10891942e-02 4.57712640e-02 2.82933562e-02\n",
      " 3.58476768e-02 3.52625367e-02 1.67762190e-02 2.45080067e-02\n",
      " 8.51061489e-04 6.92893433e-02 5.70357874e-02 8.36967208e-02\n",
      " 2.59959436e-02 4.14136228e-02 3.79394845e-02 5.27740030e-02\n",
      " 6.55875225e-02 9.75224061e-02 1.06936453e-01 1.01455022e-01\n",
      " 5.79540016e-02 8.14172002e-02 5.58117781e-02 8.01791273e-02\n",
      " 9.70535201e-02 9.95560243e-02 1.07975811e-01 8.92439551e-02\n",
      " 7.68264516e-02 6.77203159e-02 1.05265643e-01 8.54377070e-02\n",
      " 9.98599735e-02 1.19790149e-01 1.22594066e-01 1.26250716e-01\n",
      " 1.57404468e-01 1.29202438e-01 1.37071565e-01 1.31524822e-01\n",
      " 1.30727698e-01 1.67673322e-01 1.36022648e-01 1.48283390e-01\n",
      " 7.55105404e-02 8.34200089e-02 3.00464056e-02 4.68514485e-02\n",
      " 2.34991123e-03 3.60807349e-04 1.13927138e-03 6.93778777e-03\n",
      " 4.80007765e-03 3.28968179e-02 1.40059211e-02]\n",
      "[4.62654111e-01 4.60286388e-01 4.42138094e-01 3.73403326e-01\n",
      " 3.90992746e-01 3.86485869e-01 3.63669702e-01 3.40895740e-01\n",
      " 3.54272914e-01 3.56589621e-01 3.67914922e-01 4.04971325e-01\n",
      " 4.40489488e-01 4.26317157e-01 4.34463993e-01 4.10587993e-01\n",
      " 3.86569374e-01 3.73102945e-01 3.48212918e-01 3.43475409e-01\n",
      " 3.50572898e-01 3.37497240e-01 3.56498187e-01 3.38251904e-01\n",
      " 2.86109525e-01 3.16547573e-01 2.78799657e-01 2.51663956e-01\n",
      " 2.81841080e-01 2.29989419e-01 2.64328830e-01 2.35106924e-01\n",
      " 2.54147749e-01 2.59882463e-01 2.43170178e-01 2.33854978e-01\n",
      " 2.65795823e-01 2.58374956e-01 2.39125004e-01 2.31428571e-01\n",
      " 2.32364843e-01 2.03125552e-01 1.97119195e-01 1.97036912e-01\n",
      " 1.85986116e-01 1.97435474e-01 1.77713351e-01 1.94267331e-01\n",
      " 1.57756922e-01 1.67724935e-01 1.80230818e-01 1.85885137e-01\n",
      " 2.02116084e-01 2.06339731e-01 2.09812042e-01 2.12519173e-01\n",
      " 2.04012081e-01 1.97249044e-01 2.12382126e-01 1.94192733e-01\n",
      " 1.91171166e-01 2.13285407e-01 2.61431574e-01 2.34966071e-01\n",
      " 2.74879488e-01 2.41190555e-01 2.03572310e-01 1.77018860e-01\n",
      " 1.64578739e-01 1.82441768e-01 2.01177572e-01 1.77293801e-01\n",
      " 1.58179497e-01 1.45665460e-01 1.56378444e-01 1.65812710e-01\n",
      " 1.23862358e-01 1.14309848e-01 1.10054483e-01 7.70875321e-02\n",
      " 6.46552797e-02 6.05867199e-02 6.37126086e-02 5.77786781e-02\n",
      " 5.16169210e-02 8.80936608e-02 8.62846251e-02 1.05377789e-01\n",
      " 8.77115479e-02 1.09283815e-01 1.01461553e-01 1.15217290e-01\n",
      " 1.10813981e-01 1.24686962e-01 1.13981818e-01 9.63800683e-02\n",
      " 1.25839251e-01 1.23648335e-01 1.64644173e-01 1.66772002e-01\n",
      " 2.02410883e-01 1.84754184e-01 1.80353914e-01 2.27609740e-01\n",
      " 2.30649865e-01 1.82650372e-01 2.23799067e-01 2.01507324e-01\n",
      " 1.97831860e-01 2.12057280e-01 1.81568555e-01 1.84395433e-01\n",
      " 1.76821199e-01 1.78717547e-01 1.78288320e-01 1.60824651e-01\n",
      " 1.62905041e-01 1.64490329e-01 1.51334573e-01 1.45514314e-01\n",
      " 1.48110759e-01 1.59424786e-01 1.82443228e-01 1.99690765e-01\n",
      " 1.91763460e-01 1.90588373e-01 1.62129038e-01 1.31267667e-01\n",
      " 8.38404427e-02 9.03491769e-02 1.17203406e-01 1.34214148e-01\n",
      " 1.35190236e-01 1.39834462e-01 1.37400175e-01 8.87047529e-02\n",
      " 1.17678657e-01 2.43629648e-03 1.16329009e-03 1.66984225e-02\n",
      " 4.22571138e-02 4.87060012e-02 6.89144693e-02 1.01494697e-01\n",
      " 1.87847785e-01 1.99604922e-01 1.94931195e-01 1.90046720e-01\n",
      " 1.68647451e-01 1.81109845e-01 1.62264724e-01 1.34348977e-01\n",
      " 1.16234342e-01 1.31643544e-01 1.34207496e-01 1.06530051e-01\n",
      " 1.21547876e-01 9.44604808e-02 8.49808898e-02 7.84614604e-02\n",
      " 7.50825440e-02 8.91508059e-02 7.73415211e-02 8.30266170e-02\n",
      " 8.48418728e-02 9.42860536e-02 1.07672879e-01 1.16113870e-01\n",
      " 1.55269460e-01 1.63786837e-01 1.45937039e-01 1.50717578e-01\n",
      " 1.63972004e-01 1.87764169e-01 2.06752423e-01 1.96508343e-01\n",
      " 2.11137611e-01 2.29410297e-01 2.69850096e-01 2.41408004e-01\n",
      " 2.59746086e-01 2.62474481e-01 2.86394257e-01 2.95808169e-01\n",
      " 3.09871485e-01 3.18193760e-01 3.14864364e-01 3.36344131e-01\n",
      " 2.75619798e-01 2.45415626e-01 2.13326180e-01 2.39538327e-01\n",
      " 2.29103051e-01 2.12756065e-01 2.63425559e-01 2.88836621e-01\n",
      " 2.59089650e-01 2.50149781e-01 2.56416663e-01 2.72055753e-01\n",
      " 3.09692042e-01 3.18903118e-01 3.27941190e-01 3.41387541e-01\n",
      " 3.88009736e-01 3.82883384e-01 3.46608896e-01 3.02503897e-01\n",
      " 3.18679031e-01 3.19085393e-01 3.33429604e-01 2.87802293e-01\n",
      " 3.12627482e-01 3.04833612e-01 2.72012335e-01 1.95930427e-01\n",
      " 1.59589161e-01 1.68594700e-01 2.07862397e-01 1.71746878e-01\n",
      " 1.23587962e-01 1.90251619e-01 1.55413725e-01 1.35039891e-01\n",
      " 1.04903276e-01 6.00886307e-02 8.01032436e-02 6.22865003e-02\n",
      " 1.50268070e-02 2.39838746e-03 1.33595782e-02 3.36545677e-02\n",
      " 1.84713072e-02 3.77824102e-02 3.76027421e-02 7.31557772e-02\n",
      " 4.98088381e-02 1.16313065e-02 2.36745088e-02 4.17560122e-02\n",
      " 1.31123310e-02 1.37962750e-02 2.50706357e-02 7.93394396e-03\n",
      " 2.13031163e-02 2.33248701e-02 3.23194470e-02 7.10936671e-02\n",
      " 4.78097885e-02 4.72894141e-02 1.97972227e-02 7.67349535e-03\n",
      " 1.20754929e-02 1.15415858e-02 1.53524130e-03 3.01001041e-03\n",
      " 9.87958339e-03 2.94935755e-02 2.19204680e-02 1.62864010e-02\n",
      " 1.17280156e-02 2.71873009e-02 3.91224950e-02 4.63208214e-02\n",
      " 5.54580930e-02 5.83965909e-02 6.27795650e-02 5.67078807e-02\n",
      " 2.81727721e-02 1.78654042e-02 2.27304237e-02 4.38628475e-02\n",
      " 9.09119251e-02 1.34998114e-01 1.20179394e-01 2.08068174e-01\n",
      " 1.69608457e-01 1.82111551e-01 1.81000956e-01 1.65004415e-01\n",
      " 1.79244342e-01 1.59191729e-01 9.20025058e-02 2.37337995e-01\n",
      " 2.40727542e-01 2.29725814e-01 2.02014621e-01 2.09984850e-01\n",
      " 2.32140746e-01 2.91933013e-01 3.13038364e-01 2.73032273e-01\n",
      " 2.33968924e-01 2.24849701e-01 2.26723477e-01 1.88993823e-01\n",
      " 1.90867113e-01 2.57157721e-01 2.50498161e-01 2.42419593e-01\n",
      " 2.28261543e-01 2.46946990e-01 2.38489489e-01 1.83515252e-01\n",
      " 1.74304924e-01 2.19274783e-01 2.35164361e-01 2.48062786e-01\n",
      " 2.76681143e-01 2.17962887e-01 1.73895444e-01 1.45388256e-01\n",
      " 6.82469529e-02 6.34109700e-02 4.77812765e-02 5.36389144e-02\n",
      " 2.97259014e-02 1.05438627e-02 2.08311952e-02 4.86547872e-02\n",
      " 6.88488532e-02 5.52260267e-02 2.00782122e-02 2.13194181e-02\n",
      " 4.82336853e-02 6.75154229e-02 8.16009142e-02 1.10239264e-01\n",
      " 1.15904453e-01 1.16470317e-01 1.29837673e-01 1.42116309e-01\n",
      " 1.01552939e-01 8.59698579e-02 9.93506060e-02 9.85236051e-02\n",
      " 2.15960734e-01 2.46882956e-01 1.80824015e-01 1.64902877e-01\n",
      " 1.15093414e-01 1.24905400e-01 4.46834639e-02 6.41297598e-02\n",
      " 5.21792743e-02 8.81360255e-02 1.93688969e-02 4.14605151e-02\n",
      " 3.27111840e-02 4.49282387e-02 6.99475019e-02 7.51978738e-02\n",
      " 9.57519045e-02 1.09496219e-01 1.05950194e-01 8.82912049e-02\n",
      " 7.19149308e-02 5.07057615e-02 4.48168846e-02 3.13030538e-02\n",
      " 8.09442893e-03 1.68068182e-03 1.07911394e-02 2.01307767e-02\n",
      " 1.05646014e-02 3.80762525e-02 3.45725201e-02 5.03523471e-02\n",
      " 1.97772818e-02 2.13710189e-02 1.32261659e-02 1.81800392e-02\n",
      " 3.00921242e-02 6.36937441e-02 7.26186991e-02 5.26093602e-02\n",
      " 5.30707199e-02 5.21931708e-02 4.72341239e-02 4.55628580e-02\n",
      " 5.57950457e-02 5.08538591e-02 4.25455639e-02 3.62737051e-02\n",
      " 4.07178237e-02 3.14855497e-02 1.98926153e-02 2.40988988e-02\n",
      " 3.96125002e-02 7.73844924e-02 7.07552042e-02 5.89823270e-02\n",
      " 4.49309876e-02 3.99711312e-02 5.79949595e-02 6.52902500e-02\n",
      " 7.63293206e-02 5.89251518e-02 5.18569000e-02 6.78126348e-02\n",
      " 4.95064219e-02 2.42822800e-02 4.94837947e-02 5.59729104e-02\n",
      " 1.59341511e-02 7.61578529e-03 3.30616711e-02 1.44224930e-02\n",
      " 4.62279484e-02 5.07936482e-02 2.48551846e-02 4.49546095e-02\n",
      " 2.61552288e-02 3.47351349e-02 3.60709195e-02 2.73540100e-02\n",
      " 8.48348908e-02 9.18056861e-02 1.25659747e-01 1.21470210e-01\n",
      " 5.98733721e-02 4.59927072e-02 1.51789302e-02 3.79638820e-02\n",
      " 4.65856653e-02 9.41518454e-02 8.22586105e-02 9.18610143e-02\n",
      " 6.85291822e-02 8.97610010e-02 1.63426829e-01 1.88782057e-01\n",
      " 1.72572398e-01 1.80055733e-01 1.70898194e-01 1.89592222e-01\n",
      " 1.35998675e-01 1.49255640e-01 1.87244454e-01 2.26138696e-01\n",
      " 2.38714815e-01 2.37975525e-01 2.13914928e-01 2.08866991e-01\n",
      " 1.93883996e-01 1.87664642e-01 2.14660782e-01 2.08207276e-01\n",
      " 1.17842336e-01 1.17369431e-01 1.16021846e-01 1.48273983e-01\n",
      " 1.51046771e-01 1.20625613e-01 1.05337845e-01 1.03482722e-01\n",
      " 3.49185169e-02 7.77559081e-02 4.88827616e-02 8.78673703e-02\n",
      " 7.15806583e-02 7.54416484e-02 3.18715960e-02 4.43152663e-02\n",
      " 5.92641668e-02 3.94552787e-02 2.14140433e-02 7.16070998e-03\n",
      " 2.24324345e-02 6.76236230e-03 1.64916037e-02 3.25914054e-02\n",
      " 1.76260948e-02 1.56865689e-03 3.65867661e-03 2.27999470e-02\n",
      " 3.25503070e-02 3.41111367e-02 1.48053200e-02 2.87456430e-02\n",
      " 1.18741996e-02 2.48770091e-03 4.85932735e-03 5.27559054e-03\n",
      " 1.60048981e-03 1.62870346e-04 3.12990008e-03 5.73312579e-02\n",
      " 7.40382248e-02 1.84591529e-02 1.90314681e-02 7.69920758e-02\n",
      " 1.30058236e-02 1.29543620e-04 9.71242878e-03 2.45991159e-02\n",
      " 2.99161992e-02 7.69453991e-03 1.38333476e-02 1.01637020e-02\n",
      " 1.16285531e-02 4.24041575e-03 1.12527511e-02]\n",
      "[0.22576076 0.20549541 0.22159659 0.21577837 0.22835792 0.22317593\n",
      " 0.1969612  0.22727766 0.14018551 0.10037095 0.10108641 0.0611871\n",
      " 0.08537516 0.10751202 0.12882847 0.16966533 0.17682746 0.18556752\n",
      " 0.20620001 0.19298149 0.23662089 0.22068524 0.30484471 0.29949256\n",
      " 0.32227819 0.33219731 0.293152   0.23771392 0.24942503 0.28422525\n",
      " 0.31158476 0.30752082 0.30657514 0.29288653 0.29696043 0.27066462\n",
      " 0.26964561 0.26705137 0.27296595 0.28474511 0.2766662  0.32758803\n",
      " 0.34996569 0.39010594 0.38415557 0.38350921 0.35680672 0.35423909\n",
      " 0.35124336 0.31470813 0.30754219 0.30227449 0.31890977 0.31537156\n",
      " 0.28730632 0.30570109 0.30852114 0.2944232  0.29657132 0.28678304\n",
      " 0.25582511 0.24044445 0.2340479  0.21544571 0.20539278 0.21476504\n",
      " 0.1910818  0.2119757  0.19884438 0.19732068 0.17984133 0.18528791\n",
      " 0.20279622 0.1810819  0.17339389 0.15146334 0.17224533 0.16009294\n",
      " 0.16141715 0.16517279 0.13965209 0.13963774 0.12158447 0.14069408\n",
      " 0.14021885 0.14107789 0.14561749 0.13318072 0.13123689 0.15365474\n",
      " 0.11892477 0.10421064 0.08979738 0.13263584 0.09267545 0.04928019\n",
      " 0.05824834 0.06251204 0.08548197 0.15021625 0.15638506 0.15489297\n",
      " 0.09544746 0.10517461 0.10249632 0.09401899 0.06880958 0.05804245\n",
      " 0.03689602 0.06670948 0.05520481 0.05268251 0.05036438 0.05543981\n",
      " 0.06245535 0.08145172 0.09979319 0.11988445 0.11253795 0.0916152\n",
      " 0.05629293 0.03750502 0.03669117 0.02493314 0.02435409 0.05628628\n",
      " 0.02621002 0.01361293 0.00290819 0.0140449  0.02173503 0.03802588\n",
      " 0.0552091  0.05994844 0.07100066 0.05407561 0.02847293 0.03502327\n",
      " 0.02624188 0.01211297 0.01345755 0.02161515 0.02155846 0.04864427\n",
      " 0.08814519 0.08054891 0.09406936 0.11332638 0.11197069 0.11014196\n",
      " 0.12212023 0.12428914 0.07990616 0.08477954 0.07620845 0.09280772\n",
      " 0.09550904 0.08969709 0.09818699 0.07837051 0.02289545 0.01775591\n",
      " 0.01651827 0.01782517 0.0141781  0.01330852 0.02669119 0.02900836\n",
      " 0.00598543 0.01073871 0.00670337 0.00905501 0.03567901 0.02167026\n",
      " 0.02753824 0.02551026 0.03060152 0.02822323 0.00467781 0.01327612\n",
      " 0.01141564 0.0295611  0.04487818 0.03777615 0.04126449 0.05149289\n",
      " 0.08849092 0.06929367 0.08021685 0.0943848  0.09279818 0.08433593\n",
      " 0.1291313  0.12019456 0.16303883 0.15231342 0.1572472  0.13149891\n",
      " 0.14798105 0.13828546 0.11823046 0.11166704 0.10248748 0.08644399\n",
      " 0.09260954 0.06995876 0.07830352 0.07135966 0.06752557 0.0821316\n",
      " 0.06752157 0.06539112 0.08126766 0.08146108 0.04950208 0.02359765\n",
      " 0.02456968 0.04260319 0.01826367 0.04022213 0.00489281 0.00976843\n",
      " 0.00357332 0.00506018 0.00834858 0.03210858 0.01554531 0.00457206\n",
      " 0.01598925 0.02752525 0.02887515 0.0824568  0.09696045 0.1002399\n",
      " 0.08806838 0.10237077 0.14973605 0.15145577 0.13039307 0.11017019\n",
      " 0.09425968 0.0996145  0.13579777 0.15359132 0.13515047 0.13482357\n",
      " 0.15458179 0.17953815 0.1952294  0.18116343 0.18078081 0.17270579\n",
      " 0.18943282 0.17407627 0.182104   0.1216253  0.10234396 0.16898541\n",
      " 0.17712293 0.17906663 0.15514638 0.16518235 0.13779022 0.12526693\n",
      " 0.12852292 0.1809574  0.14209084 0.14875079 0.14189743 0.14218928\n",
      " 0.12189859 0.09761303 0.0954501  0.10255085 0.09241365 0.09455271\n",
      " 0.07130409 0.0785175  0.05896426 0.07984577 0.14889096 0.18157647\n",
      " 0.1955685  0.16776148 0.16137255 0.14889031 0.16182743 0.14953488\n",
      " 0.15230495 0.13698204 0.14370407 0.16564026 0.18127676 0.18541906\n",
      " 0.1716862  0.15592904 0.14523788 0.12174247 0.10147911 0.07581904\n",
      " 0.09686535 0.07898328 0.10674338 0.13473706 0.14973673 0.14761678\n",
      " 0.15585276 0.15011153 0.14592163 0.1495718  0.16190496 0.14877073\n",
      " 0.18404445 0.14964371 0.13418819 0.12063912 0.15786575 0.1762315\n",
      " 0.1594937  0.18036648 0.14694329 0.08675722 0.11484812 0.12783768\n",
      " 0.08499433 0.0704633  0.07935127 0.07364751 0.0761636  0.08992731\n",
      " 0.07307753 0.07775906 0.08562098 0.09662166 0.10172584 0.09883622\n",
      " 0.09277928 0.10152683 0.07274074 0.08087519 0.11857439 0.07189048\n",
      " 0.12316841 0.08975092 0.11934694 0.11465225 0.11973443 0.10379771\n",
      " 0.12575828 0.12965862 0.02334167 0.01904501 0.0345112  0.09002669\n",
      " 0.08893218 0.08333623 0.06992623 0.07626348 0.06591022 0.07684793\n",
      " 0.10569603 0.10643962 0.08968942 0.09118502 0.10289149 0.13353616\n",
      " 0.09785234 0.09510759 0.09405435 0.08613479 0.1041545  0.10339041\n",
      " 0.09505166 0.09705816 0.09832665 0.10506476 0.11606937 0.11042249\n",
      " 0.09379957 0.09629047 0.1027417  0.11986388 0.13361836 0.11801897\n",
      " 0.09796993 0.0604321  0.07741616 0.07695466 0.08248221 0.0932101\n",
      " 0.11649733 0.08015503 0.07347007 0.06952499 0.05384804 0.0463336\n",
      " 0.06246478 0.05564653 0.03086108 0.02759946 0.06789769 0.06988007\n",
      " 0.0924231  0.11807426 0.12248911 0.11317165 0.11170924 0.11024826\n",
      " 0.09720534 0.09694244 0.07279312 0.06387795 0.05087028 0.04156804\n",
      " 0.067269   0.03912128 0.00863063 0.00315311 0.01716912 0.05789619\n",
      " 0.06312619 0.08887545 0.07718056 0.04891848 0.05106396 0.04039884\n",
      " 0.03666925 0.03573891 0.02053971 0.00883248 0.00334636 0.00643697\n",
      " 0.02310891 0.07384074 0.0618259  0.04330146 0.011057   0.00428413\n",
      " 0.01191778 0.02031805 0.01318171 0.01108448 0.00497728 0.01773947\n",
      " 0.00933472 0.01238702 0.00447814 0.00325843 0.0043375  0.0190248\n",
      " 0.00758568 0.01165551 0.03697184 0.05813006 0.05858294 0.06909089\n",
      " 0.03727213 0.00183661 0.02154765 0.0682473  0.06095142 0.06458939\n",
      " 0.04019356 0.32722688 0.32487267 0.3291089  0.37054347 0.36536515\n",
      " 0.39687771 0.38570721 0.36916819 0.38096907 0.32341275 0.30511732\n",
      " 0.2947452  0.29245088 0.3232855  0.26102279 0.25349872 0.27092111\n",
      " 0.18884994 0.19186444 0.2400619  0.29286273 0.28054534 0.26345876\n",
      " 0.25073744 0.29794589 0.29979612 0.24969872 0.23760915 0.23728283\n",
      " 0.2276659  0.21074158 0.20332516 0.16202501 0.1981625  0.1865946\n",
      " 0.1926288  0.17554355 0.21853263 0.25625624 0.32448149]\n",
      "[6.39377275e-01 6.20420041e-01 6.04536961e-01 5.30656261e-01\n",
      " 5.29188859e-01 5.03358786e-01 5.13260421e-01 4.67629808e-01\n",
      " 4.86614770e-01 4.44365602e-01 4.11804022e-01 4.42389539e-01\n",
      " 4.46716762e-01 4.66914085e-01 4.53713381e-01 4.34618828e-01\n",
      " 4.01561532e-01 3.78292965e-01 3.78669241e-01 3.77073472e-01\n",
      " 4.05109492e-01 3.96188395e-01 4.05465411e-01 3.61957393e-01\n",
      " 3.13756632e-01 3.15139506e-01 3.06948619e-01 2.88077070e-01\n",
      " 3.01978667e-01 3.33281834e-01 3.86130235e-01 3.62975064e-01\n",
      " 3.86922888e-01 3.85015081e-01 3.51629972e-01 3.41984593e-01\n",
      " 3.44882006e-01 3.61817504e-01 3.29383092e-01 3.35790675e-01\n",
      " 3.68912277e-01 3.36804133e-01 3.45435543e-01 3.80816866e-01\n",
      " 3.43941999e-01 3.32660474e-01 2.95874914e-01 3.02473489e-01\n",
      " 3.20790351e-01 2.78247293e-01 2.78674707e-01 2.68026446e-01\n",
      " 2.89692580e-01 2.97853518e-01 3.18314534e-01 3.02828082e-01\n",
      " 3.01472989e-01 3.03077845e-01 3.02531177e-01 2.76851386e-01\n",
      " 2.75916782e-01 2.83868594e-01 3.06258874e-01 2.76966129e-01\n",
      " 3.11661428e-01 3.11177601e-01 2.88937820e-01 2.76457436e-01\n",
      " 2.88229759e-01 2.94422524e-01 2.97230481e-01 2.92933116e-01\n",
      " 2.97698774e-01 2.69426943e-01 2.59695913e-01 2.73165879e-01\n",
      " 2.64902750e-01 2.68228212e-01 2.35836348e-01 2.17735299e-01\n",
      " 2.16651639e-01 2.01495021e-01 2.06366026e-01 2.04291255e-01\n",
      " 2.16329983e-01 2.03237522e-01 2.14152449e-01 2.42435763e-01\n",
      " 2.26333546e-01 2.16749843e-01 2.03585396e-01 1.96905906e-01\n",
      " 1.95780966e-01 2.02054078e-01 2.04188038e-01 1.90573905e-01\n",
      " 2.03288103e-01 2.18141179e-01 2.38188944e-01 2.38261050e-01\n",
      " 2.03494384e-01 2.03586885e-01 2.01438937e-01 2.10375341e-01\n",
      " 2.14480970e-01 1.74725986e-01 1.89784545e-01 1.85882889e-01\n",
      " 1.86413996e-01 1.69790593e-01 1.44689259e-01 1.23879421e-01\n",
      " 9.59536696e-02 9.83934367e-02 1.11168292e-01 9.28390874e-02\n",
      " 1.06549311e-01 9.55492584e-02 7.87351337e-02 7.96187043e-02\n",
      " 5.76401794e-02 3.89720834e-02 6.27525290e-02 5.77921519e-02\n",
      " 5.71152889e-02 6.52854781e-02 6.72557057e-02 8.09180416e-02\n",
      " 7.42768755e-02 6.37019316e-02 7.18273233e-02 7.80009717e-02\n",
      " 4.59452694e-02 4.50660292e-02 6.45766990e-02 6.06157131e-02\n",
      " 4.83073626e-02 7.54652538e-02 6.43894671e-02 6.89991201e-02\n",
      " 8.26973283e-02 9.31370154e-02 1.05984578e-01 9.59134013e-02\n",
      " 7.77526624e-02 7.05776055e-02 8.01388176e-02 9.47858920e-02\n",
      " 9.76784329e-02 1.31964507e-01 1.22380424e-01 1.22425295e-01\n",
      " 7.99755678e-02 9.96959109e-02 1.02673496e-01 1.12957439e-01\n",
      " 1.07101682e-01 9.08923356e-02 9.47602938e-02 1.00377191e-01\n",
      " 1.03227951e-01 9.29609399e-02 8.18268978e-02 7.46853273e-02\n",
      " 6.77413695e-02 7.25215400e-02 7.06725952e-02 5.32896341e-02\n",
      " 6.09971799e-02 4.25126207e-02 1.87504502e-02 2.94695414e-02\n",
      " 5.03534006e-02 7.14428539e-02 9.87173305e-02 1.06024594e-01\n",
      " 1.19970215e-01 1.29272123e-01 1.41335371e-01 1.44358729e-01\n",
      " 1.51433295e-01 1.42612439e-01 1.58979192e-01 1.52477393e-01\n",
      " 1.87676195e-01 2.12385403e-01 2.13454217e-01 2.10517580e-01\n",
      " 2.12285489e-01 2.11365426e-01 2.24371716e-01 2.40532510e-01\n",
      " 2.15281520e-01 1.97532940e-01 2.10754832e-01 1.97376044e-01\n",
      " 1.79699162e-01 1.81546600e-01 1.67428757e-01 1.58532162e-01\n",
      " 2.24093904e-01 2.26097042e-01 2.43219253e-01 2.29282841e-01\n",
      " 2.24111129e-01 2.28074765e-01 2.08043445e-01 2.13384237e-01\n",
      " 2.13279456e-01 1.87171363e-01 1.94461188e-01 1.52044477e-01\n",
      " 1.53778919e-01 1.69926137e-01 1.77677433e-01 1.77200337e-01\n",
      " 2.07600563e-01 2.16425824e-01 1.91811993e-01 2.07205995e-01\n",
      " 2.04517477e-01 2.52778653e-01 2.65502485e-01 2.45964828e-01\n",
      " 2.53323576e-01 2.36627757e-01 2.80646837e-01 2.76958438e-01\n",
      " 2.67128056e-01 2.85181691e-01 2.46498918e-01 2.41863994e-01\n",
      " 2.63776683e-01 2.71967053e-01 2.63594017e-01 2.59452178e-01\n",
      " 2.54685752e-01 2.38855199e-01 2.47793903e-01 2.57664130e-01\n",
      " 2.19102534e-01 2.42978602e-01 2.43060950e-01 2.23845295e-01\n",
      " 2.13263139e-01 1.93167949e-01 1.93973963e-01 2.27820171e-01\n",
      " 2.28330083e-01 2.04959529e-01 2.08081923e-01 2.18591079e-01\n",
      " 2.09844447e-01 2.19505209e-01 2.41221246e-01 2.38363292e-01\n",
      " 2.42720911e-01 2.60839434e-01 2.37488647e-01 2.65295818e-01\n",
      " 2.68317523e-01 2.57483447e-01 2.47838687e-01 2.45898421e-01\n",
      " 2.45709549e-01 2.42718198e-01 2.29505805e-01 2.35344949e-01\n",
      " 2.21975024e-01 2.28584313e-01 2.32195646e-01 2.61031338e-01\n",
      " 2.39121416e-01 2.40163101e-01 2.32316279e-01 2.18481096e-01\n",
      " 2.23227678e-01 2.27888225e-01 2.22205339e-01 2.18769904e-01\n",
      " 2.24620776e-01 2.39739352e-01 2.59660639e-01 2.62284151e-01\n",
      " 2.80036647e-01 2.88554781e-01 2.76095427e-01 2.76992169e-01\n",
      " 2.70463260e-01 2.89753325e-01 3.00954044e-01 3.32434645e-01\n",
      " 3.20764091e-01 3.18206876e-01 3.12616214e-01 2.80871378e-01\n",
      " 2.67078656e-01 2.48418725e-01 2.70783539e-01 2.55471447e-01\n",
      " 2.54160777e-01 2.69215017e-01 2.50470637e-01 2.66109857e-01\n",
      " 1.27124830e-01 8.10083449e-02 7.91597165e-02 6.65370286e-02\n",
      " 7.62123252e-02 5.33153814e-02 3.16235912e-02 3.79863914e-02\n",
      " 6.40784625e-02 6.15281249e-02 6.42418619e-02 4.57462265e-02\n",
      " 6.04285146e-02 4.92730885e-02 6.41613483e-02 9.79395852e-02\n",
      " 1.01642424e-01 1.00000610e-01 8.73492262e-02 8.71792507e-02\n",
      " 9.18382881e-02 1.07347043e-01 1.05355424e-01 1.19467712e-01\n",
      " 1.04300029e-01 1.04553220e-01 1.19189648e-01 1.19929439e-01\n",
      " 1.20586639e-01 1.36488377e-01 1.29610085e-01 1.38056166e-01\n",
      " 1.25198953e-01 1.11633432e-01 1.06145353e-01 1.36044535e-01\n",
      " 8.20875821e-02 9.72526639e-02 5.57696039e-02 7.33182922e-02\n",
      " 5.97897162e-02 7.11809464e-02 8.35288903e-02 9.44043452e-02\n",
      " 8.62123957e-02 6.42627481e-02 3.72861069e-02 1.92053381e-02\n",
      " 1.62221440e-02 3.19749459e-02 1.11742746e-02 2.50212008e-02\n",
      " 2.93827013e-02 2.98747492e-02 2.58750237e-02 2.73962793e-02\n",
      " 1.62126089e-02 4.47754523e-04 2.49320302e-02 3.92797033e-02\n",
      " 4.62929461e-02 6.90462515e-02 5.47102889e-02 7.02337841e-02\n",
      " 8.62446737e-02 8.36344130e-02 7.33326476e-02 7.04488711e-02\n",
      " 8.18883682e-02 8.16700045e-02 9.32498922e-02 8.37805751e-02\n",
      " 6.73667088e-02 6.84793692e-02 6.15553407e-02 6.42360699e-02\n",
      " 5.79329920e-02 5.52418579e-02 3.16912603e-02 4.70564504e-02\n",
      " 3.58106296e-02 2.43849481e-02 2.30968224e-02 5.79656603e-03\n",
      " 3.62752808e-02 3.56749926e-02 3.66389871e-02 1.95980647e-02\n",
      " 1.87725605e-03 6.16942307e-03 4.62613454e-03 1.03491932e-02\n",
      " 1.05529278e-02 2.93224433e-02 2.61104263e-02 4.00828812e-02\n",
      " 3.88198788e-02 2.27091716e-02 3.61377276e-03 1.55686449e-02\n",
      " 1.86346768e-02 3.18590047e-02 1.21627161e-02 7.63319398e-03\n",
      " 1.34382697e-02 1.31783645e-02 2.60432344e-02 5.00128795e-02\n",
      " 4.43233272e-02 2.95704780e-02 3.35431310e-02 2.81437050e-02\n",
      " 4.47832767e-02 5.87323018e-02 4.87745155e-02 2.50195614e-02\n",
      " 2.37422133e-02 2.52169886e-02 4.86788383e-02 3.80759715e-02\n",
      " 4.13071031e-02 5.56747317e-02 4.06185579e-02 3.73491857e-02\n",
      " 3.33666073e-02 4.62495645e-02 3.32851162e-02 4.99771948e-02\n",
      " 4.88886623e-02 4.20811960e-02 5.89773837e-02 5.22853919e-02\n",
      " 9.59532873e-02 9.16190300e-02 8.12125346e-02 1.39564780e-01\n",
      " 1.70890841e-01 1.73212745e-01 1.68705871e-01 1.75206179e-01\n",
      " 1.56108769e-01 1.52647525e-01 1.72112944e-01 1.82790901e-01\n",
      " 2.00662222e-01 1.60531941e-01 1.47412632e-01 1.35439682e-01\n",
      " 1.26820467e-01 1.47588764e-01 1.37065356e-01 1.53405267e-01\n",
      " 1.53946197e-01 1.56630322e-01 1.65460909e-01 1.88358978e-01\n",
      " 2.10835931e-01 1.82396408e-01 1.98980440e-01 1.90637943e-01\n",
      " 1.81403153e-01 1.85839874e-01 9.85906053e-02 1.68233375e-02\n",
      " 2.50941737e-03 7.28217460e-03 1.01813898e-01 1.63704757e-01\n",
      " 2.25141279e-01 2.39837406e-01 2.34497110e-01 2.79262341e-01\n",
      " 3.22859432e-01 2.98455727e-01 3.59635578e-01 3.63714084e-01\n",
      " 3.56806136e-01 4.01442623e-01 3.59049176e-01 3.65141989e-01\n",
      " 3.35476618e-01 3.67059800e-01 3.31459006e-01 4.13413724e-01\n",
      " 3.81849442e-01 4.24621351e-01 4.27965800e-01 4.33517789e-01\n",
      " 3.97468283e-01 4.43421335e-01 4.34033782e-01 4.18866786e-01\n",
      " 4.06726668e-01 3.81691674e-01 3.91939294e-01 4.32863544e-01\n",
      " 4.12172747e-01 4.39289749e-01 4.37795287e-01]\n",
      "[0.39449389 0.38909611 0.38446221 0.35071436 0.32990112 0.34705016\n",
      " 0.32917177 0.30166082 0.31487732 0.30877128 0.29361231 0.31734468\n",
      " 0.32084752 0.34369093 0.34143715 0.3236006  0.29356806 0.27212314\n",
      " 0.26876436 0.24096578 0.25445092 0.23619061 0.21568229 0.18856804\n",
      " 0.15286389 0.15691605 0.15249848 0.15660376 0.16977169 0.1625839\n",
      " 0.19419915 0.17542871 0.19901594 0.19378602 0.17189853 0.1608407\n",
      " 0.18453227 0.18629822 0.18482845 0.18385387 0.18528661 0.16917423\n",
      " 0.16204778 0.20254073 0.20043328 0.21354234 0.19195976 0.19803774\n",
      " 0.20367263 0.18665792 0.17385242 0.1623359  0.18914467 0.20241196\n",
      " 0.2159598  0.21821271 0.22912149 0.2220775  0.24209786 0.22389142\n",
      " 0.21761253 0.23689421 0.23608302 0.22044358 0.23715183 0.22483912\n",
      " 0.21456758 0.21880998 0.22153593 0.22369267 0.22443386 0.2173986\n",
      " 0.23148404 0.22033071 0.23601599 0.2366379  0.22354269 0.23671606\n",
      " 0.22543773 0.20665904 0.20417507 0.19047497 0.18808341 0.18975573\n",
      " 0.17908929 0.18173458 0.18966268 0.20170398 0.19895556 0.19315235\n",
      " 0.19236064 0.18107337 0.19243539 0.18386139 0.18810933 0.17626233\n",
      " 0.19094909 0.19101018 0.21849334 0.21278756 0.18614435 0.18649682\n",
      " 0.18792175 0.19048613 0.19328465 0.17547791 0.17542993 0.17336668\n",
      " 0.17217247 0.16241184 0.15549633 0.13376664 0.11912257 0.12210075\n",
      " 0.12882609 0.11485786 0.12562146 0.12345675 0.11486234 0.117397\n",
      " 0.08630852 0.06814821 0.08093481 0.07549962 0.07033793 0.07366246\n",
      " 0.06959276 0.06795676 0.06215024 0.06750836 0.07270822 0.07553926\n",
      " 0.07347046 0.08146098 0.09129136 0.08019651 0.07516321 0.08676069\n",
      " 0.07851954 0.07510038 0.0814342  0.07877264 0.06379383 0.07281545\n",
      " 0.11530282 0.12645738 0.12880892 0.12385337 0.16111571 0.15252118\n",
      " 0.15159083 0.15094073 0.13476759 0.13968207 0.12824621 0.13797571\n",
      " 0.12955985 0.13571029 0.13822084 0.15205444 0.15665906 0.15432941\n",
      " 0.1532492  0.14350681 0.13390985 0.12902909 0.13506914 0.13539402\n",
      " 0.15032601 0.14728229 0.13469189 0.14448049 0.12784312 0.13520963\n",
      " 0.14239813 0.13713834 0.127688   0.10363569 0.10741903 0.11696793\n",
      " 0.11121501 0.11075986 0.12811173 0.12312882 0.12554547 0.12591423\n",
      " 0.15028017 0.13837555 0.14149446 0.14636836 0.13266164 0.13117964\n",
      " 0.13031989 0.11606926 0.11271721 0.09772895 0.09707708 0.09951743\n",
      " 0.13407725 0.13224274 0.16347568 0.16317231 0.17036541 0.16275811\n",
      " 0.16860047 0.16053361 0.15076385 0.16087827 0.1493078  0.15106854\n",
      " 0.15290901 0.12837131 0.13378439 0.15305722 0.178245   0.18106653\n",
      " 0.20111609 0.20553555 0.19163739 0.17892878 0.16725797 0.21221427\n",
      " 0.20721831 0.19160023 0.18809761 0.18027536 0.20502166 0.19839267\n",
      " 0.19591153 0.17427017 0.15759891 0.10115332 0.10912773 0.10341928\n",
      " 0.06497569 0.09586943 0.09631387 0.10757714 0.09892788 0.11788542\n",
      " 0.09228654 0.10200759 0.10592578 0.11795495 0.10806215 0.1050169\n",
      " 0.10711733 0.13639738 0.12898328 0.11508246 0.12381569 0.12842684\n",
      " 0.12928062 0.11884137 0.1438273  0.14721527 0.13940267 0.16133776\n",
      " 0.15117827 0.16007007 0.16060823 0.14255386 0.13184832 0.12750219\n",
      " 0.1323525  0.13178489 0.11121081 0.12162095 0.10605883 0.09910508\n",
      " 0.09957257 0.09332161 0.08646519 0.07591075 0.07537491 0.07505029\n",
      " 0.10438916 0.107359   0.11263333 0.10470379 0.1045778  0.10750493\n",
      " 0.13373136 0.14067293 0.15802429 0.16036039 0.15710668 0.13805334\n",
      " 0.11330922 0.11027467 0.1083554  0.10180471 0.14809518 0.16209436\n",
      " 0.15848417 0.1452679  0.13876066 0.11826293 0.12203326 0.10698607\n",
      " 0.08245548 0.0676162  0.08342326 0.09205138 0.10938872 0.10884356\n",
      " 0.10989449 0.09571231 0.09688032 0.06564167 0.07364884 0.08969635\n",
      " 0.08983097 0.09262651 0.09306126 0.08586986 0.09444952 0.08552802\n",
      " 0.07116842 0.07703406 0.09221513 0.08922147 0.08128017 0.06597335\n",
      " 0.08565153 0.10129399 0.10592491 0.10490765 0.08244472 0.08511117\n",
      " 0.07754667 0.07684425 0.07844414 0.08463734 0.07944984 0.0788038\n",
      " 0.04111851 0.04833745 0.04119437 0.05608912 0.03458656 0.0688067\n",
      " 0.05050343 0.05162718 0.04580568 0.04890153 0.05687387 0.09216358\n",
      " 0.11205466 0.09281112 0.09734324 0.09993393 0.09702179 0.08544508\n",
      " 0.10893414 0.10478722 0.08644673 0.03009967 0.0165843  0.09288972\n",
      " 0.10386594 0.12094432 0.1139845  0.11792143 0.10773756 0.09115368\n",
      " 0.08794126 0.08874966 0.08641709 0.09918128 0.08462274 0.02384072\n",
      " 0.01789282 0.02172777 0.010753   0.01340405 0.01205641 0.00842994\n",
      " 0.00098422 0.01948271 0.02468245 0.04983508 0.05855189 0.06247526\n",
      " 0.05264449 0.0473682  0.05008189 0.05958923 0.06217885 0.07943094\n",
      " 0.08262945 0.06519996 0.05737353 0.05836309 0.05940285 0.06627984\n",
      " 0.06292266 0.0862033  0.07835778 0.066714   0.06441038 0.04240771\n",
      " 0.0291495  0.01947423 0.04378321 0.03473796 0.01363988 0.01379719\n",
      " 0.01238495 0.03338335 0.03888132 0.04348824 0.04663797 0.03164777\n",
      " 0.02959155 0.0374393  0.0101506  0.03841591 0.02029334 0.0781936\n",
      " 0.10467383 0.0763463  0.06943181 0.07544605 0.04314201 0.05296119\n",
      " 0.07093585 0.06395423 0.09977926 0.08731679 0.09307378 0.08633263\n",
      " 0.09368253 0.0762454  0.06347795 0.06520457 0.02932068 0.02730779\n",
      " 0.10207588 0.02011054 0.10311145 0.08522761 0.07327397 0.0985386\n",
      " 0.07884228 0.03679431 0.03807157 0.08523822 0.0654147  0.02975768\n",
      " 0.03467912 0.02231129 0.01988061 0.01272342 0.03575882 0.00973064\n",
      " 0.02634608 0.02803466 0.01140643 0.01684069 0.00747613 0.00049994\n",
      " 0.02508721 0.09773969 0.10626788 0.02985429 0.07227738 0.08444454\n",
      " 0.10573118 0.10218004 0.12210194 0.16042724 0.15788187 0.14823855\n",
      " 0.16465415 0.1847165  0.16960709 0.15018159 0.15499834 0.16606514\n",
      " 0.14812149 0.15580319 0.15193719 0.15823528 0.13674147 0.14288452\n",
      " 0.13362327 0.1690539  0.16330193 0.36168998 0.30189374 0.24079767\n",
      " 0.24064584 0.22510177 0.22309126 0.20052207 0.19978632 0.18364924\n",
      " 0.14607709 0.1478463  0.13485396 0.12974269 0.13880469]\n",
      "[3.13331353e-01 2.69000254e-01 2.59847159e-01 2.51714314e-01\n",
      " 2.78936521e-01 2.10427025e-01 2.17467268e-01 1.39697295e-01\n",
      " 1.90691228e-01 1.59998208e-01 1.87805698e-01 1.95809271e-01\n",
      " 2.26922766e-01 2.20909234e-01 2.01133442e-01 1.96300825e-01\n",
      " 1.59994355e-01 1.48028430e-01 1.66832816e-01 1.60822104e-01\n",
      " 1.59686710e-01 1.66899963e-01 1.71040253e-01 1.59399678e-01\n",
      " 1.39260464e-01 1.42183161e-01 1.38450452e-01 1.14795352e-01\n",
      " 1.22500751e-01 1.41694689e-01 1.93400767e-01 1.76558699e-01\n",
      " 2.09040312e-01 1.91857221e-01 1.72080107e-01 1.85377299e-01\n",
      " 1.76719233e-01 1.97978405e-01 1.78652336e-01 1.29418252e-01\n",
      " 1.41884837e-01 1.38257295e-01 1.87035753e-01 2.17603354e-01\n",
      " 2.21308438e-01 2.16600618e-01 1.84916885e-01 2.03036331e-01\n",
      " 2.18151938e-01 1.87466192e-01 1.58170909e-01 1.40517925e-01\n",
      " 1.70729652e-01 1.62087339e-01 1.78677907e-01 1.83151850e-01\n",
      " 1.81356880e-01 1.81823708e-01 1.77801356e-01 1.78053804e-01\n",
      " 1.71784316e-01 1.89308091e-01 1.92898255e-01 1.78717558e-01\n",
      " 2.28001779e-01 2.19530540e-01 2.13523138e-01 2.15098088e-01\n",
      " 2.36744668e-01 2.36480711e-01 2.31604241e-01 2.32445441e-01\n",
      " 2.47200805e-01 2.14443874e-01 2.09579348e-01 2.34254555e-01\n",
      " 2.00441456e-01 1.68073065e-01 1.71137517e-01 1.69347069e-01\n",
      " 1.47889990e-01 1.34458025e-01 1.28235629e-01 1.48546855e-01\n",
      " 1.11787560e-01 1.69154073e-01 2.25824824e-01 2.65546859e-01\n",
      " 2.52476837e-01 2.33914812e-01 2.31706451e-01 1.85079849e-01\n",
      " 1.82556529e-01 1.47894012e-01 1.44338807e-01 1.39124086e-01\n",
      " 1.36127263e-01 1.45728920e-01 1.61611585e-01 1.67491312e-01\n",
      " 1.34360542e-01 1.31883523e-01 1.43659763e-01 1.42311849e-01\n",
      " 1.68835883e-01 1.30031249e-01 1.50354833e-01 1.38521844e-01\n",
      " 1.51092901e-01 1.50258433e-01 1.33157937e-01 1.15271657e-01\n",
      " 1.07178545e-01 1.10731107e-01 1.27626157e-01 1.12356384e-01\n",
      " 1.75169397e-01 1.38781937e-01 1.19221343e-01 1.14486614e-01\n",
      " 8.51348012e-02 4.87544222e-02 6.62089583e-02 6.45889494e-02\n",
      " 6.69763803e-02 8.55751065e-02 6.41209356e-02 7.63260935e-02\n",
      " 6.56907838e-02 7.50258626e-02 8.11504573e-02 1.00347665e-01\n",
      " 7.84755446e-02 9.83129171e-02 9.43631640e-02 7.93717689e-02\n",
      " 7.64699565e-02 9.35823907e-02 8.84634064e-02 8.83171802e-02\n",
      " 1.08712957e-01 1.12761155e-01 1.18558130e-01 1.39350635e-01\n",
      " 1.40712913e-01 1.35376088e-01 1.33563393e-01 1.42677928e-01\n",
      " 1.50303385e-01 1.58259975e-01 1.56806504e-01 1.53452616e-01\n",
      " 1.19541565e-01 1.35883629e-01 1.37119575e-01 1.41533255e-01\n",
      " 1.41109198e-01 1.26525028e-01 1.30649678e-01 1.26995166e-01\n",
      " 1.44547898e-01 1.33388880e-01 1.17355825e-01 1.07222819e-01\n",
      " 1.28826875e-01 1.49726204e-01 1.21404990e-01 1.43287475e-01\n",
      " 1.52128192e-01 1.41505384e-01 1.27576079e-01 1.41686956e-01\n",
      " 1.59449866e-01 1.56082103e-01 1.88896223e-01 1.86760898e-01\n",
      " 2.05142307e-01 2.14565371e-01 2.03691445e-01 2.03937546e-01\n",
      " 1.97351190e-01 2.05039982e-01 2.26561821e-01 2.18384620e-01\n",
      " 2.21641248e-01 2.35254668e-01 2.50550351e-01 2.38333840e-01\n",
      " 2.28163118e-01 2.32678760e-01 2.30630706e-01 2.56098237e-01\n",
      " 2.27098832e-01 2.15538527e-01 2.30892237e-01 2.15410722e-01\n",
      " 2.05387802e-01 2.12312213e-01 2.10474620e-01 2.00544812e-01\n",
      " 2.25242979e-01 2.13285268e-01 2.16058163e-01 1.90881772e-01\n",
      " 2.06153911e-01 2.21998857e-01 2.06023082e-01 2.14537464e-01\n",
      " 2.14819290e-01 2.19853003e-01 2.18206105e-01 1.82014449e-01\n",
      " 1.73481181e-01 1.78623831e-01 1.81014184e-01 1.80341319e-01\n",
      " 1.68208229e-01 1.64411924e-01 1.69782072e-01 1.80712500e-01\n",
      " 1.77337210e-01 1.85022048e-01 1.81370393e-01 1.77073243e-01\n",
      " 1.73178544e-01 1.75930912e-01 2.10301923e-01 2.06703970e-01\n",
      " 1.93018119e-01 1.99731094e-01 1.83019670e-01 1.85507593e-01\n",
      " 1.99490109e-01 2.05741537e-01 2.19835070e-01 2.02333670e-01\n",
      " 2.07419681e-01 2.08103802e-01 2.35299106e-01 2.44014610e-01\n",
      " 2.12581943e-01 2.38514943e-01 2.21874598e-01 1.85970430e-01\n",
      " 1.72490446e-01 1.38325004e-01 1.29950718e-01 1.39978157e-01\n",
      " 1.36538045e-01 1.12369361e-01 1.02615503e-01 1.15961541e-01\n",
      " 1.05499498e-01 1.22023014e-01 1.35833011e-01 1.49501430e-01\n",
      " 1.56480640e-01 1.63841749e-01 1.44907919e-01 1.67498943e-01\n",
      " 1.70598372e-01 2.16623315e-01 2.18714947e-01 2.14954227e-01\n",
      " 1.83492272e-01 1.87746636e-01 1.73787787e-01 1.96091510e-01\n",
      " 1.83898287e-01 1.85914894e-01 1.84972946e-01 2.26202487e-01\n",
      " 2.10204228e-01 1.99754297e-01 2.04704727e-01 2.14113213e-01\n",
      " 2.12354710e-01 2.27322191e-01 2.18284581e-01 2.07560945e-01\n",
      " 2.11183998e-01 2.16952203e-01 2.45534792e-01 2.17339260e-01\n",
      " 2.33019781e-01 2.64319986e-01 2.63628867e-01 2.64306847e-01\n",
      " 2.59423651e-01 2.79186083e-01 2.78631361e-01 3.07332120e-01\n",
      " 3.28542922e-01 3.24199184e-01 3.02591421e-02 1.10250858e-02\n",
      " 3.84864947e-02 6.17817984e-02 1.58497734e-02 9.40033366e-02\n",
      " 6.30814172e-02 3.96883011e-02 2.23271090e-02 3.11794955e-02\n",
      " 7.34964527e-02 1.00303565e-01 1.53680913e-01 1.37671261e-01\n",
      " 1.09510289e-01 1.09527919e-01 1.08643888e-01 1.05773800e-01\n",
      " 4.85261866e-02 8.17314381e-02 9.39539389e-02 1.04123513e-01\n",
      " 9.14801455e-02 1.09439842e-01 1.10322914e-01 1.07137169e-01\n",
      " 9.53573194e-02 8.84677698e-02 7.59212518e-02 1.10898854e-01\n",
      " 9.04787483e-02 8.96500859e-02 9.07328783e-02 7.23494906e-02\n",
      " 8.75612753e-02 6.89337211e-02 5.68009101e-02 5.58152877e-02\n",
      " 5.52399307e-02 2.83960923e-02 5.07842895e-02 1.91930714e-02\n",
      " 3.45097634e-02 4.15772293e-02 4.53054806e-02 1.88246990e-02\n",
      " 5.45051128e-02 2.10386700e-02 7.44268107e-02 6.05804743e-02\n",
      " 9.34302541e-02 4.82388702e-02 4.02388727e-02 1.49604706e-02\n",
      " 6.03176232e-03 1.41038422e-03 1.09409770e-02 2.17969542e-02\n",
      " 8.23045564e-03 4.72488953e-02 1.29351501e-02 2.67549028e-02\n",
      " 3.96114823e-02 2.56869126e-02 1.15220253e-02 1.35708820e-02\n",
      " 3.39672288e-02 2.56740397e-02 2.83601001e-02 1.82045981e-02\n",
      " 1.32573739e-03 7.06980282e-03 1.57591851e-03 2.49480639e-03\n",
      " 4.05828929e-02 3.25758810e-02 1.27741090e-03 8.15685145e-03\n",
      " 4.52500607e-03 2.01716935e-02 2.79923437e-02 3.13887099e-02\n",
      " 1.96718258e-02 1.64281623e-02 1.62545740e-02 1.46351097e-02\n",
      " 6.47497309e-03 2.27481907e-02 4.41423938e-02 5.04527659e-02\n",
      " 3.64773435e-02 1.96034896e-02 5.25997779e-03 1.15771750e-03\n",
      " 1.08132224e-02 2.25623628e-02 3.36119261e-02 6.18074930e-02\n",
      " 6.47633958e-02 4.38635181e-02 3.53336111e-02 2.83710333e-02\n",
      " 1.23714855e-02 2.23890557e-02 2.50236415e-02 2.17242940e-02\n",
      " 1.72146786e-02 3.54177268e-02 5.42069020e-02 5.91873069e-02\n",
      " 5.75596283e-02 4.36895325e-02 8.61668261e-02 7.38593622e-02\n",
      " 7.29581582e-02 6.42676696e-02 6.46486799e-02 4.58010938e-02\n",
      " 3.01490289e-02 4.21749972e-02 5.55568291e-02 6.63250020e-02\n",
      " 4.93320505e-02 2.57237725e-02 3.34659555e-02 2.98438058e-02\n",
      " 2.22600591e-02 2.45299267e-02 5.26296031e-04 1.57393407e-03\n",
      " 1.40090529e-04 3.41960274e-02 1.27137243e-02 9.45301215e-03\n",
      " 1.83917251e-02 2.82211858e-02 1.89287638e-02 7.11574764e-03\n",
      " 2.43909869e-02 2.76319931e-02 6.15279781e-02 6.29805660e-02\n",
      " 7.72593239e-02 5.99788767e-02 6.74584279e-02 1.03250397e-01\n",
      " 1.29301511e-01 1.28333845e-01 1.25767903e-01 1.49874534e-01\n",
      " 1.19362964e-01 5.70235047e-02 1.08320303e-01 1.14718417e-01\n",
      " 1.24283276e-01 1.18690125e-01 1.13872297e-01 1.09701391e-01\n",
      " 1.31089723e-01 2.00118250e-02 3.79138115e-02 5.78535581e-02\n",
      " 3.07093007e-02 2.43691421e-03 4.90713631e-05 1.05761145e-03\n",
      " 8.84880027e-03 1.60231367e-02 1.80406282e-02 4.69572023e-02\n",
      " 4.80128221e-02 2.20850595e-03 2.81726005e-02 2.06183189e-02\n",
      " 3.08262138e-02 6.94374286e-02 1.20471209e-01 1.39732736e-01\n",
      " 1.87167742e-01 2.14692418e-01 1.96206796e-01 2.37900019e-01\n",
      " 2.60579186e-01 2.50707907e-01 2.87037340e-01 2.78987702e-01\n",
      " 2.64813483e-01 2.84296570e-01 2.53689029e-01 3.25300848e-01\n",
      " 3.35743410e-01 3.31883575e-01 3.50911738e-01 3.90392144e-01\n",
      " 3.74584109e-01 4.06192306e-01 4.49942215e-01 4.51744821e-01\n",
      " 4.36373427e-01 4.55758762e-01 4.89208379e-01 5.45861602e-01\n",
      " 4.45042028e-01 3.53118869e-01 3.49400348e-01 3.53454788e-01\n",
      " 3.38872296e-01 3.58306312e-01 3.70056704e-01]\n",
      "[0.08980586 0.10359502 0.07402526 0.06113507 0.04895187 0.00651185\n",
      " 0.05940583 0.04693316 0.03966746 0.03572025 0.02050925 0.0177426\n",
      " 0.05129169 0.06707809 0.05510886 0.0745522  0.07327189 0.06787609\n",
      " 0.08315025 0.0559212  0.0370633  0.03895482 0.08439909 0.11212449\n",
      " 0.11092731 0.12623502 0.0966878  0.09280756 0.1068946  0.13274892\n",
      " 0.17397506 0.17571453 0.18647503 0.17434395 0.19632854 0.18181931\n",
      " 0.20058713 0.22390053 0.19845118 0.17677444 0.17729389 0.17468641\n",
      " 0.18757712 0.22372877 0.22124806 0.22331947 0.21702088 0.23037274\n",
      " 0.19093292 0.17206685 0.18280099 0.17344608 0.18509788 0.17805578\n",
      " 0.1918689  0.17629278 0.35428534 0.36159078 0.3870252  0.3655284\n",
      " 0.38863777 0.40136704 0.39346361 0.37012583 0.40160647 0.38956198\n",
      " 0.36993931 0.35660303 0.3542508  0.37188856 0.37508954 0.3627985\n",
      " 0.38681933 0.35549384 0.35354569 0.37560271 0.36620436 0.34602798\n",
      " 0.3423833  0.31729126 0.3007111  0.29048829 0.28077113 0.28254222\n",
      " 0.2665414  0.27508381 0.28938352 0.28143528 0.26003583 0.24854113\n",
      " 0.24981547 0.22467018 0.20829651 0.21653279 0.19647567 0.17163601\n",
      " 0.19504911 0.18072708 0.21791709 0.23164858 0.17462738 0.14653555\n",
      " 0.15459295 0.17114066 0.17206113 0.15056201 0.14839314 0.15645756\n",
      " 0.16215315 0.15857339 0.12447004 0.10415614 0.11746691 0.12041606\n",
      " 0.13248639 0.13014703 0.15019089 0.14449508 0.14542491 0.14127386\n",
      " 0.10640332 0.0661472  0.07485246 0.10834371 0.10939222 0.13108693\n",
      " 0.12140297 0.13961418 0.13937802 0.14848974 0.17224656 0.16705723\n",
      " 0.17617198 0.1802487  0.18930163 0.17221399 0.16644683 0.18112433\n",
      " 0.16576425 0.15719955 0.14539355 0.13811314 0.14653299 0.17858521\n",
      " 0.26253007 0.26453334 0.24640111 0.25493905 0.23851323 0.24452479\n",
      " 0.24346625 0.24354346 0.1981912  0.18471936 0.14883406 0.15136737\n",
      " 0.15839114 0.20412327 0.28147845 0.283231   0.2922835  0.26604316\n",
      " 0.22335817 0.2280783  0.22312419 0.20961746 0.1983594  0.19929701\n",
      " 0.20063741 0.19105429 0.18840801 0.17394443 0.18475177 0.18319514\n",
      " 0.22291549 0.20854366 0.20830023 0.22820574 0.21206596 0.22373112\n",
      " 0.21346945 0.21348377 0.22790817 0.22307666 0.21465278 0.22242922\n",
      " 0.21125806 0.19280915 0.20115243 0.21330566 0.21032993 0.23011771\n",
      " 0.23941333 0.22979204 0.23385744 0.20716199 0.18968634 0.18250899\n",
      " 0.17022981 0.17559663 0.20302394 0.22408701 0.22847816 0.22394225\n",
      " 0.2140356  0.21069092 0.17537027 0.1717372  0.16916343 0.20352659\n",
      " 0.20274082 0.1776418  0.14734284 0.16452352 0.17462724 0.22579646\n",
      " 0.23934909 0.26261687 0.25514966 0.27876332 0.27956895 0.27918876\n",
      " 0.26869346 0.24715735 0.25833616 0.25063208 0.26576507 0.26511645\n",
      " 0.26037503 0.24691388 0.23855796 0.23336141 0.22696796 0.23527216\n",
      " 0.24986937 0.24395504 0.26049865 0.26337624 0.2658851  0.27742402\n",
      " 0.27093769 0.28477875 0.28035965 0.24017354 0.24641162 0.24417392\n",
      " 0.24411436 0.14624964 0.19173365 0.16825156 0.18409976 0.18880836\n",
      " 0.19443284 0.18887661 0.20246673 0.20227363 0.20030003 0.22080551\n",
      " 0.22608236 0.22478733 0.22509289 0.19565171 0.21174251 0.191733\n",
      " 0.20486913 0.19943102 0.19873585 0.2055587  0.2001311  0.20845718\n",
      " 0.18391526 0.17768517 0.17207565 0.15262917 0.15806424 0.17239022\n",
      " 0.16977467 0.20038295 0.23142041 0.18840978 0.18311604 0.20090018\n",
      " 0.22872651 0.22104354 0.21569909 0.19739866 0.19333805 0.19777791\n",
      " 0.16685056 0.17629024 0.15928141 0.13583743 0.16376376 0.14289591\n",
      " 0.12184389 0.14975403 0.17162428 0.1531593  0.15768017 0.16589194\n",
      " 0.11899951 0.10341735 0.10035053 0.13387683 0.14841941 0.14743037\n",
      " 0.14359023 0.1524442  0.15322841 0.14754257 0.13832198 0.16679875\n",
      " 0.18796704 0.1687183  0.14828045 0.14708591 0.1418281  0.19224456\n",
      " 0.20772733 0.22013006 0.23164768 0.21342396 0.19349998 0.18407792\n",
      " 0.17793368 0.19510305 0.15924773 0.152508   0.13608024 0.14212266\n",
      " 0.16323889 0.14392457 0.12388472 0.1407241  0.10866794 0.12077512\n",
      " 0.13496345 0.15635007 0.16693751 0.08213242 0.07268961 0.08710186\n",
      " 0.07252637 0.07250048 0.07552688 0.09641385 0.10000616 0.12218226\n",
      " 0.13871332 0.13160573 0.13157425 0.15381104 0.18325912 0.19181055\n",
      " 0.18081451 0.20807848 0.19691792 0.16825545 0.1625349  0.15257098\n",
      " 0.1619142  0.15470533 0.1360667  0.14913138 0.16589396 0.18352148\n",
      " 0.18646006 0.18344314 0.13946911 0.1722022  0.21705461 0.11046772\n",
      " 0.12686867 0.1185875  0.11475752 0.14150275 0.15885558 0.1564595\n",
      " 0.14977009 0.18742485 0.20697185 0.23587092 0.26629106 0.26691852\n",
      " 0.29070182 0.28801015 0.3101624  0.3317034  0.31453356 0.30665316\n",
      " 0.32234722 0.31545634 0.33021908 0.31704079 0.28699411 0.30302228\n",
      " 0.25290129 0.26731381 0.30250524 0.26298501 0.2687067  0.24875725\n",
      " 0.25934388 0.27461874 0.2028406  0.18124007 0.17143582 0.16147949\n",
      " 0.15025918 0.13647584 0.1526938  0.18714446 0.1585219  0.16779907\n",
      " 0.21780136 0.17526095 0.20786513 0.22326207 0.2082112  0.23959826\n",
      " 0.23860034 0.18160077 0.14429086 0.1019808  0.11545962 0.08218385\n",
      " 0.11532633 0.07970919 0.08676849 0.09674744 0.1087672  0.04205418\n",
      " 0.06361162 0.06612341 0.08321169 0.06557482 0.03402055 0.04990893\n",
      " 0.0610323  0.05920858 0.02372602 0.02197797 0.01701758 0.00579143\n",
      " 0.04956703 0.06504273 0.07278206 0.056347   0.03231202 0.00480327\n",
      " 0.0116899  0.00583098 0.00238545 0.02116275 0.00556433 0.03226255\n",
      " 0.00615711 0.03176245 0.00294779 0.03644507 0.0195135  0.0215325\n",
      " 0.01493005 0.0836169  0.10674531 0.04362133 0.08939824 0.04379932\n",
      " 0.0598952  0.06846979 0.05773713 0.05296275 0.08075859 0.06632928\n",
      " 0.07065304 0.07503603 0.07870656 0.07578911 0.07405561 0.04799026\n",
      " 0.04673607 0.04117562 0.05643065 0.13420663 0.13189259 0.09665547\n",
      " 0.12042897 0.16077314 0.13440659 0.1195205  0.06398426 0.05088913\n",
      " 0.00737628 0.02265655 0.02484304 0.03885795 0.10275997 0.06356189\n",
      " 0.09495582 0.03835779 0.06149538 0.06569631 0.02597642]\n",
      "[3.37043133e-01 2.50175989e-01 1.60805346e-01 2.73121831e-01\n",
      " 2.22263930e-01 1.10348381e-01 2.39240656e-01 1.47353231e-01\n",
      " 1.17764611e-01 1.23823159e-01 8.31571999e-02 2.39242029e-02\n",
      " 1.27025480e-01 1.44088070e-01 1.34884198e-01 2.21858941e-01\n",
      " 2.03038621e-01 1.88091632e-01 1.69330921e-01 1.63605989e-01\n",
      " 1.86683244e-01 1.79743583e-01 2.66258895e-01 3.21224158e-01\n",
      " 3.32406427e-01 3.71910041e-01 3.31719681e-01 3.59714389e-01\n",
      " 3.55538419e-01 4.28966684e-01 4.13783134e-01 4.16830062e-01\n",
      " 3.65505251e-01 3.27057010e-01 3.64740432e-01 3.20993167e-01\n",
      " 3.57687296e-01 3.50783886e-01 4.08605867e-01 3.52019284e-01\n",
      " 3.34152629e-01 3.21819696e-01 2.97385501e-01 2.93188910e-01\n",
      " 3.35348448e-01 3.02212729e-01 3.46837738e-01 3.60149223e-01\n",
      " 2.45866087e-01 2.12905516e-01 2.19807331e-01 2.37844359e-01\n",
      " 2.13594092e-01 1.31385214e-01 1.35456882e-01 1.33065463e-01\n",
      " 1.24122008e-01 8.46085909e-02 1.02551737e-01 1.48121152e-01\n",
      " 1.59661256e-01 1.45156178e-01 1.36496263e-01 1.29192753e-01\n",
      " 1.27660276e-01 1.15386191e-01 1.52786049e-01 1.43439600e-01\n",
      " 1.07672789e-01 1.05587315e-01 1.02364740e-01 8.49685969e-02\n",
      " 1.19480391e-01 1.37111004e-01 1.78688898e-01 1.43726193e-01\n",
      " 1.29639579e-01 1.34037473e-01 1.89037988e-01 1.49825964e-01\n",
      " 1.63211636e-01 1.25932321e-01 1.20890849e-01 1.55929607e-01\n",
      " 1.78315088e-01 2.02784400e-01 2.35424482e-01 2.46947719e-01\n",
      " 1.75654152e-01 1.93593937e-01 1.89679994e-01 1.36612705e-01\n",
      " 9.86719592e-02 1.46303241e-01 1.33312989e-01 1.36466117e-01\n",
      " 1.41973174e-01 8.82181469e-02 1.04129475e-01 6.75137959e-02\n",
      " 1.34827222e-01 1.17986322e-01 8.80592631e-02 1.41887761e-01\n",
      " 9.24622628e-02 7.83772356e-02 7.27097728e-02 7.33707542e-02\n",
      " 5.31867505e-02 9.42050605e-02 6.77794416e-02 5.82317602e-02\n",
      " 1.03084292e-01 1.01069710e-01 1.49768234e-01 2.13902164e-01\n",
      " 2.18462196e-01 2.55388244e-01 2.80907590e-01 2.29919278e-01\n",
      " 2.93580884e-01 2.73700874e-01 2.71377033e-01 3.00991531e-01\n",
      " 3.43751413e-01 2.97061613e-01 2.52172995e-01 2.71587872e-01\n",
      " 2.29683738e-01 2.06063854e-01 2.19536273e-01 1.11766131e-01\n",
      " 1.99811584e-01 1.38256430e-01 8.35453457e-02 3.86118281e-02\n",
      " 4.26025071e-02 1.59409207e-02 2.69514720e-02 3.50163124e-02\n",
      " 7.35193967e-03 1.65075952e-02 4.39053737e-02 1.60399700e-02\n",
      " 1.59201697e-01 1.48794974e-01 1.42601737e-01 7.67327551e-02\n",
      " 5.46427890e-02 7.64881724e-02 8.99186418e-02 1.23123985e-01\n",
      " 7.71101809e-02 5.00919913e-02 5.91510788e-03 7.03119277e-03\n",
      " 6.47875025e-02 4.42484717e-02 6.15060218e-02 5.51985751e-02\n",
      " 7.53760382e-02 6.73682418e-02 1.04650343e-01 1.28900166e-01\n",
      " 1.30138658e-01 1.21454422e-01 1.07307851e-01 1.12767117e-01\n",
      " 8.13436675e-02 6.87837730e-02 4.25405504e-02 3.78032216e-02\n",
      " 6.12860716e-02 8.23418492e-02 6.86489416e-02 6.32725370e-02\n",
      " 8.48363703e-02 9.14685213e-02 2.06280061e-02 5.95419793e-02\n",
      " 4.70604679e-02 4.47971803e-02 8.64481174e-02 5.30038732e-02\n",
      " 7.57542069e-02 6.64666357e-02 4.29757082e-02 6.98229422e-03\n",
      " 2.43401563e-02 4.55094056e-03 4.56997299e-02 4.57625919e-02\n",
      " 2.91768839e-02 5.37204023e-02 4.38598526e-02 2.35028968e-03\n",
      " 3.44452078e-02 2.12469744e-02 7.11533545e-03 5.00296046e-02\n",
      " 3.22766878e-02 4.72665441e-02 1.90289824e-02 2.89314710e-02\n",
      " 6.59620278e-02 8.07701069e-02 5.68438391e-02 1.95697235e-02\n",
      " 8.67171241e-03 1.39168110e-01 1.42867642e-01 1.69706344e-01\n",
      " 2.39214273e-01 1.82991354e-01 1.26708017e-01 1.00830706e-01\n",
      " 2.95960585e-02 1.13394000e-01 1.33982583e-01 2.04643989e-01\n",
      " 1.79531070e-01 1.56918864e-01 1.61867426e-01 1.69957978e-01\n",
      " 1.96712793e-01 8.25857403e-02 1.51167172e-01 1.70052733e-01\n",
      " 1.15462831e-01 1.02737991e-01 1.10613711e-01 5.54612596e-02\n",
      " 2.97809673e-03 2.79988569e-02 4.57161300e-02 7.97646273e-02\n",
      " 7.50342402e-02 6.52712659e-02 9.56493147e-02 1.41521788e-01\n",
      " 1.47504603e-01 1.45300184e-01 1.27021323e-01 1.55370559e-01\n",
      " 1.40627811e-01 1.46954340e-01 1.92680271e-01 1.69156585e-01\n",
      " 1.41256272e-01 1.59769213e-01 1.43570694e-01 1.48957057e-01\n",
      " 1.68337389e-01 1.40519398e-01 8.85485509e-02 4.30354427e-02\n",
      " 7.76628858e-02 1.39553775e-01 1.93921792e-01 1.81935548e-01\n",
      " 1.99119589e-01 2.07107903e-01 2.37619368e-01 1.72336421e-01\n",
      " 1.43270498e-01 1.38390459e-01 1.40823737e-01 1.41322852e-01\n",
      " 1.93157198e-01 1.80055422e-01 1.82494986e-01 1.64080530e-01\n",
      " 1.27419658e-01 1.18849189e-01 1.27177997e-01 9.36159173e-02\n",
      " 8.56390862e-02 1.05101512e-01 9.29117234e-02 7.01649245e-02\n",
      " 9.79623647e-02 1.33401713e-01 1.83110319e-01 1.07344395e-01\n",
      " 9.13633353e-02 4.48210932e-02 3.72145868e-02 6.60156423e-02\n",
      " 8.46188850e-02 2.04628155e-02 4.05638625e-02 3.21392636e-02\n",
      " 2.34028875e-02 8.68107544e-02 8.62387581e-02 1.89913010e-01\n",
      " 2.70098692e-01 2.44829499e-01 1.31405536e-01 1.30148979e-01\n",
      " 1.47224463e-01 1.28638686e-01 1.43580410e-01 1.88669061e-01\n",
      " 2.15170149e-01 2.08166057e-01 2.07264919e-01 1.80247116e-01\n",
      " 1.56070605e-01 1.20119392e-01 1.05857169e-01 1.10719198e-01\n",
      " 1.34732784e-01 1.01736052e-01 9.20601514e-02 1.15555740e-01\n",
      " 1.69684119e-01 2.32092336e-01 2.66163373e-01 2.91171506e-01\n",
      " 2.80474540e-01 2.57274766e-01 1.99533160e-01 2.04769950e-01\n",
      " 2.30870875e-01 2.33792791e-01 1.24632014e-01 1.35856910e-01\n",
      " 1.26149497e-01 1.37837574e-01 1.80847042e-01 1.67165543e-01\n",
      " 1.27389816e-01 1.46649673e-01 1.28244072e-01 1.30885015e-01\n",
      " 1.69213199e-01 1.88854205e-01 2.76040624e-01 2.18989925e-01\n",
      " 7.11585604e-02 1.63061469e-01 3.43890147e-04 5.84250515e-03\n",
      " 4.86753320e-02 6.95692393e-03 7.05706148e-02 9.97556468e-02\n",
      " 7.02206771e-02 5.25425499e-02 4.46398525e-02 9.31323043e-03\n",
      " 1.23146704e-01 1.82453140e-01 1.73700150e-01 2.20194410e-01\n",
      " 1.54221488e-01 1.38854066e-01 1.45132904e-01 1.32316920e-01\n",
      " 1.71807687e-01 1.55325622e-01 8.23354254e-02 6.70172088e-02\n",
      " 3.45228126e-02 2.84931579e-02 7.30212519e-02 8.19049206e-02\n",
      " 9.53703941e-02 4.05904835e-02 6.25481049e-02 3.53246011e-02\n",
      " 6.13081498e-02 1.09606497e-01 7.86057856e-02 8.67632911e-02\n",
      " 1.04110648e-01 8.76552968e-02 4.03015275e-02 3.92886962e-03\n",
      " 3.06183449e-02 2.63110470e-02 5.99604355e-02 8.54009353e-02\n",
      " 1.16272731e-01 1.89198282e-01 2.26694626e-01 2.04548208e-01\n",
      " 2.55622537e-01 2.56141639e-01 2.51735939e-01 2.57735683e-01\n",
      " 2.30790756e-01 2.30430050e-01 1.65686571e-01 1.96869888e-01\n",
      " 1.61821697e-01 1.52225229e-01 1.86008013e-01 1.45369207e-01\n",
      " 1.74335807e-01 2.26855433e-01 2.67251773e-01 2.15846530e-01\n",
      " 1.48524485e-01 1.80772305e-01 1.93827247e-01 1.95683808e-01\n",
      " 1.78272985e-01 1.41620672e-01 1.16773226e-01 1.00444372e-01\n",
      " 1.25755537e-01 1.40838746e-01 1.05223129e-01 1.07736134e-01\n",
      " 1.29422004e-01 1.22217997e-01 1.43792662e-01 1.79240526e-01\n",
      " 2.11261003e-01 2.50776342e-01 1.96460775e-01 1.65500326e-01\n",
      " 1.99163198e-01 2.41316250e-01 2.24406477e-01 2.09513406e-01\n",
      " 2.32207351e-01 2.91344970e-01 2.58315655e-01 2.89969965e-01\n",
      " 3.23730723e-01 3.27006273e-01 3.10789755e-01 2.85946550e-01\n",
      " 2.42808683e-01 3.20178285e-01 3.37889314e-01 3.11861342e-01\n",
      " 2.37244736e-01 2.57985725e-01 2.58073850e-01 2.01231474e-01\n",
      " 1.97422750e-01 2.12603034e-01 2.55981855e-01 2.18598492e-01\n",
      " 1.47835986e-01 1.83540115e-01 1.70847953e-01 2.10390188e-01\n",
      " 2.06842680e-01 1.25301523e-01 1.06444903e-01 9.61556704e-02\n",
      " 6.85249407e-02 1.76886158e-01 1.76038873e-01 2.42289633e-01\n",
      " 2.44054660e-01 2.17924490e-01 1.95477160e-01 3.41808534e-01\n",
      " 3.44823557e-01 3.27048684e-01 3.40653541e-01 1.81489594e-01\n",
      " 2.01427172e-01 2.15860076e-01 2.08514240e-01 2.04142225e-01\n",
      " 1.73983903e-01 1.49686658e-01 7.00846941e-02 1.35401198e-01\n",
      " 1.24919036e-01 1.28638304e-01 7.92444782e-02 7.66224675e-02\n",
      " 1.15365375e-01 1.36026494e-01 9.41778925e-02 5.90838112e-02\n",
      " 1.25085486e-01 1.83441794e-01 2.40149079e-01 1.80521488e-01\n",
      " 1.94025832e-01 2.01063119e-01 2.75880199e-01 2.68247080e-01\n",
      " 3.36697424e-01 3.31532755e-01 4.37031074e-01 4.22716014e-01\n",
      " 4.17287108e-01 4.14368387e-01 4.05541717e-01 4.19801516e-01\n",
      " 3.98727503e-01 3.50873493e-01 3.55146192e-01]\n",
      "[0.37547776 0.3718567  0.35351259 0.32699166 0.3355947  0.3283347\n",
      " 0.27959725 0.28560064 0.30629396 0.28029229 0.26906611 0.31118405\n",
      " 0.3670625  0.36767303 0.40060131 0.39389046 0.36304401 0.36784393\n",
      " 0.38202725 0.39349745 0.26819845 0.26311416 0.3575515  0.29314846\n",
      " 0.2919395  0.31104764 0.29030588 0.29879808 0.3109372  0.33953408\n",
      " 0.3827491  0.34395165 0.34698825 0.31429568 0.33362599 0.32776419\n",
      " 0.33379723 0.35122091 0.35676477 0.31100006 0.31782687 0.30948958\n",
      " 0.26526072 0.30863932 0.27690996 0.27936341 0.25885512 0.27035193\n",
      " 0.24276548 0.19123117 0.16514672 0.15296532 0.19035261 0.19308638\n",
      " 0.21731174 0.20673108 0.19124791 0.18065818 0.22341691 0.18650692\n",
      " 0.23903651 0.25734675 0.29614319 0.32166509 0.35584255 0.34531677\n",
      " 0.34526601 0.34097442 0.34781449 0.37088367 0.3862521  0.35969518\n",
      " 0.37569223 0.36328343 0.38492602 0.39073646 0.38203555 0.38784787\n",
      " 0.36669605 0.31362192 0.32292998 0.28030353 0.28263259 0.13304131\n",
      " 0.08554207 0.09278224 0.1048562  0.11794793 0.10558355 0.09442795\n",
      " 0.06292579 0.05055118 0.05796921 0.06361446 0.06888088 0.04276365\n",
      " 0.06061495 0.04361348 0.06952817 0.0759505  0.07122732 0.02807653\n",
      " 0.04216904 0.034646   0.04948326 0.01723042 0.02873119 0.02244212\n",
      " 0.05554608 0.05535582 0.09193043 0.11859719 0.11102994 0.09936022\n",
      " 0.10349935 0.0872907  0.07515068 0.08147501 0.09036763 0.09885284\n",
      " 0.15337024 0.15377193 0.12508085 0.07887331 0.14632665 0.09618274\n",
      " 0.12057844 0.08569465 0.13457422 0.09929286 0.06851016 0.07983114\n",
      " 0.0924176  0.05309772 0.01556228 0.03800049 0.0469237  0.00593963\n",
      " 0.0024708  0.00770658 0.00198169 0.00220318 0.03196522 0.06187956\n",
      " 0.16011606 0.16603304 0.16386469 0.17402719 0.16673904 0.14618814\n",
      " 0.14376476 0.17442454 0.07646917 0.08721033 0.08178098 0.09517577\n",
      " 0.10703843 0.04943387 0.16471922 0.14334536 0.14563199 0.14325228\n",
      " 0.10847719 0.10067177 0.10728722 0.08960073 0.11304196 0.09079889\n",
      " 0.09210162 0.0754788  0.09535067 0.06310955 0.06998549 0.08299195\n",
      " 0.11673875 0.11658666 0.12975217 0.13261924 0.16840491 0.14203952\n",
      " 0.16937263 0.2058762  0.17436781 0.19223508 0.15910136 0.16248464\n",
      " 0.15669317 0.11114368 0.1125532  0.12309786 0.10978406 0.12042064\n",
      " 0.08251795 0.05784286 0.09940915 0.11192391 0.0811596  0.07292297\n",
      " 0.03928575 0.04686589 0.07939234 0.08176258 0.08260465 0.08477098\n",
      " 0.07321231 0.11785079 0.10733749 0.09409868 0.08668866 0.05839865\n",
      " 0.10873151 0.07517835 0.0350292  0.06284625 0.07496149 0.07888799\n",
      " 0.11398422 0.09996396 0.12079476 0.15636309 0.15867462 0.13951656\n",
      " 0.13381323 0.12543596 0.12492832 0.09447227 0.08265317 0.074853\n",
      " 0.06044407 0.03522966 0.01945445 0.02320431 0.00136361 0.01169658\n",
      " 0.01869568 0.00941639 0.02010564 0.02714456 0.06676056 0.08020583\n",
      " 0.08309735 0.08314057 0.0964166  0.08158486 0.0723316  0.08337089\n",
      " 0.079547   0.09741572 0.06440988 0.05420509 0.05359147 0.07004005\n",
      " 0.1013626  0.10831971 0.13882002 0.12799297 0.14326899 0.15193729\n",
      " 0.16337741 0.16660774 0.1810865  0.16530408 0.20572243 0.18530753\n",
      " 0.18446515 0.18609231 0.1728008  0.16169818 0.15545852 0.15611461\n",
      " 0.1252135  0.11689305 0.0978295  0.10804362 0.11372461 0.13448722\n",
      " 0.10460883 0.14195815 0.10541085 0.11286958 0.13384776 0.15085712\n",
      " 0.18715061 0.16113555 0.17508015 0.12823559 0.11320276 0.10758445\n",
      " 0.09689047 0.12790393 0.11479904 0.12185257 0.14443791 0.13041967\n",
      " 0.10799432 0.12522246 0.15521986 0.11866434 0.10774442 0.11820669\n",
      " 0.10646207 0.11445827 0.15053648 0.17535618 0.21279814 0.17876415\n",
      " 0.18271227 0.15279356 0.15155186 0.22049939 0.23803653 0.26772667\n",
      " 0.26349531 0.23736076 0.22215309 0.22818786 0.22254795 0.23276905\n",
      " 0.24246425 0.27159947 0.26610058 0.2707924  0.27395754 0.2534266\n",
      " 0.24153503 0.25479296 0.18026705 0.18863007 0.18221948 0.19235434\n",
      " 0.17785384 0.15862709 0.12171084 0.15122123 0.04220268 0.05936598\n",
      " 0.05488385 0.05342026 0.07502439 0.06809541 0.0244838  0.05427997\n",
      " 0.01817486 0.01530215 0.00183181 0.01008275 0.0194558  0.00707932\n",
      " 0.00285449 0.01200647 0.00290219 0.01283981 0.0384905  0.04878308\n",
      " 0.04802219 0.06347606 0.01581905 0.00860017 0.0076159  0.00319989\n",
      " 0.03239973 0.0546453  0.02753423 0.03698569 0.02410578 0.03742517\n",
      " 0.01969825 0.03756811 0.03393335 0.05521481 0.04007628 0.03545365\n",
      " 0.01322525 0.03919462 0.0281398  0.00563478 0.00169084 0.02690981\n",
      " 0.05170742 0.02487539 0.00363833 0.00860739 0.00858692 0.02447724\n",
      " 0.03770071 0.01591976 0.01590312 0.01120218 0.00683868 0.02864457\n",
      " 0.01391627 0.00640221 0.00457078 0.02057895 0.0185548  0.0176356\n",
      " 0.01649124 0.00197981 0.01996893 0.00707246 0.00577365 0.0153376\n",
      " 0.00244947 0.0302451  0.09273703 0.09761955 0.08039999 0.07267896\n",
      " 0.09507572 0.10603269 0.10294699 0.11624775 0.09325521 0.08696044\n",
      " 0.08439103 0.08274891 0.08069642 0.0848753  0.04762111 0.07468821\n",
      " 0.0628167  0.05250814 0.033301   0.00608286 0.00765049 0.03866728\n",
      " 0.03610372 0.04538648 0.0485204  0.02461321 0.00762645 0.04113954\n",
      " 0.04202157 0.04828135 0.03694705 0.01834782 0.04257946 0.04408516\n",
      " 0.04332497 0.03278137 0.04214865 0.04903071 0.04465714 0.06236127\n",
      " 0.05442635 0.05003143 0.01741076 0.00498485 0.0181626  0.03904689\n",
      " 0.0333143  0.00268448 0.00155414 0.0231355  0.00909686 0.02277018\n",
      " 0.0015442  0.10903285 0.12075006 0.14102829 0.10852144 0.22013646\n",
      " 0.1718488  0.2108619  0.20843055 0.17570676 0.17704798 0.17280867\n",
      " 0.17093118 0.14441415 0.13841902 0.1706757  0.18283602 0.20493201\n",
      " 0.20900246 0.21869318 0.2279146  0.23034321 0.24390407 0.26608467\n",
      " 0.25787496 0.26374454 0.26314169 0.25404149 0.21720153 0.19126097\n",
      " 0.21664424 0.23332225 0.19606985 0.18235832 0.16981187 0.17195413\n",
      " 0.15857387 0.14786702 0.13003969 0.12941758 0.11452079 0.08334158\n",
      " 0.09162379 0.06855207 0.06904068 0.09450294 0.12673522]\n",
      "[2.10254739e-01 2.05794907e-01 2.44951805e-01 1.94974741e-01\n",
      " 2.05299454e-01 1.80158528e-01 1.98255906e-01 1.80309685e-01\n",
      " 1.84282498e-01 1.97894415e-01 1.90856182e-01 2.25964831e-01\n",
      " 2.53347923e-01 2.81211228e-01 2.63344073e-01 2.70637748e-01\n",
      " 2.52741271e-01 2.22069789e-01 2.07722494e-01 2.21605450e-01\n",
      " 2.30598853e-01 2.31787541e-01 2.60624097e-01 2.46401049e-01\n",
      " 2.44871318e-01 2.37525296e-01 2.39048764e-01 1.77642059e-01\n",
      " 1.89594195e-01 2.01720365e-01 2.29582552e-01 2.08230150e-01\n",
      " 2.20264666e-01 2.27509242e-01 2.29494803e-01 2.13918944e-01\n",
      " 2.19327905e-01 2.33612386e-01 2.31253367e-01 2.42500827e-01\n",
      " 2.53904477e-01 2.34792095e-01 2.14948905e-01 2.45230356e-01\n",
      " 2.43537237e-01 2.40454980e-01 2.29506855e-01 2.40827263e-01\n",
      " 2.24111528e-01 2.17981283e-01 2.20340372e-01 2.26793126e-01\n",
      " 2.26027768e-01 2.13098773e-01 2.27827513e-01 2.04013594e-01\n",
      " 1.96350683e-01 1.94390767e-01 2.00566416e-01 1.67831810e-01\n",
      " 1.64970791e-01 1.92038161e-01 2.12072076e-01 2.02067686e-01\n",
      " 2.27771287e-01 2.23652643e-01 2.13629776e-01 2.18982891e-01\n",
      " 2.19541670e-01 2.40733203e-01 2.40226993e-01 2.34676489e-01\n",
      " 2.44377406e-01 2.28708056e-01 2.37585229e-01 2.43584837e-01\n",
      " 2.41033075e-01 2.36623426e-01 2.33771817e-01 2.28428919e-01\n",
      " 2.25166482e-01 2.21876428e-01 2.18785246e-01 2.27041800e-01\n",
      " 2.12574121e-01 2.11814895e-01 2.28739459e-01 2.34656897e-01\n",
      " 2.05570714e-01 1.95358072e-01 1.85529542e-01 1.78710681e-01\n",
      " 1.92110673e-01 1.89811308e-01 1.84026268e-01 1.76683747e-01\n",
      " 1.90715172e-01 2.01216065e-01 2.25504824e-01 2.26984710e-01\n",
      " 1.94429901e-01 1.95487131e-01 2.00235315e-01 1.99640055e-01\n",
      " 2.03392536e-01 1.86280717e-01 1.80254792e-01 1.84964341e-01\n",
      " 1.85881902e-01 1.83298286e-01 1.65650551e-01 1.55035742e-01\n",
      " 1.41677738e-01 1.51397422e-01 1.62067261e-01 1.56921331e-01\n",
      " 1.68171857e-01 1.64447993e-01 1.63560175e-01 1.62379887e-01\n",
      " 1.32592887e-01 1.00749146e-01 1.10392016e-01 1.14139378e-01\n",
      " 1.12631437e-01 1.26429838e-01 1.19722479e-01 1.28158499e-01\n",
      " 1.26009796e-01 1.20545671e-01 1.38553758e-01 1.35551010e-01\n",
      " 1.32966072e-01 1.40900113e-01 1.40913904e-01 1.28451568e-01\n",
      " 1.25690498e-01 1.42002695e-01 1.31156799e-01 1.30911902e-01\n",
      " 1.35087446e-01 1.31354843e-01 1.41424269e-01 1.48861241e-01\n",
      " 1.94676597e-01 1.89107251e-01 1.97206301e-01 1.98641681e-01\n",
      " 2.04880201e-01 2.09397905e-01 2.02961665e-01 2.08714259e-01\n",
      " 1.85529110e-01 1.97770079e-01 1.76669420e-01 1.91829872e-01\n",
      " 1.99170884e-01 1.92952194e-01 2.02454933e-01 1.97516498e-01\n",
      " 1.91564579e-01 1.88494963e-01 1.81639341e-01 1.80156395e-01\n",
      " 1.72190782e-01 1.74763214e-01 1.74080626e-01 1.72788512e-01\n",
      " 1.86689210e-01 1.71059952e-01 1.44879919e-01 1.57614649e-01\n",
      " 1.70449321e-01 1.70812637e-01 1.95713848e-01 1.96492971e-01\n",
      " 2.02665412e-01 2.04082684e-01 2.09953018e-01 1.89852835e-01\n",
      " 1.92202454e-01 1.88031678e-01 1.95025121e-01 1.79765270e-01\n",
      " 1.83941738e-01 1.78055690e-01 1.86112975e-01 1.90878698e-01\n",
      " 1.96587504e-01 1.99553885e-01 2.00398524e-01 2.14759615e-01\n",
      " 2.08719675e-01 1.94434670e-01 2.07995710e-01 1.84757066e-01\n",
      " 1.90493111e-01 1.91041414e-01 1.84101538e-01 1.76327009e-01\n",
      " 1.99149010e-01 2.00395171e-01 2.10486930e-01 2.03024030e-01\n",
      " 2.06687588e-01 2.07629509e-01 1.89083588e-01 1.99810326e-01\n",
      " 1.85909510e-01 1.81120109e-01 1.80041332e-01 1.49274145e-01\n",
      " 1.39132798e-01 1.54966120e-01 1.92127142e-01 2.07314454e-01\n",
      " 1.78139851e-01 1.69208278e-01 1.34483633e-01 1.78470390e-01\n",
      " 1.51070812e-01 1.80692249e-01 1.72207186e-01 1.43735105e-01\n",
      " 1.46186193e-01 1.56492853e-01 1.60089017e-01 1.55651094e-01\n",
      " 1.52120145e-01 1.42868498e-01 1.20862251e-01 1.50563475e-01\n",
      " 1.44842190e-01 1.30444137e-01 1.29345683e-01 1.14714042e-01\n",
      " 1.18863908e-01 1.26939794e-01 1.43923187e-01 1.66785714e-01\n",
      " 1.53490056e-01 1.58040066e-01 1.77964976e-01 1.72482256e-01\n",
      " 1.63634815e-01 1.52798109e-01 1.51731842e-01 1.60535850e-01\n",
      " 1.66712103e-01 1.29902137e-01 1.14259993e-01 1.26066567e-01\n",
      " 1.31259800e-01 1.24128947e-01 1.52365824e-01 1.39949070e-01\n",
      " 1.31451392e-01 1.46715605e-01 1.17731838e-01 1.16352232e-01\n",
      " 1.00133503e-01 1.13272352e-01 9.34458508e-02 8.65628439e-02\n",
      " 6.34643008e-02 9.66672392e-02 9.47096886e-02 1.06657950e-01\n",
      " 1.09259481e-01 1.17966385e-01 1.34393358e-01 1.43237618e-01\n",
      " 1.43206296e-01 1.27161337e-01 1.12224188e-01 1.12061368e-01\n",
      " 1.25426704e-01 1.42444556e-01 1.47822575e-01 1.42073946e-01\n",
      " 1.47789189e-01 1.62982432e-01 1.86625736e-01 1.77445697e-01\n",
      " 1.93368437e-01 1.96813783e-01 1.91049152e-01 2.01427681e-01\n",
      " 1.98155688e-01 2.01726796e-01 1.95443990e-01 2.06402851e-01\n",
      " 2.25136752e-01 1.99162981e-01 2.10716432e-01 2.17232315e-01\n",
      " 1.99159505e-01 1.88952418e-01 1.91667942e-01 1.79151265e-01\n",
      " 1.88262606e-01 2.02384925e-01 1.92384714e-01 2.03772576e-01\n",
      " 2.13753724e-01 2.14174648e-01 1.83351954e-01 1.78391805e-01\n",
      " 1.91536555e-01 1.84146112e-01 1.81641424e-01 1.92597544e-01\n",
      " 2.15133885e-01 2.16150252e-01 2.20554518e-01 2.08354557e-01\n",
      " 2.13470681e-01 1.38127672e-01 1.45727223e-01 1.63619822e-01\n",
      " 1.74503023e-01 1.80318502e-01 1.70744522e-01 1.63861042e-01\n",
      " 1.57218458e-01 1.64815849e-01 1.45973133e-01 1.45756638e-01\n",
      " 1.33535145e-01 1.19649875e-01 1.21103222e-01 1.19926786e-01\n",
      " 1.19859325e-01 1.20243421e-01 9.22484721e-02 9.82764050e-02\n",
      " 1.02814155e-01 1.03603309e-01 1.03671821e-01 1.07138062e-01\n",
      " 1.06456759e-01 1.34293435e-01 1.05176753e-01 1.03815550e-01\n",
      " 9.73202759e-02 1.13194528e-01 1.20315476e-01 1.31733230e-01\n",
      " 1.35955902e-01 1.19068185e-01 1.11204596e-01 1.16966626e-01\n",
      " 1.09288795e-01 1.30190289e-01 1.24346303e-01 1.16329389e-01\n",
      " 1.24542660e-01 8.95423321e-02 7.69601971e-02 7.67363893e-02\n",
      " 7.06356082e-02 6.50585989e-02 7.37803081e-02 5.97869295e-02\n",
      " 6.83359045e-02 6.87709514e-02 5.36752292e-02 8.07543870e-02\n",
      " 7.33371442e-02 7.60327458e-02 6.57984677e-02 8.85350698e-02\n",
      " 8.11269573e-02 7.39770859e-02 8.37034946e-02 8.90681326e-02\n",
      " 6.04225276e-02 5.62289988e-02 3.90752256e-02 5.53482989e-02\n",
      " 4.01295497e-02 5.13823024e-02 4.66330125e-02 5.66114401e-02\n",
      " 4.45316278e-02 3.82171530e-02 2.29772315e-04 1.42266009e-02\n",
      " 3.57039907e-02 3.25686186e-02 4.28431185e-02 3.72058001e-02\n",
      " 3.14241016e-02 2.95126698e-02 4.95911724e-02 4.86130712e-02\n",
      " 3.39668620e-02 3.32522647e-02 1.04800613e-02 2.02586987e-02\n",
      " 1.95842123e-02 5.99104652e-02 3.15343769e-01 1.94573639e-01\n",
      " 1.58716548e-01 1.55470340e-01 2.13354549e-01 1.47334839e-01\n",
      " 1.34120888e-01 1.44903596e-01 1.43285091e-01 1.45319684e-01\n",
      " 1.23543481e-01 1.29680517e-01 1.54384817e-01 1.47202718e-01\n",
      " 1.37940648e-01 1.65882855e-01 1.94304322e-01 2.14746551e-01\n",
      " 2.25757414e-01 2.11773043e-01 1.96129563e-01 2.01514141e-01\n",
      " 2.03409093e-01 2.17194960e-01 2.25819750e-01 2.66325080e-01\n",
      " 2.81519116e-01 2.80760341e-01 2.83500080e-01 3.12731237e-01\n",
      " 3.25272366e-01 3.02547366e-01 2.52827262e-01 2.48932411e-01\n",
      " 2.11486147e-01 2.28478280e-01 2.62129147e-01 2.15683193e-01\n",
      " 2.07635250e-01 2.18817402e-01 3.08598757e-01 2.27320365e-01\n",
      " 2.03215897e-01 2.21963868e-01 2.21628058e-01 2.42101911e-01\n",
      " 2.23271640e-01 2.23095630e-01 2.09670112e-01 2.33628057e-01\n",
      " 2.35448216e-01 2.02951584e-01 2.19390820e-01 2.00863704e-01\n",
      " 2.24556993e-01 2.33063587e-01 2.38908872e-01 2.58748725e-01\n",
      " 2.52856374e-01 2.51790416e-01 2.36147475e-01 2.52170764e-01\n",
      " 2.61166383e-01 2.52170146e-01 2.43526384e-01 2.58271714e-01\n",
      " 1.32721869e-01 9.42673272e-02 7.58234725e-02 6.37167980e-02\n",
      " 7.39271702e-02 8.96994942e-02 8.28138291e-02 1.04339494e-01\n",
      " 8.39562435e-02 5.67743540e-02 6.30435364e-02 6.62999053e-02\n",
      " 5.79626803e-02 5.42029865e-02 3.05126922e-02 3.93922228e-02\n",
      " 1.13973192e-02 1.38886031e-02 3.54193737e-02 3.12321616e-02\n",
      " 2.90499566e-02 1.22487010e-02 1.40032972e-02 2.77274793e-02\n",
      " 7.42992177e-02 7.46109839e-02 6.37597673e-02 7.12464683e-02\n",
      " 6.32281614e-02 5.89071080e-02 8.76593401e-03 1.94373112e-02\n",
      " 2.14820231e-02 6.97057925e-03 1.82171081e-02]\n"
     ]
    }
   ],
   "source": [
    "for i in diff:\n",
    "    print(i)"
   ]
  },
  {
   "cell_type": "code",
   "execution_count": 23,
   "metadata": {},
   "outputs": [
    {
     "name": "stdout",
     "output_type": "stream",
     "text": [
      "average error in our case =  0.14700058615884565\n"
     ]
    }
   ],
   "source": [
    "print('average error in our case = ',np.mean(diff))"
   ]
  },
  {
   "cell_type": "code",
   "execution_count": 24,
   "metadata": {},
   "outputs": [],
   "source": [
    "random = np.random.uniform(0,1,(10,503))"
   ]
  },
  {
   "cell_type": "code",
   "execution_count": 25,
   "metadata": {},
   "outputs": [
    {
     "name": "stdout",
     "output_type": "stream",
     "text": [
      "average error in a random case =  0.3263207506854881\n"
     ]
    }
   ],
   "source": [
    "diff_random = abs(batch_x - random)\n",
    "print('average error in a random case = ',np.mean(diff_random))"
   ]
  },
  {
   "cell_type": "code",
   "execution_count": 26,
   "metadata": {},
   "outputs": [
    {
     "name": "stdout",
     "output_type": "stream",
     "text": [
      "[0.12401928282061282, 0.12523463025017184, 0.12942194777378924, 0.13286320880150287, 0.13747243632952535, 0.14181190764988208, 0.1568367766332634, 0.1631806568216993, 0.17358527887127995, 0.18557973563672975]\n"
     ]
    },
    {
     "data": {
      "image/png": "[encoded data removed]",
      "text/plain": [
       "<matplotlib.figure.Figure at 0x1a1e532d68>"
      ]
     },
     "metadata": {},
     "output_type": "display_data"
    }
   ],
   "source": [
    "sorted_by_value = []\n",
    "for i in range(len(p)):\n",
    "    sorted_by_value.append(np.mean(diff[i]))\n",
    "    \n",
    "    \n",
    "listou = sorted(sorted_by_value)\n",
    "print(listou)\n",
    "baba = ['a','b','c','d','e','f','g','h','i','j']\n",
    "plt.bar(baba,listou);"
   ]
  },
  {
   "cell_type": "code",
   "execution_count": null,
   "metadata": {
    "collapsed": true
   },
   "outputs": [],
   "source": []
  }
 ],
 "metadata": {
  "kernelspec": {
   "display_name": "Python 3",
   "language": "python",
   "name": "python3"
  },
  "language_info": {
   "codemirror_mode": {
    "name": "ipython",
    "version": 3
   },
   "file_extension": ".py",
   "mimetype": "text/x-python",
   "name": "python",
   "nbconvert_exporter": "python",
   "pygments_lexer": "ipython3",
   "version": "3.6.4"
  }
 },
 "nbformat": 4,
 "nbformat_minor": 2
}
